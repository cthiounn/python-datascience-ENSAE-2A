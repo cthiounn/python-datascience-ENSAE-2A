{
 "cells": [
  {
   "cell_type": "code",
   "execution_count": null,
   "id": "a82b95d8-23e3-4fc5-be50-631f5e28656f",
   "metadata": {},
   "outputs": [],
   "source": [
    "import seaborn as sns\n",
    "import matplotlib.pyplot as plt\n",
    "\n",
    "%store -r donnees_2018\n",
    "\n",
    "sns.boxplot(data=donnees_2018['Total des crimes et délits relevés par la Police Nationale'])\n",
    "plt.ylabel('Total des crimes et délits relevés par la Police Nationale')\n"
   ]
  },
  {
   "cell_type": "code",
   "execution_count": null,
   "id": "9a1f302d-b49e-405f-af9c-34f7e3b9d45a",
   "metadata": {},
   "outputs": [],
   "source": [
    "sns.boxplot(data=donnees_2018['Total des crimes et délits relevés par la Gendarmerie Nationale'])\n",
    "plt.ylabel('Total des crimes et délits relevés par la Gendarmerie Nationale')"
   ]
  },
  {
   "cell_type": "code",
   "execution_count": null,
   "id": "4acb604c-d74f-4e8d-a6ea-47324925ce74",
   "metadata": {},
   "outputs": [],
   "source": [
    "sns.boxplot(data=donnees_2018['MED18'])\n",
    "plt.ylabel('Médiane des revenus')"
   ]
  },
  {
   "cell_type": "code",
   "execution_count": null,
   "id": "092ccbdc-00f2-4d44-ae89-f8717833cc4a",
   "metadata": {},
   "outputs": [],
   "source": [
    "sns.boxplot(data=donnees_2018['NbBoucheriesParDep'])\n",
    "plt.ylabel('Nombre de boucheries par département')"
   ]
  },
  {
   "cell_type": "code",
   "execution_count": null,
   "id": "2b562f45-df7f-4f60-9536-8d6528ad08c8",
   "metadata": {},
   "outputs": [],
   "source": [
    "import sklearn\n",
    "from sklearn.model_selection import train_test_split\n",
    "from sklearn.linear_model import LinearRegression\n",
    "from sklearn.model_selection import cross_val_score\n",
    "from sklearn.model_selection import KFold\n",
    "import sklearn.metrics as metrics\n",
    "\n",
    "df_train, df_test = train_test_split(donnees_2018, \n",
    "                                     train_size = 0.7, \n",
    "                                     test_size = 0.3\n",
    "                                    )\n",
    "\n",
    "X_train=df_train.iloc[:,-1].to_numpy().reshape(-1, 1)\n",
    "y_train=df_train.iloc[:,1].to_numpy()\n",
    "display(df_train.iloc[:,-1])\n",
    "lm = LinearRegression()\n",
    "lm.fit(X_train, y_train)\n",
    "\n",
    "X_test=df_test.iloc[:,-1].to_numpy().reshape(-1, 1)\n",
    "y_test=df_test.iloc[:,1].to_numpy() \n",
    "Y_pred=lm.predict(X_test)\n",
    "\n",
    "print(lm.coef_)\n",
    "print(y_test,Y_pred)\n",
    "r2 = sklearn.metrics.r2_score(y_test,Y_pred )\n",
    "print(r2)\n",
    "\n",
    "\n",
    "\n",
    "# Regression metrics\n",
    "explained_variance=metrics.explained_variance_score(y_test, Y_pred)\n",
    "mean_absolute_error=metrics.mean_absolute_error(y_test, Y_pred) \n",
    "mse=metrics.mean_squared_error(y_test, Y_pred) \n",
    "mean_squared_log_error=metrics.mean_squared_log_error(y_test, Y_pred)\n",
    "median_absolute_error=metrics.median_absolute_error(y_test, Y_pred)\n",
    "r2=metrics.r2_score(y_test, Y_pred)\n",
    "\n",
    "print('explained_variance: ', round(explained_variance,4))    \n",
    "print('mean_squared_log_error: ', round(mean_squared_log_error,4))\n",
    "print('r2: ', round(r2,4))\n",
    "print('MAE: ', round(mean_absolute_error,4))\n",
    "print('MSE: ', round(mse,4))\n",
    "print('RMSE: ', round(np.sqrt(mse),4))"
   ]
  }
 ],
 "metadata": {
  "kernelspec": {
   "display_name": "Python 3 (ipykernel)",
   "language": "python",
   "name": "python3"
  },
  "language_info": {
   "codemirror_mode": {
    "name": "ipython",
    "version": 3
   },
   "file_extension": ".py",
   "mimetype": "text/x-python",
   "name": "python",
   "nbconvert_exporter": "python",
   "pygments_lexer": "ipython3",
   "version": "3.9.7"
  }
 },
 "nbformat": 4,
 "nbformat_minor": 5
}
