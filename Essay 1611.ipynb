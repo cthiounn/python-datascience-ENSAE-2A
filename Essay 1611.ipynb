{
 "cells": [
  {
   "cell_type": "code",
   "execution_count": 1,
   "id": "a2158ff6-f1eb-41a1-8b65-1a057a635f0e",
   "metadata": {},
   "outputs": [
    {
     "name": "stdout",
     "output_type": "stream",
     "text": [
      "Requirement already satisfied: pynsee in /opt/conda/lib/python3.9/site-packages (0.0.1)\n",
      "Requirement already satisfied: requests>=2.25.1 in /opt/conda/lib/python3.9/site-packages (from pynsee) (2.26.0)\n",
      "Requirement already satisfied: pandas>=0.24.2 in /opt/conda/lib/python3.9/site-packages (from pynsee) (1.3.4)\n",
      "Requirement already satisfied: unidecode>=1.2.0 in /opt/conda/lib/python3.9/site-packages (from pynsee) (1.3.2)\n",
      "Requirement already satisfied: datetime>=3.5.9 in /opt/conda/lib/python3.9/site-packages (from pynsee) (4.3)\n",
      "Requirement already satisfied: appdirs>=1.4.4 in /opt/conda/lib/python3.9/site-packages (from pynsee) (1.4.4)\n",
      "Requirement already satisfied: tqdm>=4.56.0 in /opt/conda/lib/python3.9/site-packages (from pynsee) (4.62.3)\n",
      "Requirement already satisfied: pyyaml>=5.4.1 in /opt/conda/lib/python3.9/site-packages (from pynsee) (6.0)\n",
      "Requirement already satisfied: pathlib2>=2.3.5 in /opt/conda/lib/python3.9/site-packages (from pynsee) (2.3.6)\n",
      "Requirement already satisfied: zope.interface in /opt/conda/lib/python3.9/site-packages (from datetime>=3.5.9->pynsee) (5.4.0)\n",
      "Requirement already satisfied: pytz in /opt/conda/lib/python3.9/site-packages (from datetime>=3.5.9->pynsee) (2021.3)\n",
      "Requirement already satisfied: python-dateutil>=2.7.3 in /opt/conda/lib/python3.9/site-packages (from pandas>=0.24.2->pynsee) (2.8.2)\n",
      "Requirement already satisfied: numpy>=1.17.3 in /opt/conda/lib/python3.9/site-packages (from pandas>=0.24.2->pynsee) (1.21.4)\n",
      "Requirement already satisfied: six in /opt/conda/lib/python3.9/site-packages (from pathlib2>=2.3.5->pynsee) (1.16.0)\n",
      "Requirement already satisfied: certifi>=2017.4.17 in /opt/conda/lib/python3.9/site-packages (from requests>=2.25.1->pynsee) (2021.10.8)\n",
      "Requirement already satisfied: charset-normalizer~=2.0.0 in /opt/conda/lib/python3.9/site-packages (from requests>=2.25.1->pynsee) (2.0.7)\n",
      "Requirement already satisfied: idna<4,>=2.5 in /opt/conda/lib/python3.9/site-packages (from requests>=2.25.1->pynsee) (3.3)\n",
      "Requirement already satisfied: urllib3<1.27,>=1.21.1 in /opt/conda/lib/python3.9/site-packages (from requests>=2.25.1->pynsee) (1.26.7)\n",
      "Requirement already satisfied: setuptools in /opt/conda/lib/python3.9/site-packages (from zope.interface->datetime>=3.5.9->pynsee) (58.5.3)\n",
      "Note: you may need to restart the kernel to use updated packages.\n"
     ]
    }
   ],
   "source": [
    "pip install pynsee"
   ]
  }
 ],
 "metadata": {
  "kernelspec": {
   "display_name": "Python 3 (ipykernel)",
   "language": "python",
   "name": "python3"
  },
  "language_info": {
   "codemirror_mode": {
    "name": "ipython",
    "version": 3
   },
   "file_extension": ".py",
   "mimetype": "text/x-python",
   "name": "python",
   "nbconvert_exporter": "python",
   "pygments_lexer": "ipython3",
   "version": "3.9.7"
  }
 },
 "nbformat": 4,
 "nbformat_minor": 5
}
