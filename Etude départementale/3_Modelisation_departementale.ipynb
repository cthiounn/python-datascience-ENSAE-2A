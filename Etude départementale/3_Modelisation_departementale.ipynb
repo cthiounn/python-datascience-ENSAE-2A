{
 "cells": [
  {
   "cell_type": "code",
   "execution_count": 47,
   "id": "ef8b01e4-4a70-46ef-8904-4449c3b95a35",
   "metadata": {},
   "outputs": [],
   "source": [
    "from sklearn.linear_model import LinearRegression\n",
    "from sklearn.model_selection import train_test_split\n",
    "import matplotlib.pyplot as plt\n",
    "import seaborn as sns\n",
    "import scipy.stats as stats\n",
    "import numpy as np"
   ]
  },
  {
   "cell_type": "code",
   "execution_count": 48,
   "id": "f7417eb0-1fbf-40b9-8124-147eeb71682f",
   "metadata": {},
   "outputs": [
    {
     "data": {
      "text/html": [
       "<div>\n",
       "<style scoped>\n",
       "    .dataframe tbody tr th:only-of-type {\n",
       "        vertical-align: middle;\n",
       "    }\n",
       "\n",
       "    .dataframe tbody tr th {\n",
       "        vertical-align: top;\n",
       "    }\n",
       "\n",
       "    .dataframe thead th {\n",
       "        text-align: right;\n",
       "    }\n",
       "</style>\n",
       "<table border=\"1\" class=\"dataframe\">\n",
       "  <thead>\n",
       "    <tr style=\"text-align: right;\">\n",
       "      <th></th>\n",
       "      <th>REG</th>\n",
       "      <th>Libellé</th>\n",
       "      <th>MED18</th>\n",
       "      <th>TP6018</th>\n",
       "      <th>D118</th>\n",
       "      <th>D918</th>\n",
       "      <th>RD18</th>\n",
       "      <th>T1_2018</th>\n",
       "      <th>Nb_PN_GN_dep_100k_hab</th>\n",
       "      <th>Crim_Del_PN_GN</th>\n",
       "      <th>Nb_Boucherie_dep_hab</th>\n",
       "      <th>Crim_Del_GN_hab</th>\n",
       "      <th>Crim_Del_PN_hab</th>\n",
       "      <th>Crim_Del_PN_GN_hab</th>\n",
       "    </tr>\n",
       "  </thead>\n",
       "  <tbody>\n",
       "    <tr>\n",
       "      <th>01</th>\n",
       "      <td>Auvergne-Rhône-Alpes</td>\n",
       "      <td>AIN</td>\n",
       "      <td>23420</td>\n",
       "      <td>10.3</td>\n",
       "      <td>12900</td>\n",
       "      <td>44080</td>\n",
       "      <td>3.4</td>\n",
       "      <td>6.4</td>\n",
       "      <td>200.0</td>\n",
       "      <td>26087.0</td>\n",
       "      <td>32.0</td>\n",
       "      <td>3045.0</td>\n",
       "      <td>885.0</td>\n",
       "      <td>3930.0</td>\n",
       "    </tr>\n",
       "    <tr>\n",
       "      <th>02</th>\n",
       "      <td>Hauts-de-France</td>\n",
       "      <td>AISNE</td>\n",
       "      <td>19690</td>\n",
       "      <td>18.4</td>\n",
       "      <td>10730</td>\n",
       "      <td>33170</td>\n",
       "      <td>3.1</td>\n",
       "      <td>13.0</td>\n",
       "      <td>300.0</td>\n",
       "      <td>25842.0</td>\n",
       "      <td>22.0</td>\n",
       "      <td>2511.0</td>\n",
       "      <td>2227.0</td>\n",
       "      <td>4739.0</td>\n",
       "    </tr>\n",
       "    <tr>\n",
       "      <th>03</th>\n",
       "      <td>Auvergne-Rhône-Alpes</td>\n",
       "      <td>ALLIER</td>\n",
       "      <td>20360</td>\n",
       "      <td>15.5</td>\n",
       "      <td>11360</td>\n",
       "      <td>33600</td>\n",
       "      <td>3.0</td>\n",
       "      <td>9.7</td>\n",
       "      <td>410.0</td>\n",
       "      <td>13416.0</td>\n",
       "      <td>30.0</td>\n",
       "      <td>1578.0</td>\n",
       "      <td>2298.0</td>\n",
       "      <td>3876.0</td>\n",
       "    </tr>\n",
       "    <tr>\n",
       "      <th>04</th>\n",
       "      <td>Provence-Alpes-Côte d'Azur</td>\n",
       "      <td>ALPES-DE-HAUTE-PROVENCE</td>\n",
       "      <td>20580</td>\n",
       "      <td>16.8</td>\n",
       "      <td>11060</td>\n",
       "      <td>35380</td>\n",
       "      <td>3.2</td>\n",
       "      <td>11.0</td>\n",
       "      <td>390.0</td>\n",
       "      <td>8367.0</td>\n",
       "      <td>46.0</td>\n",
       "      <td>3326.0</td>\n",
       "      <td>1636.0</td>\n",
       "      <td>4962.0</td>\n",
       "    </tr>\n",
       "    <tr>\n",
       "      <th>05</th>\n",
       "      <td>Provence-Alpes-Côte d'Azur</td>\n",
       "      <td>HAUTES-ALPES</td>\n",
       "      <td>20880</td>\n",
       "      <td>13.9</td>\n",
       "      <td>11800</td>\n",
       "      <td>35410</td>\n",
       "      <td>3.0</td>\n",
       "      <td>8.6</td>\n",
       "      <td>450.0</td>\n",
       "      <td>6591.0</td>\n",
       "      <td>47.0</td>\n",
       "      <td>2527.0</td>\n",
       "      <td>2009.0</td>\n",
       "      <td>4536.0</td>\n",
       "    </tr>\n",
       "    <tr>\n",
       "      <th>...</th>\n",
       "      <td>...</td>\n",
       "      <td>...</td>\n",
       "      <td>...</td>\n",
       "      <td>...</td>\n",
       "      <td>...</td>\n",
       "      <td>...</td>\n",
       "      <td>...</td>\n",
       "      <td>...</td>\n",
       "      <td>...</td>\n",
       "      <td>...</td>\n",
       "      <td>...</td>\n",
       "      <td>...</td>\n",
       "      <td>...</td>\n",
       "      <td>...</td>\n",
       "    </tr>\n",
       "    <tr>\n",
       "      <th>91</th>\n",
       "      <td>Île-de-France</td>\n",
       "      <td>ESSONNE</td>\n",
       "      <td>23920</td>\n",
       "      <td>13.1</td>\n",
       "      <td>11880</td>\n",
       "      <td>42180</td>\n",
       "      <td>3.6</td>\n",
       "      <td>7.3</td>\n",
       "      <td>300.0</td>\n",
       "      <td>69610.0</td>\n",
       "      <td>22.0</td>\n",
       "      <td>1184.0</td>\n",
       "      <td>4125.0</td>\n",
       "      <td>5310.0</td>\n",
       "    </tr>\n",
       "    <tr>\n",
       "      <th>92</th>\n",
       "      <td>Île-de-France</td>\n",
       "      <td>HAUTS-DE-SEINE</td>\n",
       "      <td>28040</td>\n",
       "      <td>11.9</td>\n",
       "      <td>12220</td>\n",
       "      <td>60580</td>\n",
       "      <td>5.0</td>\n",
       "      <td>7.0</td>\n",
       "      <td>440.0</td>\n",
       "      <td>110533.0</td>\n",
       "      <td>23.0</td>\n",
       "      <td>NaN</td>\n",
       "      <td>6758.0</td>\n",
       "      <td>6758.0</td>\n",
       "    </tr>\n",
       "    <tr>\n",
       "      <th>93</th>\n",
       "      <td>Île-de-France</td>\n",
       "      <td>SEINE-SAINT-DENIS</td>\n",
       "      <td>17740</td>\n",
       "      <td>28.4</td>\n",
       "      <td>8910</td>\n",
       "      <td>33960</td>\n",
       "      <td>3.8</td>\n",
       "      <td>12.0</td>\n",
       "      <td>340.0</td>\n",
       "      <td>141638.0</td>\n",
       "      <td>36.0</td>\n",
       "      <td>NaN</td>\n",
       "      <td>8640.0</td>\n",
       "      <td>8640.0</td>\n",
       "    </tr>\n",
       "    <tr>\n",
       "      <th>94</th>\n",
       "      <td>Île-de-France</td>\n",
       "      <td>VAL-DE-MARNE</td>\n",
       "      <td>22880</td>\n",
       "      <td>16.6</td>\n",
       "      <td>10790</td>\n",
       "      <td>44900</td>\n",
       "      <td>4.2</td>\n",
       "      <td>8.3</td>\n",
       "      <td>380.0</td>\n",
       "      <td>89604.0</td>\n",
       "      <td>26.0</td>\n",
       "      <td>NaN</td>\n",
       "      <td>6374.0</td>\n",
       "      <td>6374.0</td>\n",
       "    </tr>\n",
       "    <tr>\n",
       "      <th>95</th>\n",
       "      <td>Île-de-France</td>\n",
       "      <td>VAL-D'OISE</td>\n",
       "      <td>21970</td>\n",
       "      <td>17.2</td>\n",
       "      <td>10750</td>\n",
       "      <td>39370</td>\n",
       "      <td>3.7</td>\n",
       "      <td>9.5</td>\n",
       "      <td>440.0</td>\n",
       "      <td>80623.0</td>\n",
       "      <td>27.0</td>\n",
       "      <td>1122.0</td>\n",
       "      <td>5333.0</td>\n",
       "      <td>6456.0</td>\n",
       "    </tr>\n",
       "  </tbody>\n",
       "</table>\n",
       "<p>96 rows × 14 columns</p>\n",
       "</div>"
      ],
      "text/plain": [
       "                           REG                  Libellé  MED18  TP6018   D118  \\\n",
       "01        Auvergne-Rhône-Alpes                      AIN  23420    10.3  12900   \n",
       "02             Hauts-de-France                    AISNE  19690    18.4  10730   \n",
       "03        Auvergne-Rhône-Alpes                   ALLIER  20360    15.5  11360   \n",
       "04  Provence-Alpes-Côte d'Azur  ALPES-DE-HAUTE-PROVENCE  20580    16.8  11060   \n",
       "05  Provence-Alpes-Côte d'Azur             HAUTES-ALPES  20880    13.9  11800   \n",
       "..                         ...                      ...    ...     ...    ...   \n",
       "91               Île-de-France                  ESSONNE  23920    13.1  11880   \n",
       "92               Île-de-France           HAUTS-DE-SEINE  28040    11.9  12220   \n",
       "93               Île-de-France        SEINE-SAINT-DENIS  17740    28.4   8910   \n",
       "94               Île-de-France             VAL-DE-MARNE  22880    16.6  10790   \n",
       "95               Île-de-France               VAL-D'OISE  21970    17.2  10750   \n",
       "\n",
       "     D918  RD18  T1_2018  Nb_PN_GN_dep_100k_hab  Crim_Del_PN_GN  \\\n",
       "01  44080   3.4      6.4                  200.0         26087.0   \n",
       "02  33170   3.1     13.0                  300.0         25842.0   \n",
       "03  33600   3.0      9.7                  410.0         13416.0   \n",
       "04  35380   3.2     11.0                  390.0          8367.0   \n",
       "05  35410   3.0      8.6                  450.0          6591.0   \n",
       "..    ...   ...      ...                    ...             ...   \n",
       "91  42180   3.6      7.3                  300.0         69610.0   \n",
       "92  60580   5.0      7.0                  440.0        110533.0   \n",
       "93  33960   3.8     12.0                  340.0        141638.0   \n",
       "94  44900   4.2      8.3                  380.0         89604.0   \n",
       "95  39370   3.7      9.5                  440.0         80623.0   \n",
       "\n",
       "    Nb_Boucherie_dep_hab  Crim_Del_GN_hab  Crim_Del_PN_hab  Crim_Del_PN_GN_hab  \n",
       "01                  32.0           3045.0            885.0              3930.0  \n",
       "02                  22.0           2511.0           2227.0              4739.0  \n",
       "03                  30.0           1578.0           2298.0              3876.0  \n",
       "04                  46.0           3326.0           1636.0              4962.0  \n",
       "05                  47.0           2527.0           2009.0              4536.0  \n",
       "..                   ...              ...              ...                 ...  \n",
       "91                  22.0           1184.0           4125.0              5310.0  \n",
       "92                  23.0              NaN           6758.0              6758.0  \n",
       "93                  36.0              NaN           8640.0              8640.0  \n",
       "94                  26.0              NaN           6374.0              6374.0  \n",
       "95                  27.0           1122.0           5333.0              6456.0  \n",
       "\n",
       "[96 rows x 14 columns]"
      ]
     },
     "execution_count": 48,
     "metadata": {},
     "output_type": "execute_result"
    }
   ],
   "source": [
    "%store -r donnees_2018_hab\n",
    "%store -r donnees_2018\n",
    "donnees_2018_hab"
   ]
  },
  {
   "cell_type": "code",
   "execution_count": 49,
   "id": "58c4801d-1b86-4f17-a42e-7ae430f92462",
   "metadata": {},
   "outputs": [
    {
     "data": {
      "text/plain": [
       "Index(['MED18', 'TP6018', 'D118', 'D918', 'RD18', 'T1_2018',\n",
       "       'Nb_PN_GN_dep_100k_hab', 'Nb_Boucherie_dep_hab', 'Crim_Del_PN_GN_hab'],\n",
       "      dtype='object')"
      ]
     },
     "execution_count": 49,
     "metadata": {},
     "output_type": "execute_result"
    }
   ],
   "source": [
    "donnees_2018_hab=donnees_2018_hab.drop(columns=['REG', 'Libellé','Crim_Del_PN_GN','Crim_Del_GN_hab','Crim_Del_PN_hab'])\n",
    "donnees_2018_hab.columns"
   ]
  },
  {
   "cell_type": "markdown",
   "id": "f05fcdbe-ca2b-477e-bee2-9a3dad672bbe",
   "metadata": {},
   "source": [
    "# 1 - Approche économétrique\n",
    "\n",
    "Dans une première approché économétrique, nous essayons de prédire le nombre de crimes à partir du nombre de boucherie et des autres variables de controles"
   ]
  },
  {
   "cell_type": "code",
   "execution_count": 50,
   "id": "73e928df-2a5d-4e34-9b6b-09bb23efd334",
   "metadata": {},
   "outputs": [
    {
     "data": {
      "text/plain": [
       "array([[4079.59842463],\n",
       "       [5010.7073221 ],\n",
       "       [5260.56787274],\n",
       "       [3481.70975835],\n",
       "       [3653.76883601],\n",
       "       [4379.30723881],\n",
       "       [5381.2775834 ],\n",
       "       [4748.3724112 ],\n",
       "       [3909.96950299],\n",
       "       [3084.44391602],\n",
       "       [3649.81594998],\n",
       "       [4186.74739721],\n",
       "       [5735.44105269],\n",
       "       [9382.49490762],\n",
       "       [3710.6959081 ],\n",
       "       [4084.20264424],\n",
       "       [3277.67057597],\n",
       "       [3486.60482748],\n",
       "       [4304.56555845],\n",
       "       [4177.95981474],\n",
       "       [4967.32205774],\n",
       "       [4493.50309597],\n",
       "       [4042.33513897],\n",
       "       [4010.4640495 ],\n",
       "       [4640.56528804],\n",
       "       [4462.59271743],\n",
       "       [4398.09084146],\n",
       "       [4062.84671691],\n",
       "       [4676.06474026]])"
      ]
     },
     "execution_count": 50,
     "metadata": {},
     "output_type": "execute_result"
    }
   ],
   "source": [
    "# Code from https://towardsdatascience.com/simulating-replicating-r-regression-plot-in-python-using-sklearn-4ee48a15b67\n",
    "\n",
    "lm = LinearRegression()\n",
    "\n",
    "\n",
    "df_train, df_test = train_test_split(donnees_2018_hab, \n",
    "                                     train_size = 0.7, \n",
    "                                     test_size = 0.3\n",
    "                                    )\n",
    "\n",
    "X_train=df_train[['MED18', 'TP6018', 'D118', 'D918', 'RD18', 'T1_2018',\n",
    "       'Nb_PN_GN_dep_100k_hab', 'Nb_Boucherie_dep_hab']]\n",
    "y_train=df_train[['Crim_Del_PN_GN_hab']]\n",
    "\n",
    "lm.fit(X_train, y_train)\n",
    "\n",
    "X_test=df_test[['MED18', 'TP6018', 'D118', 'D918', 'RD18', 'T1_2018',\n",
    "       'Nb_PN_GN_dep_100k_hab', 'Nb_Boucherie_dep_hab']]\n",
    "y_test=df_test[['Crim_Del_PN_GN_hab']]\n",
    "\n",
    "# # for predictions\n",
    "predictions = lm.predict(X_test)\n",
    "predictions"
   ]
  },
  {
   "cell_type": "code",
   "execution_count": 51,
   "id": "68eb97ec-58bb-44ed-bde9-7f8039f3924d",
   "metadata": {},
   "outputs": [
    {
     "name": "stderr",
     "output_type": "stream",
     "text": [
      "/opt/conda/lib/python3.9/site-packages/seaborn/_decorators.py:36: FutureWarning: Pass the following variables as keyword args: x, y. From version 0.12, the only valid positional argument will be `data`, and passing other arguments without an explicit keyword will result in an error or misinterpretation.\n",
      "  warnings.warn(\n"
     ]
    },
    {
     "data": {
      "text/plain": [
       "Text(0.5, 1.0, 'Residual plot')"
      ]
     },
     "execution_count": 51,
     "metadata": {},
     "output_type": "execute_result"
    },
    {
     "data": {
      "image/png": "[encoded data removed]",
      "text/plain": [
       "<Figure size 432x288 with 1 Axes>"
      ]
     },
     "metadata": {
      "needs_background": "light"
     },
     "output_type": "display_data"
    }
   ],
   "source": [
    "\n",
    "\n",
    "sns.residplot(predictions.reshape(-1),'Crim_Del_PN_GN_hab', data=df_test,lowess=True,\n",
    "                                  line_kws={'color': 'red', 'lw': 1, 'alpha': 1})\n",
    "plt.xlabel(\"Fitted values\")\n",
    "plt.title('Residual plot')"
   ]
  },
  {
   "cell_type": "code",
   "execution_count": 52,
   "id": "2c17af4b-5e88-406e-a0f4-d86fd7ad663a",
   "metadata": {},
   "outputs": [
    {
     "data": {
      "text/plain": [
       "Text(0.5, 1.0, 'Normal Q-Q Plot')"
      ]
     },
     "execution_count": 52,
     "metadata": {},
     "output_type": "execute_result"
    },
    {
     "data": {
      "image/png": "[encoded data removed]",
      "text/plain": [
       "<Figure size 504x504 with 1 Axes>"
      ]
     },
     "metadata": {
      "needs_background": "light"
     },
     "output_type": "display_data"
    }
   ],
   "source": [
    "residuals = df_test[\"Crim_Del_PN_GN_hab\"] - predictions.reshape(-1)\n",
    "residuals\n",
    "\n",
    "plt.figure(figsize=(7,7))\n",
    "stats.probplot(residuals, dist=\"norm\", plot=plt)\n",
    "plt.title(\"Normal Q-Q Plot\")"
   ]
  },
  {
   "cell_type": "code",
   "execution_count": 53,
   "id": "be4da845-c6be-4b5b-929a-b73c42a5ad31",
   "metadata": {},
   "outputs": [
    {
     "name": "stderr",
     "output_type": "stream",
     "text": [
      "/opt/conda/lib/python3.9/site-packages/seaborn/_decorators.py:36: FutureWarning: Pass the following variables as keyword args: x, y. From version 0.12, the only valid positional argument will be `data`, and passing other arguments without an explicit keyword will result in an error or misinterpretation.\n",
      "  warnings.warn(\n"
     ]
    },
    {
     "data": {
      "text/plain": [
       "Text(0.5, 0, 'Fitted value')"
      ]
     },
     "execution_count": 53,
     "metadata": {},
     "output_type": "execute_result"
    },
    {
     "data": {
      "image/png": "[encoded data removed]",
      "text/plain": [
       "<Figure size 504x504 with 1 Axes>"
      ]
     },
     "metadata": {
      "needs_background": "light"
     },
     "output_type": "display_data"
    }
   ],
   "source": [
    "model_norm_residuals_abs_sqrt=np.sqrt(np.abs(residuals))\n",
    "\n",
    "plt.figure(figsize=(7,7))\n",
    "sns.regplot(predictions.reshape(-1), model_norm_residuals_abs_sqrt,\n",
    "              scatter=True,\n",
    "              lowess=True,\n",
    "              line_kws={'color': 'red', 'lw': 1, 'alpha': 0.8})\n",
    "plt.ylabel(\"Standarized residuals\")\n",
    "plt.xlabel(\"Fitted value\")"
   ]
  }
 ],
 "metadata": {
  "kernelspec": {
   "display_name": "Python 3 (ipykernel)",
   "language": "python",
   "name": "python3"
  },
  "language_info": {
   "codemirror_mode": {
    "name": "ipython",
    "version": 3
   },
   "file_extension": ".py",
   "mimetype": "text/x-python",
   "name": "python",
   "nbconvert_exporter": "python",
   "pygments_lexer": "ipython3",
   "version": "3.9.7"
  }
 },
 "nbformat": 4,
 "nbformat_minor": 5
}
