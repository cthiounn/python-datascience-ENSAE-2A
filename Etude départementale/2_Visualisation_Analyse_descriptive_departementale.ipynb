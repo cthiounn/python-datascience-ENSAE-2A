{
 "cells": [
  {
   "cell_type": "markdown",
   "id": "503ba2ba-4896-4042-a323-1a5edfd27aa7",
   "metadata": {},
   "source": [
    "# Chapitre 2 - Visualisation et Analyse descriptive des données départementales"
   ]
  },
  {
   "cell_type": "code",
   "execution_count": null,
   "id": "bc5f8888-9e81-4b9c-9e34-7cc1e2ab3f58",
   "metadata": {},
   "outputs": [],
   "source": [
    "# Paramètre(s) du notebook\n",
    "\n",
    "# VERBOSE=True\n",
    "VERBOSE=False\n",
    "\n",
    "OPTIONS=\"\"\n",
    "if not VERBOSE:\n",
    "    OPTIONS=\"--quiet\"\n"
   ]
  },
  {
   "cell_type": "code",
   "execution_count": null,
   "id": "7330c184-aafe-4c6a-b6c1-343d76fd34ed",
   "metadata": {},
   "outputs": [],
   "source": [
    "!pip install geopandas $OPTIONS\n",
    "!pip install plotly $OPTIONS\n",
    "!pip install seaborn $OPTIONS\n",
    "!pip install missingno $OPTIONS"
   ]
  },
  {
   "cell_type": "code",
   "execution_count": null,
   "id": "619718e6-a77f-4ab9-8831-d98c25fcfb30",
   "metadata": {},
   "outputs": [],
   "source": [
    "import matplotlib.pyplot as plt\n",
    "import geopandas as gpd\n",
    "import seaborn as sns\n",
    "import plotly.express as px\n",
    "import numpy as np\n",
    "from IPython.core.display import display, HTML\n",
    "import pandas as pd\n",
    "import missingno as msno"
   ]
  },
  {
   "cell_type": "code",
   "execution_count": null,
   "id": "c105f06a-f4b8-4995-856b-277efae66a2e",
   "metadata": {},
   "outputs": [],
   "source": [
    "DEPARTEMENTS_IDF=['75','77','78','91','92','93','94','95']"
   ]
  },
  {
   "cell_type": "markdown",
   "id": "33bab6a2-879d-41da-b881-a03386d0c9fa",
   "metadata": {},
   "source": [
    "## 1) Chargement des données (Récup_données) et téléchargement de la localisation des départements français (restreint au champ métropolitain puis champ Ile de France)"
   ]
  },
  {
   "cell_type": "code",
   "execution_count": null,
   "id": "572dfbf0-4b2a-4134-a250-16aa618d9a3a",
   "metadata": {},
   "outputs": [],
   "source": [
    "%store -r donnees_2018_hab\n",
    "donnees_2018_hab"
   ]
  },
  {
   "cell_type": "code",
   "execution_count": null,
   "id": "04ba9184-e9ac-4650-9f19-9bc77a32b6e2",
   "metadata": {},
   "outputs": [],
   "source": [
    "%matplotlib inline\n",
    "msno.matrix(donnees_2018_hab)\n",
    "print(\"Il y a des données manquantes pour les crimes et délits pour les gendarmeries. Pour simplifier l'étude, nous n'imputons pas de valeurs explicites autres que 0.\")"
   ]
  },
  {
   "cell_type": "code",
   "execution_count": null,
   "id": "d42503ee-76cc-4d01-8daa-a46626172dfc",
   "metadata": {},
   "outputs": [],
   "source": [
    "url_dep = 'https://www.data.gouv.fr/fr/datasets/r/90b9341a-e1f7-4d75-a73c-bbc010c7feeb'\n",
    "departements = gpd.read_file(url_dep)\n",
    "departements = departements.set_index(\"code\")\n",
    "departements.drop(['nom'], axis=1, inplace = True)"
   ]
  },
  {
   "cell_type": "code",
   "execution_count": null,
   "id": "9000a38d-afc5-43c6-82c7-3dc6bca43892",
   "metadata": {},
   "outputs": [],
   "source": [
    "#Restriction au champ IDF pour une sous-carte\n",
    "departements_idf = departements.loc[departements.index.isin(DEPARTEMENTS_IDF)]"
   ]
  },
  {
   "cell_type": "markdown",
   "id": "cc91a433-269d-4527-857e-b03926d94fdb",
   "metadata": {},
   "source": [
    "## 2) Sélection des items que l'on souhaite représenter (au champ métropolitain puis IDF) "
   ]
  },
  {
   "cell_type": "code",
   "execution_count": null,
   "id": "50268101-f509-45f5-be5d-058c2a0dc64d",
   "metadata": {},
   "outputs": [],
   "source": [
    "donnees_2018_hab.index.names = ['CODDEP']\n",
    "donnees_2018_hab.describe()"
   ]
  },
  {
   "cell_type": "code",
   "execution_count": null,
   "id": "764608e5-6070-4e9a-8fa9-4396df7abede",
   "metadata": {},
   "outputs": [],
   "source": [
    "donnees_2018_hab_pauvrete = donnees_2018_hab.drop(['REG','MED18','D118','D918','RD18','T1_2018','Nb_PN_GN_dep_100k_hab','Crim_Del_PN_GN','Nb_Boucherie_dep_hab','Crim_Del_GN_hab','Crim_Del_PN_hab','Crim_Del_PN_GN_hab'], axis=1)\n",
    "donnees_2018_hab_rev_median = donnees_2018_hab.drop(['REG','TP6018','D118','D918','RD18','T1_2018','Nb_PN_GN_dep_100k_hab','Crim_Del_PN_GN','Nb_Boucherie_dep_hab','Crim_Del_GN_hab','Crim_Del_PN_hab','Crim_Del_PN_GN_hab'], axis=1)\n",
    "donnees_2018_hab_ratio_d1_d9 = donnees_2018_hab.drop(['REG','TP6018','D118','D918','MED18','T1_2018','Nb_PN_GN_dep_100k_hab','Crim_Del_PN_GN','Nb_Boucherie_dep_hab','Crim_Del_GN_hab','Crim_Del_PN_hab','Crim_Del_PN_GN_hab'], axis=1)\n",
    "donnees_2018_hab_chomage = donnees_2018_hab.drop(['REG','TP6018','D118','D918','MED18','RD18','Nb_PN_GN_dep_100k_hab','Crim_Del_PN_GN','Nb_Boucherie_dep_hab','Crim_Del_GN_hab','Crim_Del_PN_hab','Crim_Del_PN_GN_hab'], axis=1)\n",
    "donnees_2018_hab_boucherie = donnees_2018_hab.drop(['REG','TP6018','D118','D918','MED18','RD18','Nb_PN_GN_dep_100k_hab','Crim_Del_PN_GN','T1_2018','Crim_Del_GN_hab','Crim_Del_PN_hab','Crim_Del_PN_GN_hab'], axis=1)\n",
    "donnees_2018_hab_nb_pn_gn = donnees_2018_hab.drop(['REG','TP6018','D118','D918','MED18','RD18','Nb_Boucherie_dep_hab','Crim_Del_PN_GN','T1_2018','Crim_Del_GN_hab','Crim_Del_PN_hab','Nb_Boucherie_dep_hab', 'Crim_Del_PN_GN_hab'], axis=1)\n",
    "donnees_2018_hab_nb_crimes_delits = donnees_2018_hab.drop(['REG','TP6018','D118','D918','MED18','RD18','Nb_PN_GN_dep_100k_hab','Crim_Del_PN_GN','T1_2018','Crim_Del_GN_hab','Crim_Del_PN_hab','Nb_Boucherie_dep_hab'], axis=1)\n",
    "donnees_2018_hab_crimes_delits = donnees_2018_hab.drop(['REG','TP6018','D118','D918','MED18','RD18','Nb_PN_GN_dep_100k_hab','Crim_Del_PN_GN','T1_2018','Crim_Del_GN_hab','Crim_Del_PN_hab','Nb_Boucherie_dep_hab'], axis=1)\n"
   ]
  },
  {
   "cell_type": "code",
   "execution_count": null,
   "id": "63326b20-df78-435e-b04c-1b7b63331da9",
   "metadata": {},
   "outputs": [],
   "source": [
    "carto_pauvrete=departements.merge(donnees_2018_hab_pauvrete,left_index=True,right_index=True)\n",
    "carto_rev_median=departements.merge(donnees_2018_hab_rev_median,left_index=True,right_index=True)\n",
    "carto_ratio_d1_d9=departements.merge(donnees_2018_hab_ratio_d1_d9,left_index=True,right_index=True)\n",
    "carto_chomage=departements.merge(donnees_2018_hab_chomage,left_index=True,right_index=True)\n",
    "carto_boucherie=departements.merge(donnees_2018_hab_boucherie,left_index=True,right_index=True)\n",
    "carto_nb_pn_gn=departements.merge(donnees_2018_hab_nb_pn_gn,left_index=True,right_index=True)\n",
    "carto_crimes_delits=departements.merge(donnees_2018_hab_crimes_delits,left_index=True,right_index=True)\n",
    "\n",
    "#Restriction au champ IDF pour une sous-carte\n",
    "\n",
    "carto_pauvrete_idf = carto_pauvrete.loc[carto_pauvrete.index.isin(DEPARTEMENTS_IDF)]\n",
    "carto_rev_median_idf = carto_rev_median.loc[carto_rev_median.index.isin(DEPARTEMENTS_IDF)]\n",
    "carto_ratio_d1_d9_idf = carto_ratio_d1_d9.loc[carto_ratio_d1_d9.index.isin(DEPARTEMENTS_IDF)]\n",
    "carto_chomage_idf = carto_chomage.loc[carto_chomage.index.isin(DEPARTEMENTS_IDF)]\n",
    "carto_boucherie_idf = carto_boucherie.loc[carto_boucherie.index.isin(DEPARTEMENTS_IDF)]\n",
    "carto_nb_pn_gn_idf = carto_nb_pn_gn.loc[carto_nb_pn_gn.index.isin(DEPARTEMENTS_IDF)]\n",
    "carto_crimes_delits_idf = carto_crimes_delits.loc[carto_crimes_delits.index.isin(DEPARTEMENTS_IDF)]\n"
   ]
  },
  {
   "cell_type": "markdown",
   "id": "bc7af9bf-e38b-46f8-b26a-0ced8a3fb554",
   "metadata": {},
   "source": [
    "## 3) Représentation cartographique cloropèthe (au champ France Métropolitaine puis champ Ile de France) "
   ]
  },
  {
   "cell_type": "markdown",
   "id": "d1ece178-62b7-4acc-a93d-df1fb5e79ae6",
   "metadata": {},
   "source": [
    "* Taux de pauvreté monétaire"
   ]
  },
  {
   "cell_type": "code",
   "execution_count": null,
   "id": "1a2ed929-2b3d-4358-b5b0-0a99f63eeae0",
   "metadata": {},
   "outputs": [],
   "source": [
    "\n",
    "fig, ax = plt.subplots(figsize=(10,10))\n",
    "\n",
    "departements.plot(color='gray', ax=ax)\n",
    "carto_pauvrete.plot(column='TP6018', \n",
    "                    cmap='Purples', \n",
    "                    linewidth=0.5, \n",
    "                    edgecolor='black',\n",
    "                    ax=ax, \n",
    "                    legend=True,\n",
    "                    legend_kwds={'label': 'Taux de pauvreté monétaire (au seuil de 60% du niveau de vie médian)', 'orientation': \"horizontal\"})\n",
    "ax.set_axis_off()"
   ]
  },
  {
   "cell_type": "code",
   "execution_count": null,
   "id": "2a49923f-f84d-4136-b99e-2f3ce6dbbebe",
   "metadata": {},
   "outputs": [],
   "source": [
    "\n",
    "fig, ax = plt.subplots(figsize=(10,10))\n",
    "\n",
    "departements_idf.plot(color='gray', ax=ax)\n",
    "carto_pauvrete_idf.plot(column='TP6018', \n",
    "                    cmap='Purples', \n",
    "                    linewidth=0.5, \n",
    "                    edgecolor='black',\n",
    "                    ax=ax, \n",
    "                    legend=True,\n",
    "                    legend_kwds={'label': 'Taux de pauvreté monétaire (au seuil de 60% du niveau de vie médian)', 'orientation': \"horizontal\"})\n",
    "ax.set_axis_off()"
   ]
  },
  {
   "cell_type": "markdown",
   "id": "77a24ec5-78d2-4b32-9241-7af3ddc79732",
   "metadata": {},
   "source": [
    "* Niveau de vie médian"
   ]
  },
  {
   "cell_type": "code",
   "execution_count": null,
   "id": "5dee0081-466b-4351-9678-54bf5f55170a",
   "metadata": {},
   "outputs": [],
   "source": [
    "fig, ax = plt.subplots(figsize=(10,10))\n",
    "\n",
    "departements.plot(color='gray', ax=ax)\n",
    "carto_rev_median.plot(column='MED18', \n",
    "                    cmap='Oranges', \n",
    "                    linewidth=0.5, \n",
    "                    edgecolor='black',\n",
    "                    ax=ax, \n",
    "                    legend=True,\n",
    "                    legend_kwds={'label': 'Niveau de vie médian (en euros)', 'orientation': \"horizontal\"})\n",
    "ax.set_axis_off()"
   ]
  },
  {
   "cell_type": "code",
   "execution_count": null,
   "id": "036fe512-39ff-4e90-9e47-b2070f3152ab",
   "metadata": {},
   "outputs": [],
   "source": [
    "fig, ax = plt.subplots(figsize=(10,10))\n",
    "\n",
    "departements_idf.plot(color='gray', ax=ax)\n",
    "carto_rev_median_idf.plot(column='MED18', \n",
    "                    cmap='Oranges', \n",
    "                    linewidth=0.5, \n",
    "                    edgecolor='black',\n",
    "                    ax=ax, \n",
    "                    legend=True,\n",
    "                    legend_kwds={'label': 'Niveau de vie médian (en euros)', 'orientation': \"horizontal\"})\n",
    "ax.set_axis_off()"
   ]
  },
  {
   "cell_type": "markdown",
   "id": "3e34f55f-37db-47e0-a302-cb4f50eca19e",
   "metadata": {},
   "source": [
    "* Ratio inter-décile de niveau de vie "
   ]
  },
  {
   "cell_type": "code",
   "execution_count": null,
   "id": "ff0842b7-836e-4f11-a956-09830353112c",
   "metadata": {},
   "outputs": [],
   "source": [
    "fig, ax = plt.subplots(figsize=(10,10))\n",
    "\n",
    "departements.plot(color='gray', ax=ax)\n",
    "carto_ratio_d1_d9.plot(column='RD18', \n",
    "                    cmap='RdPu', \n",
    "                    linewidth=0.5, \n",
    "                    edgecolor='black',\n",
    "                    ax=ax, \n",
    "                    legend=True,\n",
    "                    legend_kwds={'label': 'Ratio inter-décile de niveau de vie', 'orientation': \"horizontal\"})\n",
    "ax.set_axis_off()"
   ]
  },
  {
   "cell_type": "code",
   "execution_count": null,
   "id": "84e00b79-0ebe-4d02-a984-0f72ea82049b",
   "metadata": {},
   "outputs": [],
   "source": [
    "fig, ax = plt.subplots(figsize=(10,10))\n",
    "\n",
    "departements_idf.plot(color='gray', ax=ax)\n",
    "carto_ratio_d1_d9_idf.plot(column='RD18', \n",
    "                    cmap='RdPu', \n",
    "                    linewidth=0.5, \n",
    "                    edgecolor='black',\n",
    "                    ax=ax, \n",
    "                    legend=True,\n",
    "                    legend_kwds={'label': 'Ratio inter-décile de niveau de vie', 'orientation': \"horizontal\"})\n",
    "ax.set_axis_off()"
   ]
  },
  {
   "cell_type": "markdown",
   "id": "871afe0f-2ba8-4b9a-96c8-e5c1ebcda413",
   "metadata": {},
   "source": [
    "* Taux de chômage localisé"
   ]
  },
  {
   "cell_type": "code",
   "execution_count": null,
   "id": "cd6ff79c-ce71-4001-a54b-6f18798aaa27",
   "metadata": {},
   "outputs": [],
   "source": [
    "fig, ax = plt.subplots(figsize=(10,10))\n",
    "\n",
    "departements.plot(color='gray', ax=ax)\n",
    "carto_chomage.plot(column='T1_2018', \n",
    "                    cmap='Greens', \n",
    "                    linewidth=0.5, \n",
    "                    edgecolor='black',\n",
    "                    ax=ax, \n",
    "                    legend=True,\n",
    "                    legend_kwds={'label': 'Taux de chômage localisé (en pourcentage)', 'orientation': \"horizontal\"})\n",
    "ax.set_axis_off()"
   ]
  },
  {
   "cell_type": "code",
   "execution_count": null,
   "id": "ac32e849-b3dd-4c60-be03-08275d78c118",
   "metadata": {},
   "outputs": [],
   "source": [
    "fig, ax = plt.subplots(figsize=(10,10))\n",
    "\n",
    "departements_idf.plot(color='gray', ax=ax)\n",
    "carto_chomage_idf.plot(column='T1_2018', \n",
    "                    cmap='Greens', \n",
    "                    linewidth=0.5, \n",
    "                    edgecolor='black',\n",
    "                    ax=ax, \n",
    "                    legend=True,\n",
    "                    legend_kwds={'label': 'Taux de chômage localisé (en pourcentage)', 'orientation': \"horizontal\"})\n",
    "ax.set_axis_off()"
   ]
  },
  {
   "cell_type": "markdown",
   "id": "ed7ac896-372b-4d3d-905c-b5beb63d8c74",
   "metadata": {},
   "source": [
    "* Nombre de boucheries pour 100k habitants"
   ]
  },
  {
   "cell_type": "code",
   "execution_count": null,
   "id": "66f00e7d-af1b-4bd0-ab93-b50a0a539d14",
   "metadata": {},
   "outputs": [],
   "source": [
    "fig, ax = plt.subplots(figsize=(10,10))\n",
    "\n",
    "departements.plot(color='gray', ax=ax)\n",
    "carto_boucherie.plot(column='Nb_Boucherie_dep_hab', \n",
    "                    cmap='Reds', \n",
    "                    linewidth=0.5, \n",
    "                    edgecolor='black',\n",
    "                    ax=ax, \n",
    "                    legend=True,\n",
    "                    legend_kwds={'label': 'Nombre de boucheries-charcuteries pour 100 000 habitants', 'orientation': \"horizontal\"})\n",
    "ax.set_axis_off()"
   ]
  },
  {
   "cell_type": "code",
   "execution_count": null,
   "id": "63b2e1e1-f4cc-4780-bd0d-aac770333ee7",
   "metadata": {},
   "outputs": [],
   "source": [
    "fig, ax = plt.subplots(figsize=(10,10))\n",
    "\n",
    "departements_idf.plot(color='gray', ax=ax)\n",
    "carto_boucherie_idf.plot(column='Nb_Boucherie_dep_hab', \n",
    "                    cmap='Reds', \n",
    "                    linewidth=0.5, \n",
    "                    edgecolor='black',\n",
    "                    ax=ax, \n",
    "                    legend=True,\n",
    "                    legend_kwds={'label': 'Nombre de boucheries-charcuteries pour 100 000 habitants', 'orientation': \"horizontal\"})\n",
    "ax.set_axis_off()"
   ]
  },
  {
   "cell_type": "markdown",
   "id": "3cc1b49f-dde1-41d0-8a25-8334e47ede31",
   "metadata": {},
   "source": [
    "* Nombre de policiers et gendarmes (2019) pour 100k habitants"
   ]
  },
  {
   "cell_type": "code",
   "execution_count": null,
   "id": "ccd94f60-cc50-4b6b-95c7-62eaf0b31f8c",
   "metadata": {},
   "outputs": [],
   "source": [
    "fig, ax = plt.subplots(figsize=(10,10))\n",
    "\n",
    "departements.plot(color='gray', ax=ax)\n",
    "carto_nb_pn_gn.plot(column='Nb_PN_GN_dep_100k_hab', \n",
    "                    cmap='YlOrBr', \n",
    "                    linewidth=0.5, \n",
    "                    edgecolor='black',\n",
    "                    ax=ax, \n",
    "                    legend=True,\n",
    "                    legend_kwds={'label': 'Nombre de policiers et gendarmes (2019) pour 100 000 habitants', 'orientation': \"horizontal\"})\n",
    "ax.set_axis_off()"
   ]
  },
  {
   "cell_type": "code",
   "execution_count": null,
   "id": "d7960384-6828-423f-9f3b-8e9cb896c713",
   "metadata": {},
   "outputs": [],
   "source": [
    "fig, ax = plt.subplots(figsize=(10,10))\n",
    "\n",
    "departements_idf.plot(color='gray', ax=ax)\n",
    "carto_nb_pn_gn_idf.plot(column='Nb_PN_GN_dep_100k_hab', \n",
    "                    cmap='YlOrBr', \n",
    "                    linewidth=0.5, \n",
    "                    edgecolor='black',\n",
    "                    ax=ax, \n",
    "                    legend=True,\n",
    "                    legend_kwds={'label': 'Nombre de policiers et gendarmes (2019) pour 100 000 habitants', 'orientation': \"horizontal\"})\n",
    "ax.set_axis_off()"
   ]
  },
  {
   "cell_type": "markdown",
   "id": "3c58dde5-d89b-464e-b68a-4468aaea118a",
   "metadata": {},
   "source": [
    "* Nombre de crimes et délits répertoriés pour 100k habitants"
   ]
  },
  {
   "cell_type": "code",
   "execution_count": null,
   "id": "f1200afd-cf6c-4171-ba8b-0286bdfda666",
   "metadata": {},
   "outputs": [],
   "source": [
    "fig, ax = plt.subplots(figsize=(10,10))\n",
    "\n",
    "departements.plot(color='gray', ax=ax)\n",
    "carto_crimes_delits.plot(column='Crim_Del_PN_GN_hab', \n",
    "                    cmap='YlGnBu', \n",
    "                    linewidth=0.5, \n",
    "                    edgecolor='black',\n",
    "                    ax=ax, \n",
    "                    legend=True,\n",
    "                    legend_kwds={'label': 'Nombre de crimes et délits répertoriés pour 100 000 habitants', 'orientation': \"horizontal\"})\n",
    "ax.set_axis_off()"
   ]
  },
  {
   "cell_type": "code",
   "execution_count": null,
   "id": "d43f88aa-e56c-483a-9cdb-205866c42f26",
   "metadata": {
    "tags": []
   },
   "outputs": [],
   "source": [
    "fig, ax = plt.subplots(figsize=(10,10))\n",
    "\n",
    "departements_idf.plot(color='gray', ax=ax)\n",
    "carto_crimes_delits_idf.plot(column='Crim_Del_PN_GN_hab', \n",
    "                    cmap='YlGnBu', \n",
    "                    linewidth=0.5, \n",
    "                    edgecolor='black',\n",
    "                    ax=ax, \n",
    "                    legend=True,\n",
    "                    legend_kwds={'label': 'Nombre de crimes et délits répertoriés pour 100 000 habitants', 'orientation': \"horizontal\"})\n",
    "ax.set_axis_off()"
   ]
  },
  {
   "cell_type": "markdown",
   "id": "160c345e-6874-4a4a-a57d-a01d6ff79c81",
   "metadata": {},
   "source": [
    "# 4) Analyse univariée "
   ]
  },
  {
   "cell_type": "code",
   "execution_count": null,
   "id": "383c67f5-56bd-495f-aa77-22363443cfc5",
   "metadata": {},
   "outputs": [],
   "source": [
    "donnees_2018_hab.info()\n",
    "\n",
    "donnees_2018_hab_mini=donnees_2018_hab.drop([\"D918\",\"D118\",\"REG\",\"Crim_Del_GN_hab\",\"Crim_Del_PN_hab\",\"Crim_Del_PN_GN\"],axis=1)"
   ]
  },
  {
   "cell_type": "code",
   "execution_count": null,
   "id": "119a7930-c6b0-4a18-bcb8-1d80fc4599b1",
   "metadata": {},
   "outputs": [],
   "source": [
    "plt.figure(figsize=(16, 6))\n",
    "mask = np.triu(np.ones_like(donnees_2018_hab_mini.corr(), dtype=np.bool))\n",
    "heatmap = sns.heatmap(donnees_2018_hab_mini.corr(), mask=mask, vmin=-1, vmax=1, annot=True, cmap='BrBG')"
   ]
  },
  {
   "cell_type": "code",
   "execution_count": null,
   "id": "2ed7183b-3ae9-4b0b-a86d-0f4ee909591c",
   "metadata": {},
   "outputs": [],
   "source": [
    "donnees_2018_hab_mini.reset_index()\n",
    "fig = px.box(donnees_2018_hab_mini, y=\"TP6018\",hover_data=[ 'Libellé'], labels=dict(TP6018 = 'Taux de pauvreté monétaire au seuil de 60%'))\n",
    "\n",
    "fig.write_html('figure_TP6018.html', auto_open=True)\n",
    "display(HTML(\"figure_TP6018.html\"))"
   ]
  },
  {
   "cell_type": "code",
   "execution_count": null,
   "id": "cccd4b5c-002a-402b-adc6-eb51f7ac23ba",
   "metadata": {},
   "outputs": [],
   "source": [
    "fig2 = px.box(donnees_2018_hab_mini, y=\"MED18\",hover_data=[ 'Libellé'],labels=dict(MED18 = 'Niveau de vie médian'))\n",
    "\n",
    "fig2.write_html('figure_MED18.html', auto_open=True)\n",
    "display(HTML(\"figure_MED18.html\"))"
   ]
  },
  {
   "cell_type": "code",
   "execution_count": null,
   "id": "6b772c66-d888-4c18-9b9b-b7ed320db36d",
   "metadata": {},
   "outputs": [],
   "source": [
    "fig3= px.box(donnees_2018_hab_mini, y=\"RD18\",hover_data=[ 'Libellé'], labels=dict(RD18 = 'Ratio inter-décile'))\n",
    "\n",
    "fig3.write_html('figure_RD_2018.html', auto_open=True)\n",
    "display(HTML(\"figure_RD_2018.html\"))"
   ]
  },
  {
   "cell_type": "code",
   "execution_count": null,
   "id": "9a48736f-9ae8-4433-ad11-b3c5fae5cb8b",
   "metadata": {},
   "outputs": [],
   "source": [
    "fig4 = px.box(donnees_2018_hab_mini, y=\"T1_2018\",hover_data=[ 'Libellé'], labels=dict(T1_2018 = 'Taux de chômage'))\n",
    "\n",
    "fig4.write_html('figure_T1_2018.html', auto_open=True)\n",
    "display(HTML(\"figure_T1_2018.html\"))"
   ]
  },
  {
   "cell_type": "code",
   "execution_count": null,
   "id": "bd768347-83fc-41dd-a09f-b2ad34bfe29f",
   "metadata": {},
   "outputs": [],
   "source": [
    "fig5 = px.box(donnees_2018_hab_mini, y=\"Nb_Boucherie_dep_hab\",hover_data=[ 'Libellé'], labels=dict(Nb_Boucherie_dep_hab = 'Nombre de boucheries pour 100 000 habitants'))\n",
    "\n",
    "fig5.write_html('figure_Nb_Boucherie_dep_hab.html', auto_open=True)\n",
    "display(HTML(\"figure_Nb_Boucherie_dep_hab.html\"))\n"
   ]
  },
  {
   "cell_type": "code",
   "execution_count": null,
   "id": "2cfa5a96-4af3-4405-b0e6-9914c2aefd0d",
   "metadata": {},
   "outputs": [],
   "source": [
    "fig6 = px.box(donnees_2018_hab_mini, y=\"Nb_PN_GN_dep_100k_hab\",hover_data=[ 'Libellé'], labels=dict(Nb_PN_GN_dep_100k_hab = 'Nombre de policiers et gendarmes pour 100 000 habitants'))\n",
    "\n",
    "fig6.write_html('figure_Nb_PN_GN_dep_100k_hab.html', auto_open=True)\n",
    "display(HTML(\"figure_Nb_PN_GN_dep_100k_hab.html\"))"
   ]
  },
  {
   "cell_type": "code",
   "execution_count": null,
   "id": "f7aea51d-f827-41db-a2df-ae420f7d4aad",
   "metadata": {},
   "outputs": [],
   "source": [
    "fig7 = px.box(donnees_2018_hab_mini, y=\"Crim_Del_PN_GN_hab\",hover_data=[ 'Libellé'], labels=dict(Crim_Del_PN_GN_hab= 'Nombre de crimes et délits reportés pour 100 000 habitants'))\n",
    "\n",
    "fig7.write_html('figure_Crim_Del_PN_GN_hab.html', auto_open=True)\n",
    "display(HTML(\"figure_Crim_Del_PN_GN_hab.html\"))"
   ]
  },
  {
   "cell_type": "code",
   "execution_count": null,
   "id": "ab0ec954-f1a7-4abc-92d5-b0b605c16fd0",
   "metadata": {},
   "outputs": [],
   "source": [
    "sns.pairplot(donnees_2018_hab_mini[['TP6018','MED18', 'RD18', 'T1_2018', 'Nb_Boucherie_dep_hab', 'Nb_PN_GN_dep_100k_hab', 'Crim_Del_PN_GN_hab']])"
   ]
  },
  {
   "cell_type": "code",
   "execution_count": null,
   "id": "640a04bb-7993-4a50-87b7-53fd227ee569",
   "metadata": {},
   "outputs": [],
   "source": [
    "sns.lmplot(x=\"Nb_Boucherie_dep_hab\", y='Crim_Del_PN_GN_hab', data=donnees_2018_hab_mini)"
   ]
  },
  {
   "cell_type": "markdown",
   "id": "c9d7488e-9a19-427b-81b4-2b48c102c912",
   "metadata": {},
   "source": [
    "# 5) Analyse bivariée "
   ]
  },
  {
   "cell_type": "code",
   "execution_count": null,
   "id": "9682bc32-af1d-4278-9af6-28993939d2bb",
   "metadata": {},
   "outputs": [],
   "source": [
    "sns.pairplot(donnees_2018_hab_mini[['TP6018','MED18', 'RD18', 'T1_2018', 'Nb_Boucherie_dep_hab', 'Nb_PN_GN_dep_100k_hab', 'Crim_Del_PN_GN_hab']])"
   ]
  },
  {
   "cell_type": "code",
   "execution_count": null,
   "id": "fcadae02-148d-4713-aa3d-1036333ba1fb",
   "metadata": {},
   "outputs": [],
   "source": [
    "\n",
    "sns.lmplot(x=\"Nb_Boucherie_dep_hab\", y='Crim_Del_PN_GN_hab', data=donnees_2018_hab_mini)\n",
    "plt.title('Crimes et délits rapportés en fonction du nombre de boucheries pour 100 000 habitants')\n",
    "\n",
    "sns.lmplot(x=\"TP6018\", y='Crim_Del_PN_GN_hab', data=donnees_2018_hab_mini)\n",
    "plt.title('Crimes et délits rapportés en fonction du taux de pauvreté monétaire')\n",
    "\n",
    "sns.lmplot(x=\"RD18\", y='Crim_Del_PN_GN_hab', data=donnees_2018_hab_mini)\n",
    "plt.title('Crimes et délits rapportés en fonction du ratio inter-décile de niveau de vie')\n",
    "\n",
    "sns.lmplot(x=\"MED18\", y='Crim_Del_PN_GN_hab', data=donnees_2018_hab_mini)\n",
    "plt.title('Crimes et délits rapportés en fonction du niveau de vie médian')\n",
    "\n",
    "sns.lmplot(x=\"T1_2018\", y='Crim_Del_PN_GN_hab', data=donnees_2018_hab_mini)\n",
    "plt.title('Crimes et délits rapportés en fonction du taux de chômage')\n",
    "\n",
    "sns.lmplot(x=\"Nb_PN_GN_dep_100k_hab\", y='Crim_Del_PN_GN_hab', data=donnees_2018_hab_mini)\n",
    "plt.title('Crimes et délits rapportés en fonction du nombre de policiers et gendarmes pour 100 000 habitants')\n"
   ]
  },
  {
   "cell_type": "markdown",
   "id": "67e44e7b-3a3c-410c-a5f8-b1c5d1247ba2",
   "metadata": {},
   "source": [
    "# 6) Analyse multivariée"
   ]
  },
  {
   "cell_type": "code",
   "execution_count": null,
   "id": "cca79f14-97a6-49b2-89e5-82ffedbb3c65",
   "metadata": {},
   "outputs": [],
   "source": [
    "plt.figure(figsize=(16, 6))\n",
    "mask = np.triu(np.ones_like(donnees_2018_hab_mini.corr(), dtype=np.bool))\n",
    "heatmap = sns.heatmap(donnees_2018_hab_mini.corr(), mask=mask, vmin=-1, vmax=1, annot=True, cmap='BrBG')"
   ]
  },
  {
   "cell_type": "code",
   "execution_count": null,
   "id": "d4876544-6387-4fd2-a57c-36ee9d7da16a",
   "metadata": {},
   "outputs": [],
   "source": [
    "!pip install prince"
   ]
  },
  {
   "cell_type": "code",
   "execution_count": null,
   "id": "266dba9f-4d84-47f3-817a-8b1d7c381031",
   "metadata": {},
   "outputs": [],
   "source": [
    "from sklearn.cluster import KMeans\n",
    "from sklearn.decomposition import PCA\n",
    "import scipy.cluster.hierarchy as shc\n",
    "from scipy.cluster.hierarchy import dendrogram,linkage\n",
    "import prince"
   ]
  },
  {
   "cell_type": "code",
   "execution_count": null,
   "id": "587bfd77-6e8f-4108-ab0e-132d87a580c4",
   "metadata": {},
   "outputs": [],
   "source": [
    "X=donnees_2018_hab_mini[['TP6018','MED18', 'RD18', 'T1_2018', 'Nb_Boucherie_dep_hab', 'Nb_PN_GN_dep_100k_hab', 'Crim_Del_PN_GN_hab']]"
   ]
  },
  {
   "cell_type": "code",
   "execution_count": null,
   "id": "ed375af6-6da2-4b9d-9bb4-74ce5bb7f652",
   "metadata": {},
   "outputs": [],
   "source": [
    "pca = prince.PCA(\n",
    "     n_components=10,\n",
    "     n_iter=3,\n",
    "     rescale_with_mean=True,\n",
    "     rescale_with_std=True,\n",
    "     copy=True,\n",
    "     check_input=True,\n",
    "     engine='auto',\n",
    "     random_state=42 )\n",
    "pca = pca.fit(X)"
   ]
  },
  {
   "cell_type": "code",
   "execution_count": null,
   "id": "3ca4ad4a-30c3-49b6-8692-0d28fff8b4ad",
   "metadata": {},
   "outputs": [],
   "source": [
    "pca.eigenvalues_"
   ]
  },
  {
   "cell_type": "code",
   "execution_count": null,
   "id": "d16e22f0-2a16-43ed-85bd-cda738c1ec5c",
   "metadata": {},
   "outputs": [],
   "source": [
    "pca.explained_inertia_"
   ]
  },
  {
   "cell_type": "code",
   "execution_count": null,
   "id": "6777e8ae-20b9-4bc5-8cae-832bbf486b5e",
   "metadata": {},
   "outputs": [],
   "source": [
    "plt.figure(figsize=(20,5))\n",
    "\n",
    "plt.subplot(1, 2, 1)\n",
    "plt.plot(pca.eigenvalues_,marker='*')\n",
    "plt.title('Valeurs Propres')\n",
    "\n",
    "plt.subplot(1, 2, 2)\n",
    "plt.plot(np.cumsum(pca.explained_inertia_),marker='*')\n",
    "plt.title('Inertie cumulée')\n",
    "\n",
    "plt.show()"
   ]
  },
  {
   "cell_type": "markdown",
   "id": "5b005e4a-ad0d-48c3-8081-9dbca9fbfd0f",
   "metadata": {},
   "source": [
    "Critère du coude : 3 variables, critère de Kaiser (VP>1) : 2 variables, critère de l'inertie : 2 variables"
   ]
  },
  {
   "cell_type": "code",
   "execution_count": null,
   "id": "8a8be6d5-9d7a-44d1-995e-29b78f95e5e4",
   "metadata": {},
   "outputs": [],
   "source": [
    "resPCA=pca.transform(X)"
   ]
  },
  {
   "cell_type": "code",
   "execution_count": null,
   "id": "7c86270a-3f56-4036-8340-24f529bf1d8b",
   "metadata": {},
   "outputs": [],
   "source": [
    "inertias = []\n",
    "\n",
    "# Creating 10 K-Mean models while varying the number of clusters (k)\n",
    "for k in range(1,10):\n",
    "    model = KMeans(n_clusters=k)\n",
    "    \n",
    "    # Fit model to samples\n",
    "    model.fit(resPCA.iloc[:,:3])\n",
    "    \n",
    "    # Append the inertia to the list of inertias\n",
    "    inertias.append(model.inertia_)\n",
    "    \n",
    "plt.plot(range(1,10), inertias, '-p', color='gold')\n",
    "plt.xlabel('number of clusters, k')\n",
    "plt.ylabel('inertia')\n",
    "#plt.xticks(ks)\n",
    "plt.show()"
   ]
  },
  {
   "cell_type": "markdown",
   "id": "77174972-5b57-48ad-9e41-8a878ab5c018",
   "metadata": {},
   "source": [
    "Critère du coude suggère 5 clusters"
   ]
  },
  {
   "cell_type": "code",
   "execution_count": null,
   "id": "eace0b3e-1632-43a2-b6db-02da547f8578",
   "metadata": {},
   "outputs": [],
   "source": [
    "plt.figure(figsize=(20, 5))\n",
    "plt.title(\"Customer Dendograms\")\n",
    "dend = shc.dendrogram(shc.linkage(resPCA, method='ward'))"
   ]
  },
  {
   "cell_type": "code",
   "execution_count": null,
   "id": "4bdea179-8d72-414a-a96b-c5708ad6c60d",
   "metadata": {},
   "outputs": [],
   "source": [
    "model = KMeans(n_clusters=3)\n",
    "model.fit(resPCA.iloc[:,:2])\n",
    "labels = model.predict(resPCA.iloc[:,:2])\n",
    "plt.scatter(resPCA[0], resPCA[1], c=labels)\n",
    "plt.show()"
   ]
  },
  {
   "cell_type": "code",
   "execution_count": null,
   "id": "8869a3d6-255f-42ba-9d26-ca05a9b9aeb4",
   "metadata": {},
   "outputs": [],
   "source": [
    "resKM=KMeans(n_clusters=3)\n",
    "resKM.fit(resPCA)"
   ]
  },
  {
   "cell_type": "code",
   "execution_count": null,
   "id": "7372ee4a-4b28-441f-8a0d-e8f7d9ce36e1",
   "metadata": {},
   "outputs": [],
   "source": [
    "resKM"
   ]
  },
  {
   "cell_type": "code",
   "execution_count": null,
   "id": "43ce9c9f-7068-48da-893d-74dc757ea85a",
   "metadata": {},
   "outputs": [],
   "source": [
    "X[\"Cluster\"]=resKM.labels_"
   ]
  },
  {
   "cell_type": "code",
   "execution_count": null,
   "id": "92e719ff-2f9f-4414-b115-4c297f3ace96",
   "metadata": {},
   "outputs": [],
   "source": [
    "X.groupby(\"Cluster\").mean()[['TP6018','MED18', 'RD18', 'T1_2018', 'Nb_Boucherie_dep_hab', 'Nb_PN_GN_dep_100k_hab', 'Crim_Del_PN_GN_hab']].round(2).transpose()"
   ]
  },
  {
   "cell_type": "code",
   "execution_count": null,
   "id": "1ddc49a5-9fff-4adf-8bf6-d73b961a7451",
   "metadata": {},
   "outputs": [],
   "source": [
    "X.groupby(\"Cluster\").describe()"
   ]
  },
  {
   "cell_type": "code",
   "execution_count": null,
   "id": "f9483e05-747b-4373-8679-0ca25aa34df7",
   "metadata": {},
   "outputs": [],
   "source": [
    "X"
   ]
  },
  {
   "cell_type": "code",
   "execution_count": null,
   "id": "a04962b4-aceb-49f1-80b0-9485abb4782d",
   "metadata": {},
   "outputs": [],
   "source": [
    "sns.scatterplot(x=\"Nb_Boucherie_dep_hab\",y=\"Crim_Del_PN_GN_hab\",data=X,hue=\"Cluster\")"
   ]
  },
  {
   "cell_type": "markdown",
   "id": "91964ca6-cd76-48b8-a389-3c1e527e21c0",
   "metadata": {},
   "source": [
    "On distingue 3 cluster \n",
    "\n",
    "Le cluster 1 pour la spécificité du département de Paris\n",
    "\n",
    "Le cluster 2 avec 26 départements, une criminalité plus faible que la moyenne avec un ratio inter décile plus faible, un taux dde chomage plus faible et moins de boucheries pour 100 000 habitants que dans le cluster 0 et également moins de policiers"
   ]
  },
  {
   "cell_type": "code",
   "execution_count": null,
   "id": "f5c0dc76-b726-44ee-aeb7-f883aca071d3",
   "metadata": {},
   "outputs": [],
   "source": [
    "X_cluster = X.drop(['TP6018','MED18', 'RD18', 'T1_2018', 'Nb_Boucherie_dep_hab', 'Nb_PN_GN_dep_100k_hab', 'Crim_Del_PN_GN_hab'], axis=1)\n",
    "X_cluster.astype(int)"
   ]
  },
  {
   "cell_type": "code",
   "execution_count": null,
   "id": "bee08cee-aef0-4861-b8fc-1bebaba82ac7",
   "metadata": {},
   "outputs": [],
   "source": [
    "carto_cluster=departements.merge(X_cluster,left_index=True,right_index=True)\n",
    "carto_cluster"
   ]
  },
  {
   "cell_type": "code",
   "execution_count": null,
   "id": "70e1b94f-6920-46e8-b2b8-a66e3545b5b6",
   "metadata": {},
   "outputs": [],
   "source": [
    "fig, ax = plt.subplots(figsize=(10,10))\n",
    "\n",
    "departements.plot(color='gray', ax=ax)\n",
    "carto_cluster.plot(column='Cluster', \n",
    "                    cmap='Reds', \n",
    "                    linewidth=0.5, \n",
    "                    edgecolor='black',\n",
    "                    ax=ax, \n",
    "                    legend=True,\n",
    "                    legend_kwds={'label': 'Cluster', 'orientation': \"horizontal\"})\n",
    "ax.set_axis_off()"
   ]
  },
  {
   "cell_type": "code",
   "execution_count": null,
   "id": "5611b330-fc11-4bd9-976b-4d0d75fed2fe",
   "metadata": {},
   "outputs": [],
   "source": []
  }
 ],
 "metadata": {
  "kernelspec": {
   "display_name": "Python 3 (ipykernel)",
   "language": "python",
   "name": "python3"
  },
  "language_info": {
   "codemirror_mode": {
    "name": "ipython",
    "version": 3
   },
   "file_extension": ".py",
   "mimetype": "text/x-python",
   "name": "python",
   "nbconvert_exporter": "python",
   "pygments_lexer": "ipython3",
   "version": "3.9.7"
  }
 },
 "nbformat": 4,
 "nbformat_minor": 5
}
