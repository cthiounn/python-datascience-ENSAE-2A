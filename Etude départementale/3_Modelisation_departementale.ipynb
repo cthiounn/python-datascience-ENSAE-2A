{
 "cells": [
  {
   "cell_type": "code",
   "execution_count": 10,
   "id": "ef8b01e4-4a70-46ef-8904-4449c3b95a35",
   "metadata": {},
   "outputs": [],
   "source": [
    "from sklearn.linear_model import LinearRegression\n",
    "from sklearn.model_selection import train_test_split\n",
    "import matplotlib.pyplot as plt\n",
    "import seaborn as sns\n",
    "import scipy.stats as stats\n",
    "import numpy as np\n",
    "from sklearn.model_selection import cross_val_score\n",
    "from statsmodels.formula.api import ols\n",
    "import pandas as pd"
   ]
  },
  {
   "cell_type": "code",
   "execution_count": 11,
   "id": "f7417eb0-1fbf-40b9-8124-147eeb71682f",
   "metadata": {},
   "outputs": [
    {
     "data": {
      "text/html": [
       "<div>\n",
       "<style scoped>\n",
       "    .dataframe tbody tr th:only-of-type {\n",
       "        vertical-align: middle;\n",
       "    }\n",
       "\n",
       "    .dataframe tbody tr th {\n",
       "        vertical-align: top;\n",
       "    }\n",
       "\n",
       "    .dataframe thead th {\n",
       "        text-align: right;\n",
       "    }\n",
       "</style>\n",
       "<table border=\"1\" class=\"dataframe\">\n",
       "  <thead>\n",
       "    <tr style=\"text-align: right;\">\n",
       "      <th></th>\n",
       "      <th>REG</th>\n",
       "      <th>Libellé</th>\n",
       "      <th>MED18</th>\n",
       "      <th>TP6018</th>\n",
       "      <th>D118</th>\n",
       "      <th>D918</th>\n",
       "      <th>RD18</th>\n",
       "      <th>T1_2018</th>\n",
       "      <th>Nb_PN_GN_dep_100k_hab</th>\n",
       "      <th>Crim_Del_PN_GN</th>\n",
       "      <th>Nb_Boucherie_dep_hab</th>\n",
       "      <th>Crim_Del_GN_hab</th>\n",
       "      <th>Crim_Del_PN_hab</th>\n",
       "      <th>Crim_Del_PN_GN_hab</th>\n",
       "    </tr>\n",
       "  </thead>\n",
       "  <tbody>\n",
       "    <tr>\n",
       "      <th>01</th>\n",
       "      <td>Auvergne-Rhône-Alpes</td>\n",
       "      <td>AIN</td>\n",
       "      <td>23420</td>\n",
       "      <td>10.3</td>\n",
       "      <td>12900</td>\n",
       "      <td>44080</td>\n",
       "      <td>3.4</td>\n",
       "      <td>6.4</td>\n",
       "      <td>200.0</td>\n",
       "      <td>26087.0</td>\n",
       "      <td>32.0</td>\n",
       "      <td>3045.0</td>\n",
       "      <td>885.0</td>\n",
       "      <td>3930.0</td>\n",
       "    </tr>\n",
       "    <tr>\n",
       "      <th>02</th>\n",
       "      <td>Hauts-de-France</td>\n",
       "      <td>AISNE</td>\n",
       "      <td>19690</td>\n",
       "      <td>18.4</td>\n",
       "      <td>10730</td>\n",
       "      <td>33170</td>\n",
       "      <td>3.1</td>\n",
       "      <td>13.0</td>\n",
       "      <td>300.0</td>\n",
       "      <td>25842.0</td>\n",
       "      <td>22.0</td>\n",
       "      <td>2511.0</td>\n",
       "      <td>2227.0</td>\n",
       "      <td>4739.0</td>\n",
       "    </tr>\n",
       "    <tr>\n",
       "      <th>03</th>\n",
       "      <td>Auvergne-Rhône-Alpes</td>\n",
       "      <td>ALLIER</td>\n",
       "      <td>20360</td>\n",
       "      <td>15.5</td>\n",
       "      <td>11360</td>\n",
       "      <td>33600</td>\n",
       "      <td>3.0</td>\n",
       "      <td>9.7</td>\n",
       "      <td>410.0</td>\n",
       "      <td>13416.0</td>\n",
       "      <td>30.0</td>\n",
       "      <td>1578.0</td>\n",
       "      <td>2298.0</td>\n",
       "      <td>3876.0</td>\n",
       "    </tr>\n",
       "    <tr>\n",
       "      <th>04</th>\n",
       "      <td>Provence-Alpes-Côte d'Azur</td>\n",
       "      <td>ALPES-DE-HAUTE-PROVENCE</td>\n",
       "      <td>20580</td>\n",
       "      <td>16.8</td>\n",
       "      <td>11060</td>\n",
       "      <td>35380</td>\n",
       "      <td>3.2</td>\n",
       "      <td>11.0</td>\n",
       "      <td>390.0</td>\n",
       "      <td>8367.0</td>\n",
       "      <td>46.0</td>\n",
       "      <td>3326.0</td>\n",
       "      <td>1636.0</td>\n",
       "      <td>4962.0</td>\n",
       "    </tr>\n",
       "    <tr>\n",
       "      <th>05</th>\n",
       "      <td>Provence-Alpes-Côte d'Azur</td>\n",
       "      <td>HAUTES-ALPES</td>\n",
       "      <td>20880</td>\n",
       "      <td>13.9</td>\n",
       "      <td>11800</td>\n",
       "      <td>35410</td>\n",
       "      <td>3.0</td>\n",
       "      <td>8.6</td>\n",
       "      <td>450.0</td>\n",
       "      <td>6591.0</td>\n",
       "      <td>47.0</td>\n",
       "      <td>2527.0</td>\n",
       "      <td>2009.0</td>\n",
       "      <td>4536.0</td>\n",
       "    </tr>\n",
       "    <tr>\n",
       "      <th>...</th>\n",
       "      <td>...</td>\n",
       "      <td>...</td>\n",
       "      <td>...</td>\n",
       "      <td>...</td>\n",
       "      <td>...</td>\n",
       "      <td>...</td>\n",
       "      <td>...</td>\n",
       "      <td>...</td>\n",
       "      <td>...</td>\n",
       "      <td>...</td>\n",
       "      <td>...</td>\n",
       "      <td>...</td>\n",
       "      <td>...</td>\n",
       "      <td>...</td>\n",
       "    </tr>\n",
       "    <tr>\n",
       "      <th>91</th>\n",
       "      <td>Île-de-France</td>\n",
       "      <td>ESSONNE</td>\n",
       "      <td>23920</td>\n",
       "      <td>13.1</td>\n",
       "      <td>11880</td>\n",
       "      <td>42180</td>\n",
       "      <td>3.6</td>\n",
       "      <td>7.3</td>\n",
       "      <td>300.0</td>\n",
       "      <td>69610.0</td>\n",
       "      <td>22.0</td>\n",
       "      <td>1184.0</td>\n",
       "      <td>4125.0</td>\n",
       "      <td>5310.0</td>\n",
       "    </tr>\n",
       "    <tr>\n",
       "      <th>92</th>\n",
       "      <td>Île-de-France</td>\n",
       "      <td>HAUTS-DE-SEINE</td>\n",
       "      <td>28040</td>\n",
       "      <td>11.9</td>\n",
       "      <td>12220</td>\n",
       "      <td>60580</td>\n",
       "      <td>5.0</td>\n",
       "      <td>7.0</td>\n",
       "      <td>440.0</td>\n",
       "      <td>110533.0</td>\n",
       "      <td>23.0</td>\n",
       "      <td>NaN</td>\n",
       "      <td>6758.0</td>\n",
       "      <td>6758.0</td>\n",
       "    </tr>\n",
       "    <tr>\n",
       "      <th>93</th>\n",
       "      <td>Île-de-France</td>\n",
       "      <td>SEINE-SAINT-DENIS</td>\n",
       "      <td>17740</td>\n",
       "      <td>28.4</td>\n",
       "      <td>8910</td>\n",
       "      <td>33960</td>\n",
       "      <td>3.8</td>\n",
       "      <td>12.0</td>\n",
       "      <td>340.0</td>\n",
       "      <td>141638.0</td>\n",
       "      <td>36.0</td>\n",
       "      <td>NaN</td>\n",
       "      <td>8640.0</td>\n",
       "      <td>8640.0</td>\n",
       "    </tr>\n",
       "    <tr>\n",
       "      <th>94</th>\n",
       "      <td>Île-de-France</td>\n",
       "      <td>VAL-DE-MARNE</td>\n",
       "      <td>22880</td>\n",
       "      <td>16.6</td>\n",
       "      <td>10790</td>\n",
       "      <td>44900</td>\n",
       "      <td>4.2</td>\n",
       "      <td>8.3</td>\n",
       "      <td>380.0</td>\n",
       "      <td>89604.0</td>\n",
       "      <td>26.0</td>\n",
       "      <td>NaN</td>\n",
       "      <td>6374.0</td>\n",
       "      <td>6374.0</td>\n",
       "    </tr>\n",
       "    <tr>\n",
       "      <th>95</th>\n",
       "      <td>Île-de-France</td>\n",
       "      <td>VAL-D'OISE</td>\n",
       "      <td>21970</td>\n",
       "      <td>17.2</td>\n",
       "      <td>10750</td>\n",
       "      <td>39370</td>\n",
       "      <td>3.7</td>\n",
       "      <td>9.5</td>\n",
       "      <td>440.0</td>\n",
       "      <td>80623.0</td>\n",
       "      <td>27.0</td>\n",
       "      <td>1122.0</td>\n",
       "      <td>5333.0</td>\n",
       "      <td>6456.0</td>\n",
       "    </tr>\n",
       "  </tbody>\n",
       "</table>\n",
       "<p>96 rows × 14 columns</p>\n",
       "</div>"
      ],
      "text/plain": [
       "                           REG                  Libellé  MED18  TP6018   D118  \\\n",
       "01        Auvergne-Rhône-Alpes                      AIN  23420    10.3  12900   \n",
       "02             Hauts-de-France                    AISNE  19690    18.4  10730   \n",
       "03        Auvergne-Rhône-Alpes                   ALLIER  20360    15.5  11360   \n",
       "04  Provence-Alpes-Côte d'Azur  ALPES-DE-HAUTE-PROVENCE  20580    16.8  11060   \n",
       "05  Provence-Alpes-Côte d'Azur             HAUTES-ALPES  20880    13.9  11800   \n",
       "..                         ...                      ...    ...     ...    ...   \n",
       "91               Île-de-France                  ESSONNE  23920    13.1  11880   \n",
       "92               Île-de-France           HAUTS-DE-SEINE  28040    11.9  12220   \n",
       "93               Île-de-France        SEINE-SAINT-DENIS  17740    28.4   8910   \n",
       "94               Île-de-France             VAL-DE-MARNE  22880    16.6  10790   \n",
       "95               Île-de-France               VAL-D'OISE  21970    17.2  10750   \n",
       "\n",
       "     D918  RD18  T1_2018  Nb_PN_GN_dep_100k_hab  Crim_Del_PN_GN  \\\n",
       "01  44080   3.4      6.4                  200.0         26087.0   \n",
       "02  33170   3.1     13.0                  300.0         25842.0   \n",
       "03  33600   3.0      9.7                  410.0         13416.0   \n",
       "04  35380   3.2     11.0                  390.0          8367.0   \n",
       "05  35410   3.0      8.6                  450.0          6591.0   \n",
       "..    ...   ...      ...                    ...             ...   \n",
       "91  42180   3.6      7.3                  300.0         69610.0   \n",
       "92  60580   5.0      7.0                  440.0        110533.0   \n",
       "93  33960   3.8     12.0                  340.0        141638.0   \n",
       "94  44900   4.2      8.3                  380.0         89604.0   \n",
       "95  39370   3.7      9.5                  440.0         80623.0   \n",
       "\n",
       "    Nb_Boucherie_dep_hab  Crim_Del_GN_hab  Crim_Del_PN_hab  Crim_Del_PN_GN_hab  \n",
       "01                  32.0           3045.0            885.0              3930.0  \n",
       "02                  22.0           2511.0           2227.0              4739.0  \n",
       "03                  30.0           1578.0           2298.0              3876.0  \n",
       "04                  46.0           3326.0           1636.0              4962.0  \n",
       "05                  47.0           2527.0           2009.0              4536.0  \n",
       "..                   ...              ...              ...                 ...  \n",
       "91                  22.0           1184.0           4125.0              5310.0  \n",
       "92                  23.0              NaN           6758.0              6758.0  \n",
       "93                  36.0              NaN           8640.0              8640.0  \n",
       "94                  26.0              NaN           6374.0              6374.0  \n",
       "95                  27.0           1122.0           5333.0              6456.0  \n",
       "\n",
       "[96 rows x 14 columns]"
      ]
     },
     "execution_count": 11,
     "metadata": {},
     "output_type": "execute_result"
    }
   ],
   "source": [
    "%store -r donnees_2018_hab\n",
    "%store -r donnees_2018\n",
    "donnees_2018_hab"
   ]
  },
  {
   "cell_type": "code",
   "execution_count": 12,
   "id": "58c4801d-1b86-4f17-a42e-7ae430f92462",
   "metadata": {},
   "outputs": [],
   "source": [
    "donnees_2018_hab=donnees_2018_hab.drop(columns=['REG', 'Libellé','Crim_Del_PN_GN','Crim_Del_GN_hab','Crim_Del_PN_hab'])\n",
    "\n"
   ]
  },
  {
   "cell_type": "code",
   "execution_count": null,
   "id": "bc1577de-700d-4558-acc8-6d0016ffb5d2",
   "metadata": {},
   "outputs": [],
   "source": [
    "# donnees_2018_hab=donnees_2018_hab[(donnees_2018_hab.index<'91') & (donnees_2018_hab.index!='75') & (donnees_2018_hab.index!='2A') & (donnees_2018_hab.index!='2B')]"
   ]
  },
  {
   "cell_type": "markdown",
   "id": "f05fcdbe-ca2b-477e-bee2-9a3dad672bbe",
   "metadata": {},
   "source": [
    "# 1 - Approche économétrique\n",
    "\n",
    "Dans une première approché économétrique, nous essayons de prédire le nombre de crimes à partir uniquement du nombre de boucherie, puis en rajoutant des variables de contrôles"
   ]
  },
  {
   "cell_type": "markdown",
   "id": "db661dd4-5de4-43ce-8969-64a8e2c0ce22",
   "metadata": {},
   "source": [
    "## 1-A Régression linéaire simple"
   ]
  },
  {
   "cell_type": "code",
   "execution_count": 22,
   "id": "d8319b6e-fdae-4e44-a902-f301ba611518",
   "metadata": {},
   "outputs": [
    {
     "data": {
      "text/plain": [
       "<matplotlib.collections.PathCollection at 0x7f958ec102b0>"
      ]
     },
     "execution_count": 22,
     "metadata": {},
     "output_type": "execute_result"
    },
    {
     "data": {
      "image/png": "[encoded data removed]",
      "text/plain": [
       "<Figure size 432x288 with 1 Axes>"
      ]
     },
     "metadata": {
      "needs_background": "light"
     },
     "output_type": "display_data"
    }
   ],
   "source": [
    "# Code from https://towardsdatascience.com/simulating-replicating-r-regression-plot-in-python-using-sklearn-4ee48a15b67\n",
    "\n",
    "lm = LinearRegression()\n",
    "\n",
    "X_train=donnees_2018_hab[[ 'Nb_Boucherie_dep_hab']]\n",
    "y_train=donnees_2018_hab[['Crim_Del_PN_GN_hab']]\n",
    "\n",
    "lm.fit(X_train, y_train)\n",
    "\n",
    "\n",
    "# # for predictions\n",
    "predictions = lm.predict(X_train)\n",
    "\n",
    "beta_hat = [lm.intercept_.tolist()] + lm.coef_.tolist()\n",
    "beta_hat\n",
    "plt.scatter(X_train, y_train)\n"
   ]
  },
  {
   "cell_type": "code",
   "execution_count": 23,
   "id": "507fd547-ac70-4be5-a2b6-721bfe530b3f",
   "metadata": {},
   "outputs": [
    {
     "name": "stdout",
     "output_type": "stream",
     "text": [
      "                            OLS Regression Results                            \n",
      "==============================================================================\n",
      "Dep. Variable:     Crim_Del_PN_GN_hab   R-squared:                       0.002\n",
      "Model:                            OLS   Adj. R-squared:                 -0.008\n",
      "Method:                 Least Squares   F-statistic:                    0.2105\n",
      "Date:                Tue, 04 Jan 2022   Prob (F-statistic):              0.647\n",
      "Time:                        12:15:21   Log-Likelihood:                -832.41\n",
      "No. Observations:                  96   AIC:                             1669.\n",
      "Df Residuals:                      94   BIC:                             1674.\n",
      "Df Model:                           1                                         \n",
      "Covariance Type:            nonrobust                                         \n",
      "========================================================================================\n",
      "                           coef    std err          t      P>|t|      [0.025      0.975]\n",
      "----------------------------------------------------------------------------------------\n",
      "Intercept             4773.8647    482.611      9.892      0.000    3815.630    5732.099\n",
      "Nb_Boucherie_dep_hab    -6.6139     14.417     -0.459      0.647     -35.239      22.012\n",
      "==============================================================================\n",
      "Omnibus:                       83.491   Durbin-Watson:                   1.819\n",
      "Prob(Omnibus):                  0.000   Jarque-Bera (JB):              749.527\n",
      "Skew:                           2.751   Prob(JB):                    1.75e-163\n",
      "Kurtosis:                      15.535   Cond. No.                         111.\n",
      "==============================================================================\n",
      "\n",
      "Notes:\n",
      "[1] Standard Errors assume that the covariance matrix of the errors is correctly specified.\n"
     ]
    }
   ],
   "source": [
    "reg_with_statsmodels = ols(\" Crim_Del_PN_GN_hab ~  Nb_Boucherie_dep_hab\", data = donnees_2018_hab).fit()\n",
    "print(reg_with_statsmodels.summary())"
   ]
  },
  {
   "cell_type": "markdown",
   "id": "e7b479f4-627f-404f-b1fe-c4447cca1fed",
   "metadata": {},
   "source": [
    "## 1-B Régression linéaire multiple"
   ]
  },
  {
   "cell_type": "code",
   "execution_count": 27,
   "id": "73e928df-2a5d-4e34-9b6b-09bb23efd334",
   "metadata": {},
   "outputs": [
    {
     "data": {
      "text/plain": [
       "array([0.6639937 , 0.25309168, 0.09378301, 0.72619318, 0.39360204])"
      ]
     },
     "execution_count": 27,
     "metadata": {},
     "output_type": "execute_result"
    }
   ],
   "source": [
    "# Code from https://towardsdatascience.com/simulating-replicating-r-regression-plot-in-python-using-sklearn-4ee48a15b67\n",
    "\n",
    "lm = LinearRegression()\n",
    "\n",
    "X_train=donnees_2018_hab[['MED18', 'TP6018', 'D118', 'D918', 'RD18', 'T1_2018',\n",
    "       'Nb_PN_GN_dep_100k_hab', 'Nb_Boucherie_dep_hab']]\n",
    "y_train=donnees_2018_hab[['Crim_Del_PN_GN_hab']]\n",
    "\n",
    "lm.fit(X_train, y_train)\n",
    "\n",
    "\n",
    "\n",
    "# # for predictions\n",
    "predictions = lm.predict(X_train)\n",
    "lm.coef_\n",
    "lm.intercept_\n",
    "scores = cross_val_score(lm, X_train, y_train, scoring='r2', cv=5)\n",
    "scores\n",
    "# R² can be negative with small datasets and cv fold https://stackoverflow.com/questions/23036866/scikit-learn-is-returning-coefficient-of-determination-r2-values-less-than-1"
   ]
  },
  {
   "cell_type": "code",
   "execution_count": 28,
   "id": "68eb97ec-58bb-44ed-bde9-7f8039f3924d",
   "metadata": {},
   "outputs": [
    {
     "name": "stderr",
     "output_type": "stream",
     "text": [
      "/opt/conda/lib/python3.9/site-packages/seaborn/_decorators.py:36: FutureWarning: Pass the following variables as keyword args: x, y. From version 0.12, the only valid positional argument will be `data`, and passing other arguments without an explicit keyword will result in an error or misinterpretation.\n",
      "  warnings.warn(\n"
     ]
    },
    {
     "data": {
      "text/plain": [
       "Text(0.5, 1.0, 'Residual plot')"
      ]
     },
     "execution_count": 28,
     "metadata": {},
     "output_type": "execute_result"
    },
    {
     "data": {
      "image/png": "[encoded data removed]",
      "text/plain": [
       "<Figure size 432x288 with 1 Axes>"
      ]
     },
     "metadata": {
      "needs_background": "light"
     },
     "output_type": "display_data"
    }
   ],
   "source": [
    "\n",
    "\n",
    "sns.residplot(predictions.reshape(-1),'Crim_Del_PN_GN_hab', data=donnees_2018_hab,lowess=True,\n",
    "                                  line_kws={'color': 'red', 'lw': 1, 'alpha': 1})\n",
    "plt.xlabel(\"Fitted values\")\n",
    "plt.title('Residual plot')"
   ]
  },
  {
   "cell_type": "code",
   "execution_count": 30,
   "id": "2c17af4b-5e88-406e-a0f4-d86fd7ad663a",
   "metadata": {},
   "outputs": [
    {
     "data": {
      "text/plain": [
       "Text(0.5, 1.0, 'Normal Q-Q Plot')"
      ]
     },
     "execution_count": 30,
     "metadata": {},
     "output_type": "execute_result"
    },
    {
     "data": {
      "image/png": "[encoded data removed]",
      "text/plain": [
       "<Figure size 504x504 with 1 Axes>"
      ]
     },
     "metadata": {
      "needs_background": "light"
     },
     "output_type": "display_data"
    }
   ],
   "source": [
    "residuals = donnees_2018_hab[\"Crim_Del_PN_GN_hab\"] - predictions.reshape(-1)\n",
    "residuals\n",
    "\n",
    "plt.figure(figsize=(7,7))\n",
    "stats.probplot(residuals, dist=\"norm\", plot=plt)\n",
    "plt.title(\"Normal Q-Q Plot\")"
   ]
  },
  {
   "cell_type": "code",
   "execution_count": 31,
   "id": "be4da845-c6be-4b5b-929a-b73c42a5ad31",
   "metadata": {},
   "outputs": [
    {
     "name": "stderr",
     "output_type": "stream",
     "text": [
      "/opt/conda/lib/python3.9/site-packages/seaborn/_decorators.py:36: FutureWarning: Pass the following variables as keyword args: x, y. From version 0.12, the only valid positional argument will be `data`, and passing other arguments without an explicit keyword will result in an error or misinterpretation.\n",
      "  warnings.warn(\n"
     ]
    },
    {
     "data": {
      "text/plain": [
       "Text(0.5, 0, 'Fitted value')"
      ]
     },
     "execution_count": 31,
     "metadata": {},
     "output_type": "execute_result"
    },
    {
     "data": {
      "image/png": "[encoded data removed]",
      "text/plain": [
       "<Figure size 504x504 with 1 Axes>"
      ]
     },
     "metadata": {
      "needs_background": "light"
     },
     "output_type": "display_data"
    }
   ],
   "source": [
    "model_norm_residuals_abs_sqrt=np.sqrt(np.abs(residuals))\n",
    "\n",
    "plt.figure(figsize=(7,7))\n",
    "sns.regplot(predictions.reshape(-1), model_norm_residuals_abs_sqrt,\n",
    "              scatter=True,\n",
    "              lowess=True,\n",
    "              line_kws={'color': 'red', 'lw': 1, 'alpha': 0.8})\n",
    "plt.ylabel(\"Standarized residuals\")\n",
    "plt.xlabel(\"Fitted value\")\n",
    "\n",
    "# Hétéroscédasticité\n",
    "# Woolridge's Introductory Econometrics suggest taking the natural log for : \n",
    "# * conditional distributions that are heteroskedastic or skewed;\n",
    "# * Population variables/  Monetary variables\n",
    "# * log(1+y) if 0 exists"
   ]
  },
  {
   "cell_type": "code",
   "execution_count": 33,
   "id": "4f3cd5bc-a9b5-45ac-8923-629e0a08be48",
   "metadata": {},
   "outputs": [
    {
     "name": "stdout",
     "output_type": "stream",
     "text": [
      "                            OLS Regression Results                            \n",
      "==============================================================================\n",
      "Dep. Variable:     Crim_Del_PN_GN_hab   R-squared:                       0.768\n",
      "Model:                            OLS   Adj. R-squared:                  0.747\n",
      "Method:                 Least Squares   F-statistic:                     36.01\n",
      "Date:                Tue, 04 Jan 2022   Prob (F-statistic):           1.81e-24\n",
      "Time:                        12:16:57   Log-Likelihood:                -762.38\n",
      "No. Observations:                  96   AIC:                             1543.\n",
      "Df Residuals:                      87   BIC:                             1566.\n",
      "Df Model:                           8                                         \n",
      "Covariance Type:            nonrobust                                         \n",
      "=========================================================================================\n",
      "                            coef    std err          t      P>|t|      [0.025      0.975]\n",
      "-----------------------------------------------------------------------------------------\n",
      "Intercept             -5.564e+04   1.33e+04     -4.198      0.000    -8.2e+04   -2.93e+04\n",
      "Nb_Boucherie_dep_hab    -12.2719      8.688     -1.412      0.161     -29.541       4.997\n",
      "MED18                     0.6074      0.292      2.077      0.041       0.026       1.188\n",
      "TP6018                  384.4808    154.299      2.492      0.015      77.796     691.166\n",
      "D118                      3.3082      0.813      4.071      0.000       1.693       4.923\n",
      "D918                     -0.8040      0.192     -4.181      0.000      -1.186      -0.422\n",
      "RD18                   9744.1539   1864.752      5.225      0.000    6037.756    1.35e+04\n",
      "T1_2018                 215.1694     72.175      2.981      0.004      71.713     358.626\n",
      "Nb_PN_GN_dep_100k_hab     0.7863      0.824      0.954      0.343      -0.852       2.425\n",
      "==============================================================================\n",
      "Omnibus:                        5.672   Durbin-Watson:                   1.900\n",
      "Prob(Omnibus):                  0.059   Jarque-Bera (JB):                8.412\n",
      "Skew:                           0.109   Prob(JB):                       0.0149\n",
      "Kurtosis:                       4.434   Cond. No.                     8.16e+06\n",
      "==============================================================================\n",
      "\n",
      "Notes:\n",
      "[1] Standard Errors assume that the covariance matrix of the errors is correctly specified.\n",
      "[2] The condition number is large, 8.16e+06. This might indicate that there are\n",
      "strong multicollinearity or other numerical problems.\n"
     ]
    }
   ],
   "source": [
    "formula_reg= \" Crim_Del_PN_GN_hab ~  Nb_Boucherie_dep_hab + MED18 + TP6018 + D118 + D918 + RD18 + T1_2018 +    Nb_PN_GN_dep_100k_hab\"\n",
    "reg_with_statsmodels = ols( formula_reg, data = donnees_2018_hab).fit()\n",
    "print(reg_with_statsmodels.summary())"
   ]
  },
  {
   "cell_type": "code",
   "execution_count": 34,
   "id": "1a4490a9-0e15-48e1-81fc-cbae3c86f263",
   "metadata": {},
   "outputs": [
    {
     "name": "stdout",
     "output_type": "stream",
     "text": [
      "                            OLS Regression Results                            \n",
      "==============================================================================\n",
      "Dep. Variable:     Crim_Del_PN_GN_hab   R-squared:                       0.637\n",
      "Model:                            OLS   Adj. R-squared:                  0.617\n",
      "Method:                 Least Squares   F-statistic:                     31.61\n",
      "Date:                Tue, 04 Jan 2022   Prob (F-statistic):           1.88e-18\n",
      "Time:                        12:17:48   Log-Likelihood:                 42.253\n",
      "No. Observations:                  96   AIC:                            -72.51\n",
      "Df Residuals:                      90   BIC:                            -57.12\n",
      "Df Model:                           5                                         \n",
      "Covariance Type:            nonrobust                                         \n",
      "=========================================================================================\n",
      "                            coef    std err          t      P>|t|      [0.025      0.975]\n",
      "-----------------------------------------------------------------------------------------\n",
      "Intercept               -25.6778      3.406     -7.540      0.000     -32.443     -18.912\n",
      "Nb_Boucherie_dep_hab     -0.1047      0.064     -1.635      0.106      -0.232       0.023\n",
      "MED18                     3.1244      0.332      9.403      0.000       2.464       3.785\n",
      "TP6018                    0.7793      0.176      4.432      0.000       0.430       1.129\n",
      "T1_2018                   0.4809      0.141      3.399      0.001       0.200       0.762\n",
      "Nb_PN_GN_dep_100k_hab     0.0296      0.069      0.426      0.671      -0.108       0.168\n",
      "==============================================================================\n",
      "Omnibus:                       10.341   Durbin-Watson:                   2.100\n",
      "Prob(Omnibus):                  0.006   Jarque-Bera (JB):               26.990\n",
      "Skew:                           0.053   Prob(JB):                     1.38e-06\n",
      "Kurtosis:                       5.595   Cond. No.                     2.61e+03\n",
      "==============================================================================\n",
      "\n",
      "Notes:\n",
      "[1] Standard Errors assume that the covariance matrix of the errors is correctly specified.\n",
      "[2] The condition number is large, 2.61e+03. This might indicate that there are\n",
      "strong multicollinearity or other numerical problems.\n"
     ]
    }
   ],
   "source": [
    "new_donnees_2018_hab=donnees_2018_hab\n",
    "new_donnees_2018_hab['Crim_Del_PN_GN_hab'] = np.log(new_donnees_2018_hab['Crim_Del_PN_GN_hab'])\n",
    "new_donnees_2018_hab['RD18'] = np.log(new_donnees_2018_hab['RD18'])\n",
    "new_donnees_2018_hab['D918'] = np.log(new_donnees_2018_hab['D918'])\n",
    "new_donnees_2018_hab['D118'] = np.log(new_donnees_2018_hab['D118'])\n",
    "new_donnees_2018_hab['TP6018'] = np.log(new_donnees_2018_hab['TP6018'])\n",
    "new_donnees_2018_hab['MED18'] = np.log(new_donnees_2018_hab['MED18'])\n",
    "new_donnees_2018_hab['Nb_Boucherie_dep_hab'] = np.log(new_donnees_2018_hab['Nb_Boucherie_dep_hab'])\n",
    "new_donnees_2018_hab['Nb_PN_GN_dep_100k_hab'] = np.log(new_donnees_2018_hab['Nb_PN_GN_dep_100k_hab'])\n",
    "new_donnees_2018_hab['T1_2018'] = np.log(new_donnees_2018_hab['T1_2018'])\n",
    "\n",
    "formula_reg= \" Crim_Del_PN_GN_hab ~  Nb_Boucherie_dep_hab + MED18 + TP6018   + T1_2018 +    Nb_PN_GN_dep_100k_hab\"\n",
    "\n",
    "reg_with_statsmodels = ols( formula_reg, data = new_donnees_2018_hab).fit()\n",
    "print(reg_with_statsmodels.summary())"
   ]
  },
  {
   "cell_type": "markdown",
   "id": "59ee5998-4229-43c8-a373-d0b619d79ee6",
   "metadata": {},
   "source": [
    "# 2 - Approche Machine learning"
   ]
  },
  {
   "cell_type": "code",
   "execution_count": null,
   "id": "ed411332-ba36-4f45-85a5-e31cd78664de",
   "metadata": {},
   "outputs": [],
   "source": [
    "# https://scikit-learn.org/stable/auto_examples/preprocessing/plot_all_scaling.html\n",
    "# Both StandardScaler and MinMaxScaler are very sensitive to the presence of outliers.\n",
    "# MaxAbsScaler therefore also suffers from the presence of large outliers.\n",
    "\n",
    "\n",
    "from sklearn.preprocessing import RobustScaler\n",
    "from sklearn.model_selection import train_test_split\n",
    "from sklearn.model_selection import GridSearchCV\n",
    "from sklearn.pipeline import make_pipeline\n",
    "from sklearn.svm import SVR\n",
    "\n",
    "\n",
    "# df_train, df_test = train_test_split(donnees_2018_hab, \n",
    "#                                      train_size = 0.7, \n",
    "#                                      test_size = 0.3\n",
    "#                                     )\n",
    "\n",
    "\n",
    "\n",
    "# pipeline = make_pipeline(RobustScaler(),  SVR(kernel='linear',C=1.0, epsilon=0.2))\n",
    "# pipeline.fit(X_train, y_train)\n",
    "# # vA = GridSearchCV(pipeline, param_grid=param_grid,\n",
    "# #                      scoring='roc_auc', cv=10, refit=True)\n",
    "# # vA.fit(X_train, y_train)\n",
    "\n",
    "# print(pipeline.predict(X_test))\n",
    "# print(y_test)\n",
    "\n",
    "\n",
    "\n",
    "\n",
    "new_X_train = X_train['Nb_Boucherie_dep_hab']\n",
    "new_Y_train = y_train\n",
    "new_X_test= X_test['Nb_Boucherie_dep_hab']\n",
    "new_Y_test = y_test\n",
    "\n",
    "sc_X = RobustScaler()\n",
    "sc_Y = RobustScaler()\n",
    "X_train_scaled = sc_X.fit_transform(new_X_train.values.reshape(-1, 1))\n",
    "Y_train_scaled = sc_Y.fit_transform(new_Y_train.values.reshape(-1, 1))\n",
    "X_test_scaled=sc_X.fit_transform(new_X_test.values.reshape(-1, 1))\n",
    "\n",
    "\n",
    "svr = SVR(kernel ='linear')\n",
    "svr.fit(X_train_scaled, Y_train_scaled)\n",
    "plt.scatter(X_train_scaled, Y_train_scaled, color = 'blue')\n",
    "plt.scatter(X_train_scaled, svr.predict(X_train_scaled), color = 'red')\n",
    "plt.title('Crim_Del_PN_GN_hab vs  Nb_Boucherie_dep_hab  (SVR)')\n",
    "plt.xlabel('Nb_Boucherie_dep_hab')\n",
    "plt.ylabel('Crim_Del_PN_GN_hab')\n",
    "plt.show()\n",
    "\n",
    "print(sc_Y.inverse_transform(svr.predict(X_test_scaled).reshape(-1,1)))\n",
    "print(new_Y_test)"
   ]
  }
 ],
 "metadata": {
  "kernelspec": {
   "display_name": "Python 3 (ipykernel)",
   "language": "python",
   "name": "python3"
  },
  "language_info": {
   "codemirror_mode": {
    "name": "ipython",
    "version": 3
   },
   "file_extension": ".py",
   "mimetype": "text/x-python",
   "name": "python",
   "nbconvert_exporter": "python",
   "pygments_lexer": "ipython3",
   "version": "3.9.7"
  }
 },
 "nbformat": 4,
 "nbformat_minor": 5
}
