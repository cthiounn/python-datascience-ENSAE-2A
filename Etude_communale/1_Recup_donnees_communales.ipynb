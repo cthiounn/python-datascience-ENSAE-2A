{
 "cells": [
  {
   "cell_type": "markdown",
   "id": "bb68a801-220a-4767-a8ec-5c88a669ee7b",
   "metadata": {},
   "source": [
    "# Chapitre 4 - Récupération des données pour l'étude communale"
   ]
  },
  {
   "cell_type": "code",
   "execution_count": 1,
   "id": "a3eb243a-7cf0-471b-b2b9-70852cae9c39",
   "metadata": {},
   "outputs": [],
   "source": [
    "# Paramètre(s) du notebook\n",
    "ignore_warning=True\n",
    "# ignore_warning=False\n",
    "\n",
    "# VERBOSE=True\n",
    "VERBOSE=False\n",
    "\n",
    "OPTIONS=\"\"\n",
    "if not VERBOSE:\n",
    "    OPTIONS=\"--quiet\""
   ]
  },
  {
   "cell_type": "markdown",
   "id": "901c5c67-e1a5-49f7-88bc-469126134e5e",
   "metadata": {},
   "source": [
    "## 1- Importation des librairies externes et classiques"
   ]
  },
  {
   "cell_type": "code",
   "execution_count": 2,
   "id": "11d0bc14-7f44-452d-88c9-c19f6013dc39",
   "metadata": {},
   "outputs": [
    {
     "name": "stdout",
     "output_type": "stream",
     "text": [
      "\u001b[31mERROR: pip's dependency resolver does not currently take into account all the packages that are installed. This behaviour is the source of the following dependency conflicts.\n",
      "numba 0.54.1 requires numpy<1.21,>=1.17, but you have numpy 1.22.2 which is incompatible.\u001b[0m\n"
     ]
    }
   ],
   "source": [
    "# Importation des librairies externes\n",
    "!pip install git+https://github.com/InseeFrLab/Py-Insee-Data@52139da402bc33da6b8892d7d3208f1d2ddfaa02 --ignore-install PyYAML $OPTIONS\n",
    "!pip install python-Levenshtein $OPTIONS\n",
    "!pip install openpyxl $OPTIONS\n",
    "!pip install fuzzywuzzy $OPTIONS"
   ]
  },
  {
   "cell_type": "code",
   "execution_count": 3,
   "id": "0e69d87a-9dec-423c-b705-e5ad29bcff58",
   "metadata": {},
   "outputs": [],
   "source": [
    "# Importation des librairies classiques de python\n",
    "import unicodedata\n",
    "import requests\n",
    "import time\n",
    "import os\n",
    "from tqdm import tqdm\n",
    "import io\n",
    "import warnings\n",
    "\n",
    "# Importation des librairies de datascience et autres\n",
    "import pandas as pd\n",
    "import numpy as np\n",
    "import pynsee\n",
    "import pynsee.download\n",
    "from pynsee.sirene import *\n",
    "from pynsee.utils.init_conn import init_conn\n",
    "from zipfile import ZipFile\n",
    "from fuzzywuzzy import fuzz\n",
    "from bs4 import BeautifulSoup"
   ]
  },
  {
   "cell_type": "code",
   "execution_count": 4,
   "id": "b3018de9-c70c-4c2b-8d68-bf36f15655cf",
   "metadata": {},
   "outputs": [],
   "source": [
    "# token API insee\n",
    "init_conn(insee_key=os.environ['INSEE_KEY'], insee_secret=os.environ['INSEE_SECRET'])"
   ]
  },
  {
   "cell_type": "code",
   "execution_count": 5,
   "id": "defeb22e-9db8-47ed-aed6-c06fbe5e3150",
   "metadata": {},
   "outputs": [
    {
     "name": "stdout",
     "output_type": "stream",
     "text": [
      "1 - Importation des librairies externes et classiques  ====> OK \n"
     ]
    }
   ],
   "source": [
    "print(\"1 - Importation des librairies externes et classiques  ====> OK \")"
   ]
  },
  {
   "cell_type": "markdown",
   "id": "d5d4558e-67b9-4a6e-966c-c101dfb1f2d1",
   "metadata": {
    "tags": []
   },
   "source": [
    "## 2- Téléchargement du Code Officiel Géographique"
   ]
  },
  {
   "cell_type": "markdown",
   "id": "d76cc510-4ff5-4b59-afa4-d9545c42b2c4",
   "metadata": {},
   "source": [
    "* Pour des raisons de simplicité, nous travaillons en géographie 2021 :"
   ]
  },
  {
   "cell_type": "code",
   "execution_count": 6,
   "id": "a5ad48ac-276b-432e-a4b7-cd43ca84eae2",
   "metadata": {},
   "outputs": [
    {
     "name": "stdout",
     "output_type": "stream",
     "text": [
      "Data will be stored in the following location: /tmp/tmpejjpre2v\n"
     ]
    },
    {
     "name": "stderr",
     "output_type": "stream",
     "text": [
      "Downloading: : 1.93MiB [00:01, 1.72MiB/s]                         \n",
      "/opt/conda/lib/python3.9/site-packages/pynsee/download/__init__.py:182: UserWarning: File in insee.fr modified or corrupted during download\n",
      "  warnings.warn(\"File in insee.fr modified or corrupted during download\")\n"
     ]
    },
    {
     "name": "stdout",
     "output_type": "stream",
     "text": [
      "No destination directory defined. Data have been written there: /tmp/tmpz1wjy_ub\n"
     ]
    },
    {
     "name": "stderr",
     "output_type": "stream",
     "text": [
      "Extracting: 100%|██████████| 9.00M/9.00M [00:00<00:00, 205MB/s]\n"
     ]
    }
   ],
   "source": [
    "cog_commune = pynsee.download.telechargerDonnees(\"COG_COMMUNE\", date = \"dernier\")\n",
    "URL_COG_2021=\"https://www.insee.fr/fr/statistiques/fichier/5057840/commune2021-csv.zip\"\n",
    "\n",
    "#Télécharger le zip de l'URL\n",
    "r=requests.get(URL_COG_2021)\n",
    "\n",
    "open(\"commune2021-csv.zip\", 'wb').write(r.content)\n",
    "    \n",
    "    \n",
    "with ZipFile(\"commune2021-csv.zip\",'r') as myzip:\n",
    "   data = myzip.open(\"commune2021.csv\")\n",
    "\n",
    "donnees_cog_2021=pd.read_csv(data,dtype=str)\n",
    "# On enleve les communes associées,arrondissements et déléguées pour simplifier le dataframe\n",
    "donnees_cog_2021=donnees_cog_2021[~donnees_cog_2021.TYPECOM.isin([\"COMA\",\"COMD\",\"ARM\"])]\n",
    "donnees_cog_2021['NCC et DEP']= donnees_cog_2021['NCC'] + \" \" + donnees_cog_2021['DEP']\n",
    "donnees_cog_2021['NCC et COM']= donnees_cog_2021['NCC'] + \" ,\" + donnees_cog_2021['COM']"
   ]
  },
  {
   "cell_type": "code",
   "execution_count": 7,
   "id": "f95703aa-f02d-4352-9737-601617cf5bff",
   "metadata": {},
   "outputs": [],
   "source": [
    "if VERBOSE:\n",
    "    display(donnees_cog_2021.describe())"
   ]
  },
  {
   "cell_type": "markdown",
   "id": "dd636c87-5d40-4339-a779-99fc43a9494d",
   "metadata": {},
   "source": [
    "* création d'une fonction permettant de trouver une commune à partir d'un libellé (codage/codification) à l'aide de la librairie fuzzywuzzy"
   ]
  },
  {
   "cell_type": "code",
   "execution_count": 8,
   "id": "f7b1b882-f769-4912-a582-f569ae9bd10a",
   "metadata": {},
   "outputs": [],
   "source": [
    "def trouve_commune_with_fuzz(libelle,dep):\n",
    "    mondf=donnees_cog_2021[donnees_cog_2021['DEP']==dep]\n",
    "    mondf['score']=mondf['NCC'].apply(lambda x: fuzz.token_sort_ratio(x,libelle))\n",
    "    mondf=mondf.sort_values(by=\"score\",ascending=False)\n",
    "    return mondf['NCC et COM'].iloc[0]"
   ]
  },
  {
   "cell_type": "code",
   "execution_count": 9,
   "id": "cc988377-d514-4ccf-bab9-b6b32de643e6",
   "metadata": {},
   "outputs": [
    {
     "name": "stdout",
     "output_type": "stream",
     "text": [
      "2 - Téléchargement du Code Officiel Géographi  ====> OK \n"
     ]
    }
   ],
   "source": [
    "if not donnees_cog_2021.empty:\n",
    "    print(\"2 - Téléchargement du Code Officiel Géographi  ====> OK \")\n",
    "else:\n",
    "    print(\"2 - Téléchargement du Code Officiel Géographi  ====> KO \")"
   ]
  },
  {
   "cell_type": "markdown",
   "id": "f60315ac-16b1-4901-a013-a6125c2f51b0",
   "metadata": {},
   "source": [
    "## 3- Téléchargement des données de SIRENE"
   ]
  },
  {
   "cell_type": "code",
   "execution_count": 10,
   "id": "a741a098-6c5e-427a-ba84-ae9ceaf69b4a",
   "metadata": {},
   "outputs": [],
   "source": [
    "### Téléchargement des données Sirene sur les établissements Siret de boucherie-charcuterie (code 4722Z) à l'instant T\n",
    "# Téléchargement via Insee sirene data  by sirene.fr website\n",
    "\n",
    "session = requests.session()\n",
    "URL_ACCUEIL = \"https://www.sirene.fr/sirene/public/creation-fichier\"\n",
    "URL_REQUETE_POST = \"https://www.sirene.fr/sirene/public/verifier-creation-fichier.action\"\n",
    "URL_DEVIS=\"https://www.sirene.fr/sirene/client//sirene/client/devis-demande.action\"\n",
    "\n",
    "URL_RECAP=\"https://www.sirene.fr/sirene/client/telechargement-pret-fichier.action\"\n",
    "URL_TELECHARGEMENT_POST=\"https://www.sirene.fr/sirene/client/telechargement-fichier\"\n",
    "POST_DATA={\n",
    "'fichier.caracteristiques.etat.actif': 'true',\n",
    "'__checkbox_fichier.caracteristiques.etat.actif': 'true',\n",
    "'__checkbox_fichier.caracteristiques.etat.ferme': 'true',\n",
    "'fichier.caracteristiques.typeEtablissement': '1',\n",
    "'fichier.caracteristiques.geoFile': 'false',\n",
    "'fichier.caracteristiques.cjFile': 'false',\n",
    "'fichier.caracteristiques.apeFile': 'false',\n",
    "'fichier.caracteristiques.sirenSiretFile': 'false',\n",
    "'fichiersCriteres.criteresGeographie.upload': '(binaire)',\n",
    "'__multiselect_fichier.criteres.geographie.region.modalites': '',\n",
    "'__multiselect_fichier.criteres.geographie.departement.modalites': '',\n",
    "'fichiersCriteres.criteresActivite.upload': '(binaire)',\n",
    "'__multiselect_fichier.criteres.activite.section.modalites': '',\n",
    "'__multiselect_fichier.criteres.activite.division.modalites': '',\n",
    "'__multiselect_fichier.criteres.activite.groupe.modalites': '',\n",
    "'fichier.criteres.activite.sousClasse.modalites': '4722Z',\n",
    "'__multiselect_fichier.criteres.activite.sousClasse.modalites': '',\n",
    "'fichiersCriteres.criteresNature.upload': '(binaire)',\n",
    "'__multiselect_fichier.criteres.nature.entrepriseNiveau1.modalites': '',\n",
    "'__multiselect_fichier.criteres.nature.entrepriseNiveau2.modalites': '',\n",
    "'__multiselect_fichier.criteres.nature.entrepriseNiveau3.modalites': '',\n",
    "'__multiselect_fichier.criteres.trancheEffectif.modalites': '',\n",
    "'fichier.criteres.dateCreation.date': '',\n",
    "'fichier.criteres.dateCreation.dateFin': '',\n",
    "'fichier.criteres.dateMaj.date': '',\n",
    "'fichier.criteres.dateMaj.dateFin': '',\n",
    "'fichiersCriteres.criteresSirenSiret.upload': '(binaire)',\n",
    "'__multiselect_fichier.criteres.criteresCatEnt.modalites': '',\n",
    "'strutsLocale': 'fr_FR',\n",
    "}\n",
    "\n",
    "result=session.get(URL_ACCUEIL)\n",
    "result=session.post(URL_REQUETE_POST, data=POST_DATA)\n",
    "\n",
    "\n",
    "result=session.get(URL_RECAP)\n",
    "\n",
    "result=session.get(URL_DEVIS)\n",
    "\n",
    "result=session.post(URL_TELECHARGEMENT_POST)\n",
    "\n",
    "donnees_sirene_fr=pd.read_csv(io.StringIO(result.content.decode('utf-8')),dtype=str)\n"
   ]
  },
  {
   "cell_type": "markdown",
   "id": "b5eacaa2-ff42-4608-ad2b-defeebe9e0c3",
   "metadata": {},
   "source": [
    "* les données de Sirene.fr sont des données d'entreprises France entière. Pour l'étude, le nombre d'établissement par commune est considéré :"
   ]
  },
  {
   "cell_type": "code",
   "execution_count": 11,
   "id": "7fb25e51-c2eb-403b-9532-462e28b7a532",
   "metadata": {},
   "outputs": [],
   "source": [
    "donnees_sirene_fr_agregees_par_com = donnees_sirene_fr.groupby(\"codeCommuneEtablissement\").size().reset_index(name='NbBoucheriesParCom').set_index(\"codeCommuneEtablissement\")\n",
    "\n",
    "if VERBOSE:\n",
    "    display(donnees_sirene_fr_agregees_par_com.describe())"
   ]
  },
  {
   "cell_type": "code",
   "execution_count": 12,
   "id": "7a8238b0-37ad-4088-b5cd-6605ae8263d9",
   "metadata": {},
   "outputs": [],
   "source": [
    "if VERBOSE:\n",
    "    display(donnees_sirene_fr_agregees_par_com)"
   ]
  },
  {
   "cell_type": "code",
   "execution_count": 13,
   "id": "81fbae30-c04c-41f1-966b-710acbb50e75",
   "metadata": {},
   "outputs": [
    {
     "name": "stdout",
     "output_type": "stream",
     "text": [
      "3 - Téléchargement des données de SIRENE  ====> OK \n"
     ]
    }
   ],
   "source": [
    "if not donnees_sirene_fr_agregees_par_com.empty:\n",
    "    print(\"3 - Téléchargement des données de SIRENE  ====> OK \")\n",
    "else:\n",
    "    print(\"3 - Téléchargement des données de SIRENE  ====> KO \")"
   ]
  },
  {
   "cell_type": "markdown",
   "id": "b0c280bb-d2c2-460c-8e58-426384c0c375",
   "metadata": {},
   "source": [
    "## 4- Téléchargement des données du ministère de l'intérieur"
   ]
  },
  {
   "cell_type": "code",
   "execution_count": 14,
   "id": "10ccf6f6-2731-44a3-9950-58570d19be0d",
   "metadata": {},
   "outputs": [],
   "source": [
    "#Téléchargement des données de crimes et délits rapportés déclarés auprès des commissariats \n",
    "url_datagouv_min_interieur=\"https://www.data.gouv.fr/fr/datasets/r/d792092f-b1f7-4180-a367-d043200c1520\"\n",
    "\n",
    "donnees_police_nationale_2018=pd.read_excel(url_datagouv_min_interieur, sheet_name='Services PN 2018')\n",
    "donnees_gendarmerie_nationale_2018=pd.read_excel(url_datagouv_min_interieur, sheet_name='Services GN 2018' )\n",
    "\n",
    "del donnees_police_nationale_2018[donnees_police_nationale_2018.columns[0]]\n",
    "del donnees_gendarmerie_nationale_2018[donnees_gendarmerie_nationale_2018.columns[0]]\n",
    "\n",
    "url_localisation_pn=\"https://www.data.gouv.fr/fr/datasets/r/2cb2f356-42b2-4195-a35c-d4e4d986c62b\"\n",
    "url_localisation_gn=\"https://www.data.gouv.fr/fr/datasets/r/d6a43ef2-d302-4456-90e9-ff2c47cac562\"\n",
    "donnees_localisation_pn=pd.read_csv(url_localisation_pn,sep=';')\n",
    "donnees_localisation_gn=pd.read_csv(url_localisation_gn,sep=';')\n",
    "\n"
   ]
  },
  {
   "cell_type": "code",
   "execution_count": 15,
   "id": "9fdac7e4-9fd3-4325-9df8-7f98a3e5c6a1",
   "metadata": {},
   "outputs": [],
   "source": [
    "normalMap = {'À': 'A', 'Á': 'A', 'Â': 'A', 'Ã': 'A', 'Ä': 'A',\n",
    "             'à': 'a', 'á': 'a', 'â': 'a', 'ã': 'a', 'ä': 'a', 'ª': 'A',\n",
    "             'È': 'E', 'É': 'E', 'Ê': 'E', 'Ë': 'E',\n",
    "             'è': 'e', 'é': 'e', 'ê': 'e', 'ë': 'e',\n",
    "             'Í': 'I', 'Ì': 'I', 'Î': 'I', 'Ï': 'I',\n",
    "             'í': 'i', 'ì': 'i', 'î': 'i', 'ï': 'i',\n",
    "             'Ò': 'O', 'Ó': 'O', 'Ô': 'O', 'Õ': 'O', 'Ö': 'O',\n",
    "             'ò': 'o', 'ó': 'o', 'ô': 'o', 'õ': 'o', 'ö': 'o', 'º': 'O',\n",
    "             'Ù': 'U', 'Ú': 'U', 'Û': 'U', 'Ü': 'U',\n",
    "             'ù': 'u', 'ú': 'u', 'û': 'u', 'ü': 'u',\n",
    "             'Ñ': 'N', 'ñ': 'n',\n",
    "             'Ç': 'C', 'ç': 'c',\n",
    "             '§': 'S',  '³': '3', '²': '2', '¹': '1',\n",
    "             'œ':'oe', 'Œ':'OE'}\n",
    "normalize = str.maketrans(normalMap)\n",
    "donnees_localisation_pn[\"service_sans_accent_upper\"]=donnees_localisation_pn.service.apply(lambda x : x.translate(normalize).upper())\n",
    "donnees_localisation_gn[\"service_sans_accent_upper\"]=donnees_localisation_gn.service.apply(lambda x : x.translate(normalize).upper())"
   ]
  },
  {
   "cell_type": "markdown",
   "id": "e7d17a32-8aca-470c-bab4-2833a32f4362",
   "metadata": {},
   "source": [
    "## Traitement des données de la Police Nationale"
   ]
  },
  {
   "cell_type": "code",
   "execution_count": 16,
   "id": "d9aa2061-1738-4cdc-b716-104cf01d8c97",
   "metadata": {},
   "outputs": [],
   "source": [
    "if ignore_warning:\n",
    "    warnings.filterwarnings('ignore')\n",
    "\n",
    "\n",
    "donnees_police_nationale_2018_travail=donnees_police_nationale_2018.T\n",
    "donnees_police_nationale_2018_travail.columns = donnees_police_nationale_2018_travail.iloc[0]\n",
    "donnees_police_nationale_2018_travail=donnees_police_nationale_2018_travail.iloc[1: , :]\n",
    "\n",
    "# On retire les données COM par manque d'autres sources pour les autres données\n",
    "donnees_police_nationale_2018_travail=donnees_police_nationale_2018_travail[donnees_police_nationale_2018_travail.index.str[:2]!='98']\n",
    "\n",
    "# 1 - Traitements des commissariats\n",
    "\n",
    "donnees_police_nationale_2018_commissariat_seulement=donnees_police_nationale_2018_travail[donnees_police_nationale_2018_travail['Libellé index \\ CSP'].str.contains(\"CIAT\")]\n",
    "\n",
    "\n",
    "donnees_police_nationale_2018_commissariat_seulement[\"LIBELLE_A_RECHERCHER\"]=donnees_police_nationale_2018_travail['Libellé index \\ CSP'].str.replace('CIAT','')\n",
    "donnees_police_nationale_2018_commissariat_seulement[\"LIBELLE_A_RECHERCHER\"]=donnees_police_nationale_2018_commissariat_seulement[\"LIBELLE_A_RECHERCHER\"].str.replace('CENTRAL','')\n",
    "donnees_police_nationale_2018_commissariat_seulement[\"LIBELLE_A_RECHERCHER\"]=donnees_police_nationale_2018_commissariat_seulement[\"LIBELLE_A_RECHERCHER\"].str.replace('DE ','')\n",
    "donnees_police_nationale_2018_commissariat_seulement[\"LIBELLE_A_RECHERCHER\"]=donnees_police_nationale_2018_commissariat_seulement[\"LIBELLE_A_RECHERCHER\"].str.replace('DES ','')\n",
    "donnees_police_nationale_2018_commissariat_seulement[\"LIBELLE_A_RECHERCHER\"]=donnees_police_nationale_2018_commissariat_seulement[\"LIBELLE_A_RECHERCHER\"].str.replace('DU ','')\n",
    "donnees_police_nationale_2018_commissariat_seulement[\"LIBELLE_A_RECHERCHER\"]=donnees_police_nationale_2018_commissariat_seulement[\"LIBELLE_A_RECHERCHER\"].str.replace('D\\'','')\n",
    "\n",
    "donnees_police_nationale_2018_commissariat_seulement[\"DEP\"]=np.where(donnees_police_nationale_2018_commissariat_seulement.index.str[:2]=='97', donnees_police_nationale_2018_commissariat_seulement.index.str[:3],donnees_police_nationale_2018_commissariat_seulement.index.str[:2])\n",
    "donnees_police_nationale_2018_commissariat_seulement[\"COMMUNES\"]=donnees_police_nationale_2018_commissariat_seulement.apply(lambda x: trouve_commune_with_fuzz(x['LIBELLE_A_RECHERCHER'], x.DEP), axis=1)\n",
    "\n",
    "warnings.resetwarnings()"
   ]
  },
  {
   "cell_type": "code",
   "execution_count": 17,
   "id": "69c1bc2c-8dd9-435d-9c34-d0c33f5f94e6",
   "metadata": {},
   "outputs": [],
   "source": [
    "#Reprise manuelle\n",
    "if ignore_warning:\n",
    "    warnings.filterwarnings('ignore')\n",
    "\n",
    "donnees_police_nationale_2018_commissariat_seulement[\"COMMUNES\"]=donnees_police_nationale_2018_commissariat_seulement[\"COMMUNES\"].replace('SIGONCE ,04206',\"DIGNE LES BAINS ,04070\")\n",
    "donnees_police_nationale_2018_commissariat_seulement[\"COMMUNES\"]=donnees_police_nationale_2018_commissariat_seulement[\"COMMUNES\"].replace('EYBURIE ,19079',\"BRIVE LA GAILLARDE ,19031\")\n",
    "donnees_police_nationale_2018_commissariat_seulement[\"COMMUNES\"]=donnees_police_nationale_2018_commissariat_seulement[\"COMMUNES\"].replace('FONTANES ,42096',\"FIRMINY ,42095\")\n",
    "donnees_police_nationale_2018_commissariat_seulement[\"COMMUNES\"]=donnees_police_nationale_2018_commissariat_seulement[\"COMMUNES\"].replace('GUMIERES ,42107',\"SAINT CHAMOND ,42207\")\n",
    "donnees_police_nationale_2018_commissariat_seulement[\"COMMUNES\"]=donnees_police_nationale_2018_commissariat_seulement[\"COMMUNES\"].replace('NEUFBOURG ,50371',\"CHERBOURG EN COTENTIN ,50129\")\n",
    "donnees_police_nationale_2018_commissariat_seulement[\"COMMUNES\"]=donnees_police_nationale_2018_commissariat_seulement[\"COMMUNES\"].replace('BRULEY ,54102',\"VAL DE BRIEY ,54099\")\n",
    "donnees_police_nationale_2018_commissariat_seulement[\"COMMUNES\"]=donnees_police_nationale_2018_commissariat_seulement[\"COMMUNES\"].replace('BASLIEUX ,54049',\"DOMBASLE SUR MEURTHE ,54159\")\n",
    "donnees_police_nationale_2018_commissariat_seulement[\"COMMUNES\"]=donnees_police_nationale_2018_commissariat_seulement[\"COMMUNES\"].replace('BOUQUEHAULT ,62161',\"TOUQUET PARIS PLAGE ,62826\")\n",
    "donnees_police_nationale_2018_commissariat_seulement[\"COMMUNES\"]=donnees_police_nationale_2018_commissariat_seulement[\"COMMUNES\"].replace('CLERMONT ,74078',\"THONON LES BAINS ,74281\")\n",
    "donnees_police_nationale_2018_commissariat_seulement[\"COMMUNES\"]=donnees_police_nationale_2018_commissariat_seulement[\"COMMUNES\"].replace('MELZ SUR SEINE ,77289',\"MELUN ,77288 \")\n",
    "donnees_police_nationale_2018_commissariat_seulement[\"COMMUNES\"]=donnees_police_nationale_2018_commissariat_seulement[\"COMMUNES\"].replace('MONTIGNY SUR LOING ,77312',\"MORET LOING ET ORVANNE ,77316\")\n",
    "donnees_police_nationale_2018_commissariat_seulement[\"COMMUNES\"]=donnees_police_nationale_2018_commissariat_seulement[\"COMMUNES\"].replace('SAINT RAPHAEL ,83118',\"FREJUS ,83061\")\n",
    "donnees_police_nationale_2018_commissariat_seulement[\"COMMUNES\"]=donnees_police_nationale_2018_commissariat_seulement[\"COMMUNES\"].replace('SALERNES ,83121',\"SEYNE SUR MER ,83126\")\n",
    "donnees_police_nationale_2018_commissariat_seulement[\"COMMUNES\"]=donnees_police_nationale_2018_commissariat_seulement[\"COMMUNES\"].replace('DESTORD ,88130',\"SAINT DIE DES VOSGES ,88413\")\n",
    "donnees_police_nationale_2018_commissariat_seulement[\"COMMUNES\"]=donnees_police_nationale_2018_commissariat_seulement[\"COMMUNES\"].replace('CERNY ,91129',\"EVRY ,91228\")\n",
    "donnees_police_nationale_2018_commissariat_seulement[\"COMMUNES\"]=donnees_police_nationale_2018_commissariat_seulement[\"COMMUNES\"].replace('CARRIERES SUR SEINE ,78124',\"HOUILLES ,78311\")\n",
    "donnees_police_nationale_2018_commissariat_seulement[\"COMMUNES\"]=donnees_police_nationale_2018_commissariat_seulement[\"COMMUNES\"].replace('DAGNY ,77151',\"LAGNY SUR MARNE ,77243\")\n",
    "donnees_police_nationale_2018_commissariat_seulement[\"COMMUNES\"]=donnees_police_nationale_2018_commissariat_seulement[\"COMMUNES\"].replace('MANAS ,26171',\"ROMANS SUR ISERE ,26281\")\n",
    "donnees_police_nationale_2018_commissariat_seulement[\"COMMUNES\"]=donnees_police_nationale_2018_commissariat_seulement[\"COMMUNES\"].replace('NOEUX LES MINES ,62617',\"BARLIN ,62083\")\n",
    "donnees_police_nationale_2018_commissariat_seulement[\"COMMUNES\"]=donnees_police_nationale_2018_commissariat_seulement[\"COMMUNES\"].replace('POINTE A PITRE ,97120',\"LES ABYMES, 97101\")\n",
    "\n",
    "# DIGNE\t04\tSIGONCE ,04206    -> DIGNE LES BAINS ,04070\n",
    "# BRIVE\t19\tEYBURIE ,19079\t-> BRIVE LA GAILLARDE ,19031\n",
    "# ONDAINE\t42\tFONTANES ,42096 -> FIRMINY ,42095\n",
    "# GIER\t42\tGUMIERES ,42107  -> SAINT CHAMOND ,42207\n",
    "# CHERBOURG\t50\tNEUFBOURG ,50371  -> CHERBOURG EN COTENTIN ,50129\n",
    "# BRIEY\t54\tBRULEY ,54102\t-> VAL DE BRIEY ,54099\n",
    "# DOMBASLE\t54\tBASLIEUX ,54049\t-> DOMBASLE SUR MEURTHE ,54159\t\n",
    "# TOUQUET\t62\tBOUQUEHAULT ,62161\t->TOUQUET PARIS PLAGE ,62826\n",
    "# LEMAN\t74\tCLERMONT ,74078\t->  THONON LES BAINS ,74281\n",
    "# MELUN VAL SEINE\t77  MELZ SUR SEINE ,77289  ->\tMELUN ,77288        (il y a aussi 77350\tLE MEE SUR SEINE)\n",
    "# MORET SUR LOING\t77\tMONTIGNY SUR LOING ,77312\t\t-> MORET LOING ET ORVANNE ,77316\n",
    "# FREJUS ST RAPHAEL\t83\tSAINT RAPHAEL ,83118    -> FREJUS ,83061\n",
    "# LA SEYNE\t83\tSALERNES ,83121\t-> SEYNE SUR MER ,83126\n",
    "# ST DIE\t88\tDESTORD ,88130\t-> SAINT DIE DES VOSGES ,88413\n",
    "# EVRY\t91\tCERNY ,91129 -> EVRY ,91228\n",
    "# HOUILLES CARRIERES SUR SEINE\t78\tCARRIERES SUR SEINE ,78124   -> HOUILLES ,78311\n",
    "# LAGNY\t77\tDAGNY ,77151   -> LAGNY SUR MARNE ,77243\n",
    "# ROMANS\t26\tMANAS ,26171\t-> ROMANS SUR ISERE ,26281\n",
    "# NOEUX LES MINES ,62617 -> \"BARLIN ,62083\"\n",
    "# POINTE A PITRE ,97120 -> \"LES ABYMES, 97101\"\n",
    "\n",
    "warnings.resetwarnings()"
   ]
  },
  {
   "cell_type": "code",
   "execution_count": 18,
   "id": "faba4722-a00e-45dc-a684-54efda011c22",
   "metadata": {},
   "outputs": [],
   "source": [
    "if ignore_warning:\n",
    "    warnings.filterwarnings('ignore')\n",
    "\n",
    "donnees_police_nationale_2018_commissariat_seulement[\"CODE_INSEE\"]=donnees_police_nationale_2018_commissariat_seulement[\"COMMUNES\"].str.replace(r\".*,\",\"\")\n",
    "# donnees_police_nationale_2018_commissariat_seulement[\"CODE_INSEE\"]=donnees_police_nationale_2018_commissariat_seulement[\"CODE_INSEE\"].str.replace(r\"[A-Z][A-Z]+\",\"\")\n",
    "# donnees_police_nationale_2018_commissariat_seulement[\"CODE_INSEE\"]=donnees_police_nationale_2018_commissariat_seulement[\"CODE_INSEE\"].str.replace(r\"[A-Z] \",\"\")\n",
    "donnees_police_nationale_2018_commissariat_seulement[\"CODE_INSEE\"]=donnees_police_nationale_2018_commissariat_seulement[\"CODE_INSEE\"].str.strip()\n",
    "donnees_police_nationale_2018_commissariat_seulement[\"IN_LOC_PN\"]=donnees_police_nationale_2018_commissariat_seulement[\"CODE_INSEE\"].isin(donnees_localisation_pn[\"code_commune_insee\"])\n",
    "\n",
    "if VERBOSE:\n",
    "    display(donnees_police_nationale_2018_commissariat_seulement[~donnees_police_nationale_2018_commissariat_seulement[\"IN_LOC_PN\"]])\n",
    "# donnees_police_nationale_2018_commissariat_seulement\n",
    "#donnees_police_nationale_2018_commissariat_seulement[donnees_police_nationale_2018_commissariat_seulement.LIBELLE_A_RECHERCHER.str.contains(\"melun\",case=False)]\n",
    "#donnees_localisation_pn[donnees_localisation_pn.service.str.contains(\"DIGNE\",case=False)]\n",
    "#donnees_localisation_pn[donnees_localisation_pn.service.str.contains(\"BRIVE\",case=False)]\n",
    "#donnees_localisation_pn[donnees_localisation_pn.service.str.contains(\"ONDAINE\",case=False)]\n",
    "#donnees_localisation_pn[donnees_localisation_pn.service.str.contains(\"GIER\",case=False)]\n",
    "#donnees_localisation_pn[donnees_localisation_pn.service.str.contains(\"CHERBOURG\",case=False)]\n",
    "#donnees_localisation_pn[donnees_localisation_pn.service.str.contains(\"BRIEY\",case=False)]\n",
    "#donnees_localisation_pn[donnees_localisation_pn.service.str.contains(\"DOMBASLE\",case=False)]\n",
    "#donnees_localisation_pn[donnees_localisation_pn.service.str.contains(\"TOUQUET\",case=False)]\n",
    "#donnees_localisation_pn[donnees_localisation_pn.service.str.contains(\"LéMAN\",case=False)]\n",
    "#donnees_localisation_pn[donnees_localisation_pn.service.str.contains(\"MELUN\",case=False)]\n",
    "#donnees_localisation_pn[donnees_localisation_pn.service.str.contains(\"LOING\",case=False)]\n",
    "#donnees_localisation_pn[donnees_localisation_pn.service.str.contains(\"JUS\",case=False)]\n",
    "#donnees_localisation_pn[donnees_localisation_pn.service.str.contains(\"SEYNE\",case=False)]\n",
    "#donnees_localisation_pn[donnees_localisation_pn.service.str.contains(\"DIé\",case=False)]\n",
    "#donnees_localisation_pn[donnees_localisation_pn.service.str.contains(\"EVRY\",case=False)]\n",
    "#donnees_localisation_pn[donnees_localisation_pn.service.str.contains(\"HOUILLES\",case=False)]\n",
    "#donnees_localisation_pn[donnees_localisation_pn.service.str.contains(\"LAGNY\",case=False)]\n",
    "#donnees_localisation_pn[donnees_localisation_pn.service.str.contains(\"ROMANS\",case=False)]\n",
    "#donnees_localisation_pn[donnees_localisation_pn.service.str.contains(\"PITRE\",case=False)]\n",
    "#donnees_localisation_pn[donnees_localisation_pn.service.str.contains(\"NOEUX\",case=False)]\n",
    "\n",
    "warnings.resetwarnings()"
   ]
  },
  {
   "cell_type": "code",
   "execution_count": 19,
   "id": "50240b38-274e-4e88-ba4a-e88e80191687",
   "metadata": {},
   "outputs": [],
   "source": [
    "commissariat_xy=donnees_localisation_pn[[\"code_commune_insee\",\"geocodage_x_GPS\",\"geocodage_y_GPS\"]]\n",
    "commissariat_xy=commissariat_xy[commissariat_xy[\"code_commune_insee\"].str[:2]!=\"98\"]\n",
    "commissariat_xy=commissariat_xy.set_index(\"code_commune_insee\")\n",
    "# !!!!! il existe des communes où il y a plusieurs commissariats => par hypothèse de parcimonie, on n'en garde une au hasard \"first\" !!!!!\n",
    "commissariat_xy=commissariat_xy[~commissariat_xy.index.duplicated(keep=\"first\")]\n",
    "\n",
    "donnees_police_nationale_2018_commissariat_seulement=donnees_police_nationale_2018_commissariat_seulement.reset_index()\n",
    "donnees_police_nationale_2018_commissariat_seulement=donnees_police_nationale_2018_commissariat_seulement.set_index(\"CODE_INSEE\")\n",
    "donnees_police_nationale_2018_commissariat_seulement=donnees_police_nationale_2018_commissariat_seulement.merge(commissariat_xy,how='inner', left_index=True, right_index=True)\n",
    "\n",
    "if VERBOSE:\n",
    "    display(donnees_police_nationale_2018_commissariat_seulement)"
   ]
  },
  {
   "cell_type": "code",
   "execution_count": 20,
   "id": "a8d06994-669d-4026-8324-6a4f0678fd0a",
   "metadata": {},
   "outputs": [],
   "source": [
    "# donnees_police_nationale_2018_autres=donnees_police_nationale_2018_travail[~donnees_police_nationale_2018_travail['Libellé index \\ CSP'].str.contains(\"CIAT\")]\n",
    "\n",
    "\n",
    "# # 2 - Traitements de Paris\n",
    "# dpn2018_paris=donnees_police_nationale_2018_autres[donnees_police_nationale_2018_autres.index.str.contains('75')]\n",
    "# dpn2018_paris['COM']=\"75056\"\n",
    "\n",
    "# # Les données 92-93-94-95 sont communales et départementales : à analyser finement\n",
    "# dpn2018_92_93_94_95=donnees_police_nationale_2018_autres[\n",
    "#     donnees_police_nationale_2018_autres.index.str.contains('92')\n",
    "#     |donnees_police_nationale_2018_autres.index.str.contains('93')\n",
    "#     |donnees_police_nationale_2018_autres.index.str.contains('94')\n",
    "#     |donnees_police_nationale_2018_autres.index.str.contains('95')\n",
    "# ]\n",
    "# dpn2018_92_93_94_95[\"COMMUNES\"]=dpn2018_92_93_94_95['Libellé index \\ CSP'].apply(trouve_commune_with_fuzz)\n",
    "# dpn2018_92_93_94_95\n"
   ]
  },
  {
   "cell_type": "code",
   "execution_count": 21,
   "id": "6bd4fef7-ed4c-48b5-a576-d99fc7d89eec",
   "metadata": {},
   "outputs": [],
   "source": [
    "# dpn2018_hors_paris=donnees_police_nationale_2018_autres[~donnees_police_nationale_2018_autres.index.str.contains('75')]\n",
    "\n",
    "# dpn2018_hors_paris[~dpn2018_hors_paris['Libellé index \\ CSP'].str.contains(\"BMR\")\n",
    "#                                      &~dpn2018_hors_paris['Libellé index \\ CSP'].str.contains(\"BCFZ\")\n",
    "#                                     &~dpn2018_hors_paris['Libellé index \\ CSP'].str.contains(\"USG\")]"
   ]
  },
  {
   "cell_type": "markdown",
   "id": "01e17d30-727e-41ef-92cb-8cb455f1a0f1",
   "metadata": {},
   "source": [
    "## Traitement des données de la Gendarmerie Nationale"
   ]
  },
  {
   "cell_type": "code",
   "execution_count": 22,
   "id": "d1a59db9-97a9-4577-bd85-0659e5867ab5",
   "metadata": {},
   "outputs": [
    {
     "name": "stderr",
     "output_type": "stream",
     "text": [
      "<>:11: DeprecationWarning: invalid escape sequence \\ \n",
      "<>:11: DeprecationWarning: invalid escape sequence \\ \n",
      "/tmp/ipykernel_640/1579481064.py:11: DeprecationWarning: invalid escape sequence \\ \n",
      "  donnees_gendarmerie_nationale_2018_par_com[\"LIBELLE_A_RECHERCHER\"]=donnees_gendarmerie_nationale_2018_par_com['Libellé index \\ CGD'].str.replace('CGD','')\n",
      "/tmp/ipykernel_640/1579481064.py:16: FutureWarning: The default value of regex will change from True to False in a future version.\n",
      "  donnees_gendarmerie_nationale_2018_par_com[\"CODE_INSEE\"]=donnees_gendarmerie_nationale_2018_par_com[\"COMMUNES\"].str.replace(r\".*,\",\"\")\n"
     ]
    }
   ],
   "source": [
    "donnees_gendarmerie_nationale_2018_par_com=donnees_gendarmerie_nationale_2018.T\n",
    "donnees_gendarmerie_nationale_2018_par_com.columns = donnees_gendarmerie_nationale_2018_par_com.iloc[0]\n",
    "donnees_gendarmerie_nationale_2018_par_com=donnees_gendarmerie_nationale_2018_par_com.iloc[1: , :]\n",
    "donnees_gendarmerie_nationale_2018_par_com.columns\n",
    "\n",
    "\n",
    "# On retire les données COM par manque d'autres sources pour les autres données\n",
    "donnees_gendarmerie_nationale_2018_par_com=donnees_gendarmerie_nationale_2018_par_com[donnees_gendarmerie_nationale_2018_par_com.index.str[:2]!='98']\n",
    "donnees_gendarmerie_nationale_2018_par_com=donnees_gendarmerie_nationale_2018_par_com[donnees_gendarmerie_nationale_2018_par_com.index.str[:3]!='978']\n",
    "\n",
    "donnees_gendarmerie_nationale_2018_par_com[\"LIBELLE_A_RECHERCHER\"]=donnees_gendarmerie_nationale_2018_par_com['Libellé index \\ CGD'].str.replace('CGD','')\n",
    "\n",
    "donnees_gendarmerie_nationale_2018_par_com[\"DEP\"]=np.where(donnees_gendarmerie_nationale_2018_par_com.index.str[:2]=='97', donnees_gendarmerie_nationale_2018_par_com.index.str[:3],donnees_gendarmerie_nationale_2018_par_com.index.str[:2])\n",
    "donnees_gendarmerie_nationale_2018_par_com[\"COMMUNES\"]=donnees_gendarmerie_nationale_2018_par_com.apply(lambda x: trouve_commune_with_fuzz(x['LIBELLE_A_RECHERCHER'], x.DEP), axis=1)\n",
    "\n",
    "donnees_gendarmerie_nationale_2018_par_com[\"CODE_INSEE\"]=donnees_gendarmerie_nationale_2018_par_com[\"COMMUNES\"].str.replace(r\".*,\",\"\")\n",
    "donnees_gendarmerie_nationale_2018_par_com[\"CODE_INSEE\"]=donnees_gendarmerie_nationale_2018_par_com[\"CODE_INSEE\"].str.strip()\n",
    "donnees_gendarmerie_nationale_2018_par_com[\"IN_LOC_GN\"]=donnees_gendarmerie_nationale_2018_par_com[\"CODE_INSEE\"].isin(donnees_localisation_gn[\"code_commune_insee\"])\n",
    "ll=list(donnees_gendarmerie_nationale_2018_par_com[~donnees_gendarmerie_nationale_2018_par_com[\"IN_LOC_GN\"]][\"LIBELLE_A_RECHERCHER\"])\n",
    "\n",
    "# Reprise manuelle\n",
    "\n",
    "# '06029'\tCANNES   = 601 chemin de Campane 06250 Mougins\n",
    "# '10325'\tROSIERES PRES TROYES = 58 avenue du 28-Août-1944 10270 Lusigny-sur-Barse\n",
    "# '11069'\tCARCASSONNE = 2 rue Paul-Lacombe 11000 Carcassonne\n",
    "# '13047'\tISTRES = 541 chemin des Pinèdes 13680 Lançon-Provence\n",
    "# '17300'\tLA ROCHELLE = Rue du Champ Pinson 17137 Nieul-sur-Mer\n",
    "# '25388'\tMONTBELIARD = 17 impasse du Chênois 25460 Étupes\n",
    "# '28218'\tLUCE = 2 rue Jean-Monnet 28000 Chartres\n",
    "# '2B033'\tBASTIA = Place de la Mairie Erbalunga 20222 Brando\n",
    "# '33009'\tARCACHON = 28 route de Bordeaux Petit Piquey 33950 Lège-Cap-Ferret\n",
    "# '33065'\tBOULIAC = Quartier Béteille 33270 Bouliac\n",
    "# '38185'\tGRENOBLE = 24, avenue du Vercors 38170 Seyssinet-Pariset\n",
    "# '40192'\tMONT DE MARSAN = Caserne du Baradé 50, rue Pierre Benoît 40000 Mont-de-Marsan\n",
    "# '41018'\tBLOIS = 1, rue Paul Valéry 41350 Vineuil\n",
    "# '44143'\tREZE = 23, rue Gutemberg 44340 Bouguenais\n",
    "# '45208'\tMONTARGIS = 2, route de Mirebeau 45210 Ferrières-en-Gâtinais\n",
    "# '47001'\tAGEN = 15 Rue Valence 47000 Agen\n",
    "# '49099'\tCHOLET = 3, allée de Toscane 49450 Saint-Macaire-en-Mauges\n",
    "# '49328'\tSAUMUR = 1, rue Lespagnol de la Plante 49650 Allonnes\n",
    "# '50129'\tCHERBOURG EN COTENTIN = 28, rue d'Aurigny 50440 Beaumont-Hague\n",
    "# '52448'\tST DIZIER = 13, avenue de la République 52100 Saint-Dizier\n",
    "# '54099'\tNANCY = 2, rue de la Grande Ozeraille 54280 Seichamps\n",
    "# '54395'\tVAL DE BRIEY = 3, place Jean Jaurès 54750 Trieux\n",
    "# '56121'\tLORIENT = 32, rue Du Couëdic 56100 Lorient\n",
    "# '56260'\tVANNES = Caserne Guillaudot 2 Place de la Libération 56000 Vannes\n",
    "# '57227'\tFORBACH = 10 Rue du Petit Bois 57460 Behren-lès-Forbach\n",
    "# '57672'\tTHIONVILLE = 3, rue de la Gendarmerie 57330 Hettange-Grande\n",
    "# '59178'\tDOUAI = Caserne Conroux 240, rue des Wetz 59500 Douai\n",
    "# '59183'\tDUNKERQUE HOYMILLE = Chemin Départemental 916 A 59492 Hoymille\n",
    "# '60159'\tCOMPIEGNE = 2, avenue Thiers 60200 Compiègne\n",
    "# '62193'\tCALAIS = 528, avenue Matisse 62730 Marck\n",
    "# '62765'\tST OMER = Tatinghem 1 Allée du Centenaire 62500 Saint-Martin-lez-Tatinghem\n",
    "# '69029'\tBRON = 19, rue de la République 69740 Genas\n",
    "# '69091'\tGIVORS = 1, rue Louis Guillaumond 69440 Mornant\n",
    "# '69123'\tLYON = Caserne Général de Division Delfosse 2 Rue Bichat 69002 Lyon 02\n",
    "# '71076'\tCHALON SUR SAONE = 2, rue Lucie Aubrac 71880 Châtenoy-le-Royal\n",
    "# '77186'\tFONTAINEBLEAU = 27, rue des Bois 77300 Fontainebleau\n",
    "# '82121'\tMONTAUBAN = 19, avenue André Bonnet 82700 Montech\n",
    "# '84031'\tCARPENTRAS = 162, avenue John Kennedy 84200 Carpentras\n",
    "# '85194'\tLES SABLES D OLONNE = 130, rue du 8-Mai-1945 85440 Talmont-Saint-Hilaire\n",
    "# '86066'\tCHATELLERAULT = 5, boulevard Aristide Briand 86100 Châtellerault\n",
    "# '97120'\tPOINTE A PITRE = 1 Impasse Joas Section Castaing 97180 Sainte-Anne\n",
    "# '97416'\tST PIERRE = 20 Avenue Principale 97450 Saint-Louis\n"
   ]
  },
  {
   "cell_type": "code",
   "execution_count": 23,
   "id": "92f5f060-598b-4ba7-8128-94367b309cc5",
   "metadata": {},
   "outputs": [],
   "source": [
    "# url_demarche_admin=\"https://demarchesadministratives.fr/gendarmerie/\"\n",
    "# url_annuaire_admin=\"https://www.annuaire-administration.com/gendarmerie/\"\n",
    "\n",
    "# r=requests.get(url_annuaire_admin)\n",
    "# #donnees_localisation_gn[donnees_localisation_gn.adresse_geographique.str.contains(\"carcassonne\",case=False)]\n",
    "# #donnees_localisation_gn[donnees_localisation_gn.service.str.contains(\"carcassonne\",case=False)]\n",
    "# #donnees_localisation_gn[donnees_localisation_gn.departement=='11'][\"url\"]\n",
    "\n",
    "# soup = BeautifulSoup(r.text, 'html.parser')\n",
    "# liste_url=[a[\"href\"] for a in soup.find_all(attrs={\"style\": \"color:#000000;\"})]\n"
   ]
  },
  {
   "cell_type": "code",
   "execution_count": 24,
   "id": "bb89da42-e02c-4af1-9a02-a88703a7e30b",
   "metadata": {},
   "outputs": [],
   "source": [
    "#donnees_gendarmerie_nationale_2018_par_com\n",
    "gendarmerie_xy=donnees_localisation_gn[['code_commune_insee',\n",
    "       'geocodage_x_GPS', 'geocodage_y_GPS']]\n",
    "gendarmerie_xy=gendarmerie_xy[gendarmerie_xy[\"code_commune_insee\"].str[:2]!=\"98\"]\n",
    "# on prend les lignes avec geocodage_GPS\n",
    "gendarmerie_xy=gendarmerie_xy[~gendarmerie_xy[\"geocodage_x_GPS\"].isna()]\n",
    "gendarmerie_xy=gendarmerie_xy[~gendarmerie_xy[\"geocodage_y_GPS\"].isna()]\n",
    "gendarmerie_xy=gendarmerie_xy.set_index(\"code_commune_insee\")\n",
    "\n",
    "# !!!!! il existe des communes où il y a plusieurs gendarmeries => par hypothèse de parcimonie, on n'en garde une au hasard \"first\" !!!!!\n",
    "gendarmerie_xy=gendarmerie_xy[~gendarmerie_xy.index.duplicated(keep=\"first\")]\n",
    "\n",
    "donnees_gendarmerie_nationale_2018_par_com_geoloc=donnees_gendarmerie_nationale_2018_par_com.reset_index()\n",
    "donnees_gendarmerie_nationale_2018_par_com_geoloc=donnees_gendarmerie_nationale_2018_par_com_geoloc.set_index(\"CODE_INSEE\")\n",
    "donnees_gendarmerie_nationale_2018_par_com_geoloc=donnees_gendarmerie_nationale_2018_par_com_geoloc.merge(gendarmerie_xy,how='left',right_index=True,left_index=True)\n",
    "if VERBOSE:\n",
    "    display(donnees_gendarmerie_nationale_2018_par_com_geoloc[~donnees_gendarmerie_nationale_2018_par_com_geoloc.IN_LOC_GN].index)\n"
   ]
  },
  {
   "cell_type": "code",
   "execution_count": 25,
   "id": "dc2e66c8-bd50-47af-aee6-f42898a3dea2",
   "metadata": {},
   "outputs": [],
   "source": [
    "donnees_gendarmerie_nationale_2018_par_com_geoloc[\"ADRESSE\"]=\"\"\n",
    "donnees_gendarmerie_nationale_2018_par_com_geoloc.loc[donnees_gendarmerie_nationale_2018_par_com_geoloc.index==\"06029\",\"ADRESSE\"]=\" 601 chemin de Campane 06250 Mougins\"\n",
    "donnees_gendarmerie_nationale_2018_par_com_geoloc.loc[donnees_gendarmerie_nationale_2018_par_com_geoloc.index==\"10325\",\"ADRESSE\"]=\" 58 avenue du 28-Août-1944 10270 Lusigny-sur-Barse\"\n",
    "donnees_gendarmerie_nationale_2018_par_com_geoloc.loc[donnees_gendarmerie_nationale_2018_par_com_geoloc.index==\"11069\",\"ADRESSE\"]=\" 2 rue Paul-Lacombe 11000 Carcassonne\"\n",
    "donnees_gendarmerie_nationale_2018_par_com_geoloc.loc[donnees_gendarmerie_nationale_2018_par_com_geoloc.index==\"13047\",\"ADRESSE\"]=\" 541 chemin des Pinèdes 13680 Lançon-Provence\"\n",
    "donnees_gendarmerie_nationale_2018_par_com_geoloc.loc[donnees_gendarmerie_nationale_2018_par_com_geoloc.index==\"17300\",\"ADRESSE\"]=\" Rue du Champ Pinson 17137 Nieul-sur-Mer\"\n",
    "donnees_gendarmerie_nationale_2018_par_com_geoloc.loc[donnees_gendarmerie_nationale_2018_par_com_geoloc.index==\"25388\",\"ADRESSE\"]=\" 17 impasse du Chênois 25460 Étupes\"\n",
    "donnees_gendarmerie_nationale_2018_par_com_geoloc.loc[donnees_gendarmerie_nationale_2018_par_com_geoloc.index==\"28218\",\"ADRESSE\"]=\" 2 rue Jean-Monnet 28000 Chartres\"\n",
    "donnees_gendarmerie_nationale_2018_par_com_geoloc.loc[donnees_gendarmerie_nationale_2018_par_com_geoloc.index==\"2B033\",\"ADRESSE\"]=\" Place de la Mairie Erbalunga 20222 Brando\"\n",
    "donnees_gendarmerie_nationale_2018_par_com_geoloc.loc[donnees_gendarmerie_nationale_2018_par_com_geoloc.index==\"33009\",\"ADRESSE\"]=\" 28 route de Bordeaux Petit Piquey 33950 Lège-Cap-Ferret\"\n",
    "donnees_gendarmerie_nationale_2018_par_com_geoloc.loc[donnees_gendarmerie_nationale_2018_par_com_geoloc.index==\"33065\",\"ADRESSE\"]=\" Quartier Béteille 33270 Bouliac\"\n",
    "donnees_gendarmerie_nationale_2018_par_com_geoloc.loc[donnees_gendarmerie_nationale_2018_par_com_geoloc.index==\"38185\",\"ADRESSE\"]=\" 24, avenue du Vercors 38170 Seyssinet-Pariset\"\n",
    "donnees_gendarmerie_nationale_2018_par_com_geoloc.loc[donnees_gendarmerie_nationale_2018_par_com_geoloc.index==\"40192\",\"ADRESSE\"]=\" Caserne du Baradé 50, rue Pierre Benoît 40000 Mont-de-Marsan\"\n",
    "donnees_gendarmerie_nationale_2018_par_com_geoloc.loc[donnees_gendarmerie_nationale_2018_par_com_geoloc.index==\"41018\",\"ADRESSE\"]=\" 1, rue Paul Valéry 41350 Vineuil\"\n",
    "donnees_gendarmerie_nationale_2018_par_com_geoloc.loc[donnees_gendarmerie_nationale_2018_par_com_geoloc.index==\"44143\",\"ADRESSE\"]=\" 23, rue Gutemberg 44340 Bouguenais\"\n",
    "donnees_gendarmerie_nationale_2018_par_com_geoloc.loc[donnees_gendarmerie_nationale_2018_par_com_geoloc.index==\"45208\",\"ADRESSE\"]=\" 2, route de Mirebeau 45210 Ferrières-en-Gâtinais\"\n",
    "donnees_gendarmerie_nationale_2018_par_com_geoloc.loc[donnees_gendarmerie_nationale_2018_par_com_geoloc.index==\"47001\",\"ADRESSE\"]=\" 15 Rue Valence 47000 Agen\"\n",
    "donnees_gendarmerie_nationale_2018_par_com_geoloc.loc[donnees_gendarmerie_nationale_2018_par_com_geoloc.index==\"49099\",\"ADRESSE\"]=\" 3, allée de Toscane 49450 Saint-Macaire-en-Mauges\"\n",
    "donnees_gendarmerie_nationale_2018_par_com_geoloc.loc[donnees_gendarmerie_nationale_2018_par_com_geoloc.index==\"49328\",\"ADRESSE\"]=\" 1, rue Lespagnol de la Plante 49650 Allonnes\"\n",
    "donnees_gendarmerie_nationale_2018_par_com_geoloc.loc[donnees_gendarmerie_nationale_2018_par_com_geoloc.index==\"50129\",\"ADRESSE\"]=\" 28, rue d'Aurigny 50440 Beaumont-Hague\"\n",
    "donnees_gendarmerie_nationale_2018_par_com_geoloc.loc[donnees_gendarmerie_nationale_2018_par_com_geoloc.index==\"52448\",\"ADRESSE\"]=\" 13, avenue de la République 52100 Saint-Dizier\"\n",
    "donnees_gendarmerie_nationale_2018_par_com_geoloc.loc[donnees_gendarmerie_nationale_2018_par_com_geoloc.index==\"54099\",\"ADRESSE\"]=\" 2, rue de la Grande Ozeraille 54280 Seichamps\"\n",
    "donnees_gendarmerie_nationale_2018_par_com_geoloc.loc[donnees_gendarmerie_nationale_2018_par_com_geoloc.index==\"54395\",\"ADRESSE\"]=\" 3, place Jean Jaurès 54750 Trieux\"\n",
    "donnees_gendarmerie_nationale_2018_par_com_geoloc.loc[donnees_gendarmerie_nationale_2018_par_com_geoloc.index==\"56121\",\"ADRESSE\"]=\" 32, rue Du Couëdic 56100 Lorient\"\n",
    "donnees_gendarmerie_nationale_2018_par_com_geoloc.loc[donnees_gendarmerie_nationale_2018_par_com_geoloc.index==\"56260\",\"ADRESSE\"]=\" Caserne Guillaudot 2 Place de la Libération 56000 Vannes\"\n",
    "donnees_gendarmerie_nationale_2018_par_com_geoloc.loc[donnees_gendarmerie_nationale_2018_par_com_geoloc.index==\"57227\",\"ADRESSE\"]=\" 10 Rue du Petit Bois 57460 Behren-lès-Forbach\"\n",
    "donnees_gendarmerie_nationale_2018_par_com_geoloc.loc[donnees_gendarmerie_nationale_2018_par_com_geoloc.index==\"57672\",\"ADRESSE\"]=\" 3, rue de la Gendarmerie 57330 Hettange-Grande\"\n",
    "donnees_gendarmerie_nationale_2018_par_com_geoloc.loc[donnees_gendarmerie_nationale_2018_par_com_geoloc.index==\"59178\",\"ADRESSE\"]=\" Caserne Conroux 240, rue des Wetz 59500 Douai\"\n",
    "donnees_gendarmerie_nationale_2018_par_com_geoloc.loc[donnees_gendarmerie_nationale_2018_par_com_geoloc.index==\"59183\",\"ADRESSE\"]=\" Chemin Départemental 916 A 59492 Hoymille\"\n",
    "donnees_gendarmerie_nationale_2018_par_com_geoloc.loc[donnees_gendarmerie_nationale_2018_par_com_geoloc.index==\"60159\",\"ADRESSE\"]=\" 2, avenue Thiers 60200 Compiègne\"\n",
    "donnees_gendarmerie_nationale_2018_par_com_geoloc.loc[donnees_gendarmerie_nationale_2018_par_com_geoloc.index==\"62193\",\"ADRESSE\"]=\" 528, avenue Matisse 62730 Marck\"\n",
    "donnees_gendarmerie_nationale_2018_par_com_geoloc.loc[donnees_gendarmerie_nationale_2018_par_com_geoloc.index==\"62765\",\"ADRESSE\"]=\" Tatinghem 1 Allée du Centenaire 62500 Saint-Martin-lez-Tatinghem\"\n",
    "donnees_gendarmerie_nationale_2018_par_com_geoloc.loc[donnees_gendarmerie_nationale_2018_par_com_geoloc.index==\"69029\",\"ADRESSE\"]=\" 19, rue de la République 69740 Genas\"\n",
    "donnees_gendarmerie_nationale_2018_par_com_geoloc.loc[donnees_gendarmerie_nationale_2018_par_com_geoloc.index==\"69091\",\"ADRESSE\"]=\" 1, rue Louis Guillaumond 69440 Mornant\"\n",
    "donnees_gendarmerie_nationale_2018_par_com_geoloc.loc[donnees_gendarmerie_nationale_2018_par_com_geoloc.index==\"69123\",\"ADRESSE\"]=\" Caserne Général de Division Delfosse 2 Rue Bichat 69002 Lyon 02\"\n",
    "donnees_gendarmerie_nationale_2018_par_com_geoloc.loc[donnees_gendarmerie_nationale_2018_par_com_geoloc.index==\"71076\",\"ADRESSE\"]=\" 2, rue Lucie Aubrac 71880 Châtenoy-le-Royal\"\n",
    "donnees_gendarmerie_nationale_2018_par_com_geoloc.loc[donnees_gendarmerie_nationale_2018_par_com_geoloc.index==\"77186\",\"ADRESSE\"]=\" 27, rue des Bois 77300 Fontainebleau\"\n",
    "donnees_gendarmerie_nationale_2018_par_com_geoloc.loc[donnees_gendarmerie_nationale_2018_par_com_geoloc.index==\"82121\",\"ADRESSE\"]=\" 19, avenue André Bonnet 82700 Montech\"\n",
    "donnees_gendarmerie_nationale_2018_par_com_geoloc.loc[donnees_gendarmerie_nationale_2018_par_com_geoloc.index==\"84031\",\"ADRESSE\"]=\" 162, avenue John Kennedy 84200 Carpentras\"\n",
    "donnees_gendarmerie_nationale_2018_par_com_geoloc.loc[donnees_gendarmerie_nationale_2018_par_com_geoloc.index==\"85194\",\"ADRESSE\"]=\" 130, rue du 8-Mai-1945 85440 Talmont-Saint-Hilaire\"\n",
    "donnees_gendarmerie_nationale_2018_par_com_geoloc.loc[donnees_gendarmerie_nationale_2018_par_com_geoloc.index==\"86066\",\"ADRESSE\"]=\" 5, boulevard Aristide Briand 86100 Châtellerault\"\n",
    "donnees_gendarmerie_nationale_2018_par_com_geoloc.loc[donnees_gendarmerie_nationale_2018_par_com_geoloc.index==\"97120\",\"ADRESSE\"]=\" 1 Impasse Joas Section Castaing 97180 Sainte-Anne\"\n",
    "donnees_gendarmerie_nationale_2018_par_com_geoloc.loc[donnees_gendarmerie_nationale_2018_par_com_geoloc.index==\"97416\",\"ADRESSE\"]=\" 20 Avenue Principale 97450 Saint-Louis\"\n",
    "\n",
    "if VERBOSE:\n",
    "    donnees_gendarmerie_nationale_2018_par_com_geoloc[~donnees_gendarmerie_nationale_2018_par_com_geoloc.IN_LOC_GN]\n",
    "# '10325'\tROSIERES PRES TROYES = 58 avenue du 28-Août-1944 10270 Lusigny-sur-Barse\n",
    "# '11069'\tCARCASSONNE = 2 rue Paul-Lacombe 11000 Carcassonne\n",
    "# '13047'\tISTRES = 541 chemin des Pinèdes 13680 Lançon-Provence\n",
    "# '17300'\tLA ROCHELLE = Rue du Champ Pinson 17137 Nieul-sur-Mer\n",
    "# '25388'\tMONTBELIARD = 17 impasse du Chênois 25460 Étupes\n",
    "# '28218'\tLUCE = 2 rue Jean-Monnet 28000 Chartres\n",
    "# '2B033'\tBASTIA = Place de la Mairie Erbalunga 20222 Brando\n",
    "# '33009'\tARCACHON = 28 route de Bordeaux Petit Piquey 33950 Lège-Cap-Ferret\n",
    "# '33065'\tBOULIAC = Quartier Béteille 33270 Bouliac\n",
    "# '38185'\tGRENOBLE = 24, avenue du Vercors 38170 Seyssinet-Pariset\n",
    "# '40192'\tMONT DE MARSAN = Caserne du Baradé 50, rue Pierre Benoît 40000 Mont-de-Marsan\n",
    "# '41018'\tBLOIS = 1, rue Paul Valéry 41350 Vineuil\n",
    "# '44143'\tREZE = 23, rue Gutemberg 44340 Bouguenais\n",
    "# '45208'\tMONTARGIS = 2, route de Mirebeau 45210 Ferrières-en-Gâtinais\n",
    "# '47001'\tAGEN = 15 Rue Valence 47000 Agen\n",
    "# '49099'\tCHOLET = 3, allée de Toscane 49450 Saint-Macaire-en-Mauges\n",
    "# '49328'\tSAUMUR = 1, rue Lespagnol de la Plante 49650 Allonnes\n",
    "# '50129'\tCHERBOURG EN COTENTIN = 28, rue d'Aurigny 50440 Beaumont-Hague\n",
    "# '52448'\tST DIZIER = 13, avenue de la République 52100 Saint-Dizier\n",
    "# '54099'\tNANCY = 2, rue de la Grande Ozeraille 54280 Seichamps\n",
    "# '54395'\tVAL DE BRIEY = 3, place Jean Jaurès 54750 Trieux\n",
    "# '56121'\tLORIENT = 32, rue Du Couëdic 56100 Lorient\n",
    "# '56260'\tVANNES = Caserne Guillaudot 2 Place de la Libération 56000 Vannes\n",
    "# '57227'\tFORBACH = 10 Rue du Petit Bois 57460 Behren-lès-Forbach\n",
    "# '57672'\tTHIONVILLE = 3, rue de la Gendarmerie 57330 Hettange-Grande\n",
    "# '59178'\tDOUAI = Caserne Conroux 240, rue des Wetz 59500 Douai\n",
    "# '59183'\tDUNKERQUE HOYMILLE = Chemin Départemental 916 A 59492 Hoymille\n",
    "# '60159'\tCOMPIEGNE = 2, avenue Thiers 60200 Compiègne\n",
    "# '62193'\tCALAIS = 528, avenue Matisse 62730 Marck\n",
    "# '62765'\tST OMER = Tatinghem 1 Allée du Centenaire 62500 Saint-Martin-lez-Tatinghem\n",
    "# '69029'\tBRON = 19, rue de la République 69740 Genas\n",
    "# '69091'\tGIVORS = 1, rue Louis Guillaumond 69440 Mornant\n",
    "# '69123'\tLYON = Caserne Général de Division Delfosse 2 Rue Bichat 69002 Lyon 02\n",
    "# '71076'\tCHALON SUR SAONE = 2, rue Lucie Aubrac 71880 Châtenoy-le-Royal\n",
    "# '77186'\tFONTAINEBLEAU = 27, rue des Bois 77300 Fontainebleau\n",
    "# '82121'\tMONTAUBAN = 19, avenue André Bonnet 82700 Montech\n",
    "# '84031'\tCARPENTRAS = 162, avenue John Kennedy 84200 Carpentras\n",
    "# '85194'\tLES SABLES D OLONNE = 130, rue du 8-Mai-1945 85440 Talmont-Saint-Hilaire\n",
    "# '86066'\tCHATELLERAULT = 5, boulevard Aristide Briand 86100 Châtellerault\n",
    "# '97120'\tPOINTE A PITRE = 1 Impasse Joas Section Castaing 97180 Sainte-Anne\n",
    "# '97416'\tST PIERRE = 20 Avenue Principale 97450 Saint-Louis"
   ]
  },
  {
   "cell_type": "code",
   "execution_count": 26,
   "id": "d8506694-1eeb-47c4-94e8-ce72c7a14783",
   "metadata": {},
   "outputs": [],
   "source": [
    "#50 appels par seconde autorisés\n",
    "def geolocate_with_api_adresse(libelle):\n",
    "    if libelle:\n",
    "        url_api=\"https://api-adresse.data.gouv.fr/search/?q=\"\n",
    "        response=requests.get(url_api+libelle)\n",
    "        return response.json()['features'][0]['geometry']['coordinates']\n",
    "    return []"
   ]
  },
  {
   "cell_type": "code",
   "execution_count": 27,
   "id": "0fc939a2-e2dc-40c2-9f74-722dfc3799d9",
   "metadata": {},
   "outputs": [],
   "source": [
    "donnees_gendarmerie_nationale_2018_par_com_geoloc[~donnees_gendarmerie_nationale_2018_par_com_geoloc.IN_LOC_GN]\n",
    "donnees_gendarmerie_nationale_2018_par_com_geoloc[\"XY\"]=donnees_gendarmerie_nationale_2018_par_com_geoloc.apply(lambda x: geolocate_with_api_adresse(x['ADRESSE']), axis=1)\n"
   ]
  },
  {
   "cell_type": "code",
   "execution_count": 28,
   "id": "cb32f41b-c62d-4cc8-9065-e285e78fd980",
   "metadata": {},
   "outputs": [
    {
     "name": "stderr",
     "output_type": "stream",
     "text": [
      "/tmp/ipykernel_640/1050199425.py:3: SettingWithCopyWarning: \n",
      "A value is trying to be set on a copy of a slice from a DataFrame.\n",
      "Try using .loc[row_indexer,col_indexer] = value instead\n",
      "\n",
      "See the caveats in the documentation: https://pandas.pydata.org/pandas-docs/stable/user_guide/indexing.html#returning-a-view-versus-a-copy\n",
      "  gn_sans_geoloc[\"geocodage_x_GPS\"]=gn_sans_geoloc.apply(lambda x : x['XY'][0], axis=1)\n",
      "/tmp/ipykernel_640/1050199425.py:4: SettingWithCopyWarning: \n",
      "A value is trying to be set on a copy of a slice from a DataFrame.\n",
      "Try using .loc[row_indexer,col_indexer] = value instead\n",
      "\n",
      "See the caveats in the documentation: https://pandas.pydata.org/pandas-docs/stable/user_guide/indexing.html#returning-a-view-versus-a-copy\n",
      "  gn_sans_geoloc[\"geocodage_y_GPS\"]=gn_sans_geoloc.apply(lambda x : x['XY'][1], axis=1)\n"
     ]
    }
   ],
   "source": [
    "gn_sans_geoloc=donnees_gendarmerie_nationale_2018_par_com_geoloc[~donnees_gendarmerie_nationale_2018_par_com_geoloc.IN_LOC_GN]\n",
    "gn_avec_geoloc=donnees_gendarmerie_nationale_2018_par_com_geoloc[donnees_gendarmerie_nationale_2018_par_com_geoloc.IN_LOC_GN]\n",
    "gn_sans_geoloc[\"geocodage_x_GPS\"]=gn_sans_geoloc.apply(lambda x : x['XY'][0], axis=1)\n",
    "gn_sans_geoloc[\"geocodage_y_GPS\"]=gn_sans_geoloc.apply(lambda x : x['XY'][1], axis=1)\n",
    "donnees_gendarmerie_nationale_2018_par_com_geoloc=gn_sans_geoloc.append(gn_avec_geoloc)\n",
    "donnees_gendarmerie_nationale_2018_par_com_geoloc=donnees_gendarmerie_nationale_2018_par_com_geoloc.sort_values(by=\"index\")"
   ]
  },
  {
   "cell_type": "markdown",
   "id": "ab3693f8-2765-49b5-8cda-ccbddca01c68",
   "metadata": {},
   "source": [
    "## Fusion des données de la Police Nationale et de la Gendarmerie Nationale "
   ]
  },
  {
   "cell_type": "code",
   "execution_count": 29,
   "id": "2be85a74-4d34-4294-a354-4f63d876c6b5",
   "metadata": {},
   "outputs": [
    {
     "name": "stderr",
     "output_type": "stream",
     "text": [
      "<>:4: DeprecationWarning: invalid escape sequence \\ \n",
      "<>:4: DeprecationWarning: invalid escape sequence \\ \n",
      "/tmp/ipykernel_640/389632701.py:4: DeprecationWarning: invalid escape sequence \\ \n",
      "  'geocodage_x_GPS', 'geocodage_y_GPS', 'ADRESSE', 'XY','index', 'Libellé index \\ CGD','Index non utilisé'],axis=1)\n"
     ]
    }
   ],
   "source": [
    "# Traitements GN\n",
    "gn_geo=donnees_gendarmerie_nationale_2018_par_com_geoloc[['geocodage_x_GPS', 'geocodage_y_GPS']]\n",
    "gn_num=donnees_gendarmerie_nationale_2018_par_com_geoloc.drop(['LIBELLE_A_RECHERCHER', 'DEP', 'COMMUNES', 'IN_LOC_GN',\n",
    "       'geocodage_x_GPS', 'geocodage_y_GPS', 'ADRESSE', 'XY','index', 'Libellé index \\ CGD','Index non utilisé'],axis=1)\n",
    "gn_num= gn_num.sum(axis=1).astype(int)\n",
    "gn_num=gn_num.to_frame()\n",
    "gn_num.rename(columns={0: \"Total des crimes et délits\"},inplace=True)\n",
    "donnees_gendarmerie= gn_num.merge(gn_geo,how='inner',right_index=True,left_index=True)\n",
    "donnees_gendarmerie[\"Police\"]=0\n",
    "\n"
   ]
  },
  {
   "cell_type": "code",
   "execution_count": 30,
   "id": "80bcf703-0422-48ee-ad82-6019a6ecaa87",
   "metadata": {},
   "outputs": [
    {
     "name": "stderr",
     "output_type": "stream",
     "text": [
      "<>:5: DeprecationWarning: invalid escape sequence \\ \n",
      "<>:5: DeprecationWarning: invalid escape sequence \\ \n",
      "/tmp/ipykernel_640/1546359110.py:5: DeprecationWarning: invalid escape sequence \\ \n",
      "  'geocodage_x_GPS', 'geocodage_y_GPS','index','Périmètres', 'Libellé index \\ CSP','Index non utilisé'],axis=1)\n"
     ]
    }
   ],
   "source": [
    "# Traitements PN\n",
    "donnees_police_nationale_2018_commissariat_seulement\n",
    "pn_geo=donnees_police_nationale_2018_commissariat_seulement[['geocodage_x_GPS', 'geocodage_y_GPS']]\n",
    "pn_num=donnees_police_nationale_2018_commissariat_seulement.drop(['LIBELLE_A_RECHERCHER', 'DEP', 'COMMUNES', 'IN_LOC_PN',\n",
    "       'geocodage_x_GPS', 'geocodage_y_GPS','index','Périmètres', 'Libellé index \\ CSP','Index non utilisé'],axis=1)\n",
    "pn_num= pn_num.sum(axis=1).astype(int)\n",
    "pn_num=pn_num.to_frame()\n",
    "pn_num.rename(columns={0: \"Total des crimes et délits\"},inplace=True)\n",
    "donnees_police= pn_num.merge(pn_geo,how='inner',right_index=True,left_index=True)\n",
    "donnees_police[\"Police\"]=1\n"
   ]
  },
  {
   "cell_type": "code",
   "execution_count": 31,
   "id": "cf82ea07-ec87-47c2-a5ce-f20a20d896df",
   "metadata": {},
   "outputs": [],
   "source": [
    "donnees_min_int_2018=donnees_gendarmerie.append(donnees_police)\n"
   ]
  },
  {
   "cell_type": "markdown",
   "id": "88aa7790-776d-4942-b978-2294018d274b",
   "metadata": {},
   "source": [
    "## Données communales (2 mars 2022)"
   ]
  },
  {
   "cell_type": "code",
   "execution_count": 13,
   "id": "db3a04f7-5e23-48ff-bf3d-d6ccb19f52c8",
   "metadata": {},
   "outputs": [],
   "source": [
    "#https://www.data.gouv.fr/fr/datasets/bases-communale-et-departementale-des-principaux-indicateurs-des-crimes-et-delits-enregistres-par-la-police-et-la-gendarmerie-nationales/\n",
    "import tarfile\n",
    "URL_FILE=\"https://www.data.gouv.fr/fr/datasets/r/3f51212c-f7d2-4aec-b899-06be6cdd1030\"\n",
    "\n",
    "r=requests.get(URL_FILE)\n",
    "\n",
    "open(\"base-communale-csv.gz\", 'wb').write(r.content)\n",
    "    \n",
    "\n",
    "donnees_communales_ssmsi=pd.read_csv(\"base-communale-csv.gz\",compression='gzip', sep=\";\", dtype=\"str\")\n",
    "    \n",
    "     "
   ]
  },
  {
   "cell_type": "code",
   "execution_count": 14,
   "id": "caef7dab-d477-4d8d-a4d5-a1b69581de06",
   "metadata": {},
   "outputs": [
    {
     "data": {
      "text/html": [
       "<div>\n",
       "<style scoped>\n",
       "    .dataframe tbody tr th:only-of-type {\n",
       "        vertical-align: middle;\n",
       "    }\n",
       "\n",
       "    .dataframe tbody tr th {\n",
       "        vertical-align: top;\n",
       "    }\n",
       "\n",
       "    .dataframe thead th {\n",
       "        text-align: right;\n",
       "    }\n",
       "</style>\n",
       "<table border=\"1\" class=\"dataframe\">\n",
       "  <thead>\n",
       "    <tr style=\"text-align: right;\">\n",
       "      <th></th>\n",
       "      <th>COG_COMMUNE_2021</th>\n",
       "      <th>Nom.de.la.commune</th>\n",
       "      <th>annee</th>\n",
       "      <th>classe</th>\n",
       "      <th>unité.de.compte</th>\n",
       "      <th>valeur.publiée</th>\n",
       "      <th>faits</th>\n",
       "      <th>tauxpourmille</th>\n",
       "      <th>complementinfoval</th>\n",
       "      <th>complementinfotaux</th>\n",
       "      <th>...</th>\n",
       "      <th>TUU2017</th>\n",
       "      <th>TDUU2017</th>\n",
       "      <th>UUSTATUT2017</th>\n",
       "      <th>AAV2020</th>\n",
       "      <th>TAAV2017</th>\n",
       "      <th>TDAAV2017</th>\n",
       "      <th>CATEAAV2020</th>\n",
       "      <th>ZE2020</th>\n",
       "      <th>BV2012</th>\n",
       "      <th>TypoRural2021</th>\n",
       "    </tr>\n",
       "  </thead>\n",
       "  <tbody>\n",
       "    <tr>\n",
       "      <th>0</th>\n",
       "      <td>01001</td>\n",
       "      <td>L' Abergement-Clémenciat</td>\n",
       "      <td>16</td>\n",
       "      <td>Autres coups et blessures volontaires</td>\n",
       "      <td>victime</td>\n",
       "      <td>diff</td>\n",
       "      <td>0</td>\n",
       "      <td>0,00000000000000e+00</td>\n",
       "      <td>NaN</td>\n",
       "      <td>NaN</td>\n",
       "      <td>...</td>\n",
       "      <td>Commune hors unité urbaine</td>\n",
       "      <td>Commune hors unité urbaine</td>\n",
       "      <td>Hors unité urbaine</td>\n",
       "      <td>524</td>\n",
       "      <td>Aire de moins de 50 000 habitants</td>\n",
       "      <td>Aire de moins de 10 000 habitants</td>\n",
       "      <td>Commune de la couronne</td>\n",
       "      <td>8405</td>\n",
       "      <td>01093</td>\n",
       "      <td>rural autonome peu dense</td>\n",
       "    </tr>\n",
       "    <tr>\n",
       "      <th>1</th>\n",
       "      <td>01001</td>\n",
       "      <td>L' Abergement-Clémenciat</td>\n",
       "      <td>17</td>\n",
       "      <td>Autres coups et blessures volontaires</td>\n",
       "      <td>victime</td>\n",
       "      <td>diff</td>\n",
       "      <td>0</td>\n",
       "      <td>0,00000000000000e+00</td>\n",
       "      <td>NaN</td>\n",
       "      <td>NaN</td>\n",
       "      <td>...</td>\n",
       "      <td>Commune hors unité urbaine</td>\n",
       "      <td>Commune hors unité urbaine</td>\n",
       "      <td>Hors unité urbaine</td>\n",
       "      <td>524</td>\n",
       "      <td>Aire de moins de 50 000 habitants</td>\n",
       "      <td>Aire de moins de 10 000 habitants</td>\n",
       "      <td>Commune de la couronne</td>\n",
       "      <td>8405</td>\n",
       "      <td>01093</td>\n",
       "      <td>rural autonome peu dense</td>\n",
       "    </tr>\n",
       "    <tr>\n",
       "      <th>2</th>\n",
       "      <td>01001</td>\n",
       "      <td>L' Abergement-Clémenciat</td>\n",
       "      <td>18</td>\n",
       "      <td>Autres coups et blessures volontaires</td>\n",
       "      <td>victime</td>\n",
       "      <td>diff</td>\n",
       "      <td>0</td>\n",
       "      <td>0,00000000000000e+00</td>\n",
       "      <td>NaN</td>\n",
       "      <td>NaN</td>\n",
       "      <td>...</td>\n",
       "      <td>Commune hors unité urbaine</td>\n",
       "      <td>Commune hors unité urbaine</td>\n",
       "      <td>Hors unité urbaine</td>\n",
       "      <td>524</td>\n",
       "      <td>Aire de moins de 50 000 habitants</td>\n",
       "      <td>Aire de moins de 10 000 habitants</td>\n",
       "      <td>Commune de la couronne</td>\n",
       "      <td>8405</td>\n",
       "      <td>01093</td>\n",
       "      <td>rural autonome peu dense</td>\n",
       "    </tr>\n",
       "    <tr>\n",
       "      <th>3</th>\n",
       "      <td>01001</td>\n",
       "      <td>L' Abergement-Clémenciat</td>\n",
       "      <td>19</td>\n",
       "      <td>Autres coups et blessures volontaires</td>\n",
       "      <td>victime</td>\n",
       "      <td>diff</td>\n",
       "      <td>0</td>\n",
       "      <td>0,00000000000000e+00</td>\n",
       "      <td>NaN</td>\n",
       "      <td>NaN</td>\n",
       "      <td>...</td>\n",
       "      <td>Commune hors unité urbaine</td>\n",
       "      <td>Commune hors unité urbaine</td>\n",
       "      <td>Hors unité urbaine</td>\n",
       "      <td>524</td>\n",
       "      <td>Aire de moins de 50 000 habitants</td>\n",
       "      <td>Aire de moins de 10 000 habitants</td>\n",
       "      <td>Commune de la couronne</td>\n",
       "      <td>8405</td>\n",
       "      <td>01093</td>\n",
       "      <td>rural autonome peu dense</td>\n",
       "    </tr>\n",
       "    <tr>\n",
       "      <th>4</th>\n",
       "      <td>01001</td>\n",
       "      <td>L' Abergement-Clémenciat</td>\n",
       "      <td>20</td>\n",
       "      <td>Autres coups et blessures volontaires</td>\n",
       "      <td>victime</td>\n",
       "      <td>ndiff</td>\n",
       "      <td>NaN</td>\n",
       "      <td>NaN</td>\n",
       "      <td>1,4285714285714286</td>\n",
       "      <td>0,9513102136123843</td>\n",
       "      <td>...</td>\n",
       "      <td>Commune hors unité urbaine</td>\n",
       "      <td>Commune hors unité urbaine</td>\n",
       "      <td>Hors unité urbaine</td>\n",
       "      <td>524</td>\n",
       "      <td>Aire de moins de 50 000 habitants</td>\n",
       "      <td>Aire de moins de 10 000 habitants</td>\n",
       "      <td>Commune de la couronne</td>\n",
       "      <td>8405</td>\n",
       "      <td>01093</td>\n",
       "      <td>rural autonome peu dense</td>\n",
       "    </tr>\n",
       "    <tr>\n",
       "      <th>...</th>\n",
       "      <td>...</td>\n",
       "      <td>...</td>\n",
       "      <td>...</td>\n",
       "      <td>...</td>\n",
       "      <td>...</td>\n",
       "      <td>...</td>\n",
       "      <td>...</td>\n",
       "      <td>...</td>\n",
       "      <td>...</td>\n",
       "      <td>...</td>\n",
       "      <td>...</td>\n",
       "      <td>...</td>\n",
       "      <td>...</td>\n",
       "      <td>...</td>\n",
       "      <td>...</td>\n",
       "      <td>...</td>\n",
       "      <td>...</td>\n",
       "      <td>...</td>\n",
       "      <td>...</td>\n",
       "      <td>...</td>\n",
       "      <td>...</td>\n",
       "    </tr>\n",
       "    <tr>\n",
       "      <th>2299171</th>\n",
       "      <td>88493</td>\n",
       "      <td>Varmonzey</td>\n",
       "      <td>17</td>\n",
       "      <td>Vols dans les véhicules</td>\n",
       "      <td>véhicule</td>\n",
       "      <td>diff</td>\n",
       "      <td>0</td>\n",
       "      <td>0,00000000000000e+00</td>\n",
       "      <td>NaN</td>\n",
       "      <td>NaN</td>\n",
       "      <td>...</td>\n",
       "      <td>Commune hors unité urbaine</td>\n",
       "      <td>Commune hors unité urbaine</td>\n",
       "      <td>Hors unité urbaine</td>\n",
       "      <td>095</td>\n",
       "      <td>Aire de 50 000 à moins de 200 000 habitants</td>\n",
       "      <td>Aire de 100 000 à moins de 125 000 habitants</td>\n",
       "      <td>Commune de la couronne</td>\n",
       "      <td>4407</td>\n",
       "      <td>88090</td>\n",
       "      <td>rural sous faible influence d'un pôle</td>\n",
       "    </tr>\n",
       "    <tr>\n",
       "      <th>2299172</th>\n",
       "      <td>88493</td>\n",
       "      <td>Varmonzey</td>\n",
       "      <td>18</td>\n",
       "      <td>Vols dans les véhicules</td>\n",
       "      <td>véhicule</td>\n",
       "      <td>diff</td>\n",
       "      <td>0</td>\n",
       "      <td>0,00000000000000e+00</td>\n",
       "      <td>NaN</td>\n",
       "      <td>NaN</td>\n",
       "      <td>...</td>\n",
       "      <td>Commune hors unité urbaine</td>\n",
       "      <td>Commune hors unité urbaine</td>\n",
       "      <td>Hors unité urbaine</td>\n",
       "      <td>095</td>\n",
       "      <td>Aire de 50 000 à moins de 200 000 habitants</td>\n",
       "      <td>Aire de 100 000 à moins de 125 000 habitants</td>\n",
       "      <td>Commune de la couronne</td>\n",
       "      <td>4407</td>\n",
       "      <td>88090</td>\n",
       "      <td>rural sous faible influence d'un pôle</td>\n",
       "    </tr>\n",
       "    <tr>\n",
       "      <th>2299173</th>\n",
       "      <td>88493</td>\n",
       "      <td>Varmonzey</td>\n",
       "      <td>19</td>\n",
       "      <td>Vols dans les véhicules</td>\n",
       "      <td>véhicule</td>\n",
       "      <td>diff</td>\n",
       "      <td>0</td>\n",
       "      <td>0,00000000000000e+00</td>\n",
       "      <td>NaN</td>\n",
       "      <td>NaN</td>\n",
       "      <td>...</td>\n",
       "      <td>Commune hors unité urbaine</td>\n",
       "      <td>Commune hors unité urbaine</td>\n",
       "      <td>Hors unité urbaine</td>\n",
       "      <td>095</td>\n",
       "      <td>Aire de 50 000 à moins de 200 000 habitants</td>\n",
       "      <td>Aire de 100 000 à moins de 125 000 habitants</td>\n",
       "      <td>Commune de la couronne</td>\n",
       "      <td>4407</td>\n",
       "      <td>88090</td>\n",
       "      <td>rural sous faible influence d'un pôle</td>\n",
       "    </tr>\n",
       "    <tr>\n",
       "      <th>2299174</th>\n",
       "      <td>88493</td>\n",
       "      <td>Varmonzey</td>\n",
       "      <td>20</td>\n",
       "      <td>Vols dans les véhicules</td>\n",
       "      <td>véhicule</td>\n",
       "      <td>diff</td>\n",
       "      <td>0</td>\n",
       "      <td>0,00000000000000e+00</td>\n",
       "      <td>NaN</td>\n",
       "      <td>NaN</td>\n",
       "      <td>...</td>\n",
       "      <td>Commune hors unité urbaine</td>\n",
       "      <td>Commune hors unité urbaine</td>\n",
       "      <td>Hors unité urbaine</td>\n",
       "      <td>095</td>\n",
       "      <td>Aire de 50 000 à moins de 200 000 habitants</td>\n",
       "      <td>Aire de 100 000 à moins de 125 000 habitants</td>\n",
       "      <td>Commune de la couronne</td>\n",
       "      <td>4407</td>\n",
       "      <td>88090</td>\n",
       "      <td>rural sous faible influence d'un pôle</td>\n",
       "    </tr>\n",
       "    <tr>\n",
       "      <th>2299175</th>\n",
       "      <td>88493</td>\n",
       "      <td>Varmonzey</td>\n",
       "      <td>21</td>\n",
       "      <td>Vols dans les véhicules</td>\n",
       "      <td>véhicule</td>\n",
       "      <td>diff</td>\n",
       "      <td>0</td>\n",
       "      <td>0,00000000000000e+00</td>\n",
       "      <td>NaN</td>\n",
       "      <td>NaN</td>\n",
       "      <td>...</td>\n",
       "      <td>Commune hors unité urbaine</td>\n",
       "      <td>Commune hors unité urbaine</td>\n",
       "      <td>Hors unité urbaine</td>\n",
       "      <td>095</td>\n",
       "      <td>Aire de 50 000 à moins de 200 000 habitants</td>\n",
       "      <td>Aire de 100 000 à moins de 125 000 habitants</td>\n",
       "      <td>Commune de la couronne</td>\n",
       "      <td>4407</td>\n",
       "      <td>88090</td>\n",
       "      <td>rural sous faible influence d'un pôle</td>\n",
       "    </tr>\n",
       "  </tbody>\n",
       "</table>\n",
       "<p>2299176 rows × 33 columns</p>\n",
       "</div>"
      ],
      "text/plain": [
       "        COG_COMMUNE_2021         Nom.de.la.commune annee  \\\n",
       "0                  01001  L' Abergement-Clémenciat    16   \n",
       "1                  01001  L' Abergement-Clémenciat    17   \n",
       "2                  01001  L' Abergement-Clémenciat    18   \n",
       "3                  01001  L' Abergement-Clémenciat    19   \n",
       "4                  01001  L' Abergement-Clémenciat    20   \n",
       "...                  ...                       ...   ...   \n",
       "2299171            88493                 Varmonzey    17   \n",
       "2299172            88493                 Varmonzey    18   \n",
       "2299173            88493                 Varmonzey    19   \n",
       "2299174            88493                 Varmonzey    20   \n",
       "2299175            88493                 Varmonzey    21   \n",
       "\n",
       "                                        classe unité.de.compte valeur.publiée  \\\n",
       "0        Autres coups et blessures volontaires         victime           diff   \n",
       "1        Autres coups et blessures volontaires         victime           diff   \n",
       "2        Autres coups et blessures volontaires         victime           diff   \n",
       "3        Autres coups et blessures volontaires         victime           diff   \n",
       "4        Autres coups et blessures volontaires         victime          ndiff   \n",
       "...                                        ...             ...            ...   \n",
       "2299171                Vols dans les véhicules        véhicule           diff   \n",
       "2299172                Vols dans les véhicules        véhicule           diff   \n",
       "2299173                Vols dans les véhicules        véhicule           diff   \n",
       "2299174                Vols dans les véhicules        véhicule           diff   \n",
       "2299175                Vols dans les véhicules        véhicule           diff   \n",
       "\n",
       "        faits         tauxpourmille   complementinfoval  complementinfotaux  \\\n",
       "0           0  0,00000000000000e+00                 NaN                 NaN   \n",
       "1           0  0,00000000000000e+00                 NaN                 NaN   \n",
       "2           0  0,00000000000000e+00                 NaN                 NaN   \n",
       "3           0  0,00000000000000e+00                 NaN                 NaN   \n",
       "4         NaN                   NaN  1,4285714285714286  0,9513102136123843   \n",
       "...       ...                   ...                 ...                 ...   \n",
       "2299171     0  0,00000000000000e+00                 NaN                 NaN   \n",
       "2299172     0  0,00000000000000e+00                 NaN                 NaN   \n",
       "2299173     0  0,00000000000000e+00                 NaN                 NaN   \n",
       "2299174     0  0,00000000000000e+00                 NaN                 NaN   \n",
       "2299175     0  0,00000000000000e+00                 NaN                 NaN   \n",
       "\n",
       "         ...                     TUU2017                    TDUU2017  \\\n",
       "0        ...  Commune hors unité urbaine  Commune hors unité urbaine   \n",
       "1        ...  Commune hors unité urbaine  Commune hors unité urbaine   \n",
       "2        ...  Commune hors unité urbaine  Commune hors unité urbaine   \n",
       "3        ...  Commune hors unité urbaine  Commune hors unité urbaine   \n",
       "4        ...  Commune hors unité urbaine  Commune hors unité urbaine   \n",
       "...      ...                         ...                         ...   \n",
       "2299171  ...  Commune hors unité urbaine  Commune hors unité urbaine   \n",
       "2299172  ...  Commune hors unité urbaine  Commune hors unité urbaine   \n",
       "2299173  ...  Commune hors unité urbaine  Commune hors unité urbaine   \n",
       "2299174  ...  Commune hors unité urbaine  Commune hors unité urbaine   \n",
       "2299175  ...  Commune hors unité urbaine  Commune hors unité urbaine   \n",
       "\n",
       "               UUSTATUT2017 AAV2020  \\\n",
       "0        Hors unité urbaine     524   \n",
       "1        Hors unité urbaine     524   \n",
       "2        Hors unité urbaine     524   \n",
       "3        Hors unité urbaine     524   \n",
       "4        Hors unité urbaine     524   \n",
       "...                     ...     ...   \n",
       "2299171  Hors unité urbaine     095   \n",
       "2299172  Hors unité urbaine     095   \n",
       "2299173  Hors unité urbaine     095   \n",
       "2299174  Hors unité urbaine     095   \n",
       "2299175  Hors unité urbaine     095   \n",
       "\n",
       "                                            TAAV2017  \\\n",
       "0                  Aire de moins de 50 000 habitants   \n",
       "1                  Aire de moins de 50 000 habitants   \n",
       "2                  Aire de moins de 50 000 habitants   \n",
       "3                  Aire de moins de 50 000 habitants   \n",
       "4                  Aire de moins de 50 000 habitants   \n",
       "...                                              ...   \n",
       "2299171  Aire de 50 000 à moins de 200 000 habitants   \n",
       "2299172  Aire de 50 000 à moins de 200 000 habitants   \n",
       "2299173  Aire de 50 000 à moins de 200 000 habitants   \n",
       "2299174  Aire de 50 000 à moins de 200 000 habitants   \n",
       "2299175  Aire de 50 000 à moins de 200 000 habitants   \n",
       "\n",
       "                                            TDAAV2017             CATEAAV2020  \\\n",
       "0                   Aire de moins de 10 000 habitants  Commune de la couronne   \n",
       "1                   Aire de moins de 10 000 habitants  Commune de la couronne   \n",
       "2                   Aire de moins de 10 000 habitants  Commune de la couronne   \n",
       "3                   Aire de moins de 10 000 habitants  Commune de la couronne   \n",
       "4                   Aire de moins de 10 000 habitants  Commune de la couronne   \n",
       "...                                               ...                     ...   \n",
       "2299171  Aire de 100 000 à moins de 125 000 habitants  Commune de la couronne   \n",
       "2299172  Aire de 100 000 à moins de 125 000 habitants  Commune de la couronne   \n",
       "2299173  Aire de 100 000 à moins de 125 000 habitants  Commune de la couronne   \n",
       "2299174  Aire de 100 000 à moins de 125 000 habitants  Commune de la couronne   \n",
       "2299175  Aire de 100 000 à moins de 125 000 habitants  Commune de la couronne   \n",
       "\n",
       "        ZE2020 BV2012                          TypoRural2021  \n",
       "0         8405  01093               rural autonome peu dense  \n",
       "1         8405  01093               rural autonome peu dense  \n",
       "2         8405  01093               rural autonome peu dense  \n",
       "3         8405  01093               rural autonome peu dense  \n",
       "4         8405  01093               rural autonome peu dense  \n",
       "...        ...    ...                                    ...  \n",
       "2299171   4407  88090  rural sous faible influence d'un pôle  \n",
       "2299172   4407  88090  rural sous faible influence d'un pôle  \n",
       "2299173   4407  88090  rural sous faible influence d'un pôle  \n",
       "2299174   4407  88090  rural sous faible influence d'un pôle  \n",
       "2299175   4407  88090  rural sous faible influence d'un pôle  \n",
       "\n",
       "[2299176 rows x 33 columns]"
      ]
     },
     "execution_count": 14,
     "metadata": {},
     "output_type": "execute_result"
    }
   ],
   "source": [
    "donnees_communales_ssmsi"
   ]
  },
  {
   "cell_type": "code",
   "execution_count": 32,
   "id": "99372fde-b3ec-4ea0-922f-cbea45177f20",
   "metadata": {},
   "outputs": [],
   "source": [
    "if VERBOSE:\n",
    "    display(donnees_min_int_2018.sum())"
   ]
  },
  {
   "cell_type": "code",
   "execution_count": 33,
   "id": "81bf0479-638e-4617-96e7-47ce0dc2b2c1",
   "metadata": {},
   "outputs": [
    {
     "name": "stdout",
     "output_type": "stream",
     "text": [
      "4- Téléchargement des données du ministère de l'intérieur  ====> OK \n"
     ]
    }
   ],
   "source": [
    "if not donnees_min_int_2018.empty:\n",
    "    print(\"4- Téléchargement des données du ministère de l'intérieur  ====> OK \")\n",
    "else:\n",
    "    print(\"4- Téléchargement des données du ministère de l'intérieur  ====> KO \")"
   ]
  },
  {
   "cell_type": "markdown",
   "id": "eeb9ce88-15ce-4841-a847-8b031a6fc9de",
   "metadata": {},
   "source": [
    "## 5 - Téléchargement des revenus localisés"
   ]
  },
  {
   "cell_type": "code",
   "execution_count": 34,
   "id": "bd738d41-698d-45a7-87bf-37bea1fdbf99",
   "metadata": {},
   "outputs": [
    {
     "name": "stderr",
     "output_type": "stream",
     "text": [
      "/tmp/ipykernel_640/4047641172.py:5: ResourceWarning: unclosed file <_io.BufferedWriter name='base-cc-filosofi-2018_CSV_geo2021.zip'>\n",
      "  open(\"base-cc-filosofi-2018_CSV_geo2021.zip\", 'wb').write(r.content)\n",
      "ResourceWarning: Enable tracemalloc to get the object allocation traceback\n",
      "/opt/conda/lib/python3.9/site-packages/IPython/core/interactiveshell.py:3444: DtypeWarning: Columns (0) have mixed types.Specify dtype option on import or set low_memory=False.\n",
      "  exec(code_obj, self.user_global_ns, self.user_ns)\n"
     ]
    }
   ],
   "source": [
    "URL_FILO_ZIP_2018=\"https://www.insee.fr/fr/statistiques/fichier/5009236/base-cc-filosofi-2018_CSV_geo2021.zip\"\n",
    "#Télécharger le zip de l'URL\n",
    "r=requests.get(URL_FILO_ZIP_2018)\n",
    "\n",
    "open(\"base-cc-filosofi-2018_CSV_geo2021.zip\", 'wb').write(r.content)\n",
    "    \n",
    "    \n",
    "with ZipFile(\"base-cc-filosofi-2018_CSV_geo2021.zip\",'r') as myzip:\n",
    "    data = myzip.open(\"cc_filosofi_2018_COM-geo2021.CSV\")\n",
    "    \n",
    "donnees_filo_communes_2018=pd.read_csv(data,sep=';')       "
   ]
  },
  {
   "cell_type": "code",
   "execution_count": 35,
   "id": "77d14b82-a647-4d4a-adc2-12f72f0a6591",
   "metadata": {},
   "outputs": [],
   "source": [
    "donnees_filo_communes_2018=donnees_filo_communes_2018.set_index(\"CODGEO\")\n",
    "\n",
    "if VERBOSE:\n",
    "    display(donnees_filo_communes_2018)"
   ]
  },
  {
   "cell_type": "code",
   "execution_count": 36,
   "id": "0292f11e-a492-479e-864c-2abdb2b8ddf6",
   "metadata": {},
   "outputs": [
    {
     "name": "stdout",
     "output_type": "stream",
     "text": [
      "5 - Téléchargement des revenus localisés  ====> OK \n"
     ]
    }
   ],
   "source": [
    "if not donnees_filo_communes_2018.empty:\n",
    "    print(\"5 - Téléchargement des revenus localisés  ====> OK \")\n",
    "else:\n",
    "    print(\"5 - Téléchargement des revenus localisés  ====> KO \")"
   ]
  },
  {
   "cell_type": "markdown",
   "id": "6e58043b-be27-48a4-b480-c42487f9092b",
   "metadata": {},
   "source": [
    "## 6 - Téléchargement des populations légales"
   ]
  },
  {
   "cell_type": "code",
   "execution_count": 37,
   "id": "66b2f242-fcbf-4726-8bd1-741f75ae08b7",
   "metadata": {},
   "outputs": [
    {
     "name": "stderr",
     "output_type": "stream",
     "text": [
      "/tmp/ipykernel_640/254282500.py:7: ResourceWarning: unclosed file <_io.BufferedWriter name='ensemble.zip'>\n",
      "  open(\"ensemble.zip\", 'wb').write(r.content)\n",
      "ResourceWarning: Enable tracemalloc to get the object allocation traceback\n"
     ]
    }
   ],
   "source": [
    "#Téléchargement des populations légales du millénisme 2018 \n",
    "URL_POP_LEG=\"https://www.insee.fr/fr/statistiques/fichier/4989724/ensemble.zip\"\n",
    "\n",
    "#Télécharger le zip de l'URL\n",
    "r=requests.get(URL_POP_LEG)\n",
    "\n",
    "open(\"ensemble.zip\", 'wb').write(r.content)\n",
    "    \n",
    "    \n",
    "with ZipFile(\"ensemble.zip\",'r') as myzip:\n",
    "    data = myzip.open(\"Communes.csv\")\n",
    "\n",
    "donnees_pop_leg_18=pd.read_csv(data,sep=';',dtype=str)\n",
    "donnees_pop_leg_18[\"CODE_INSEE\"]=donnees_pop_leg_18[\"CODDEP\"]+donnees_pop_leg_18[\"CODCOM\"]\n",
    "donnees_pop_leg_18=donnees_pop_leg_18.set_index(\"CODE_INSEE\")\n"
   ]
  },
  {
   "cell_type": "code",
   "execution_count": 38,
   "id": "f11c80e7-f791-4a88-afb1-7b3c7b07c227",
   "metadata": {},
   "outputs": [],
   "source": [
    "if VERBOSE:\n",
    "    display(donnees_pop_leg_18.sample(10))"
   ]
  },
  {
   "cell_type": "code",
   "execution_count": 39,
   "id": "724c4f3f-e303-4400-8d8d-42782bb41079",
   "metadata": {},
   "outputs": [],
   "source": [
    "if VERBOSE:\n",
    "    display(donnees_pop_leg_18.describe())"
   ]
  },
  {
   "cell_type": "code",
   "execution_count": 40,
   "id": "f296f4f8-4894-4a75-a4e9-f457076d3466",
   "metadata": {},
   "outputs": [
    {
     "name": "stdout",
     "output_type": "stream",
     "text": [
      "6 - Téléchargement des populations légales  ====> OK \n"
     ]
    }
   ],
   "source": [
    "if not donnees_pop_leg_18.empty:\n",
    "    print(\"6 - Téléchargement des populations légales  ====> OK \")\n",
    "else:\n",
    "    print(\"6 - Téléchargement des populations légales  ====> KO \")"
   ]
  },
  {
   "cell_type": "markdown",
   "id": "048a8602-7fc3-4da8-ae56-bab7beb6dc43",
   "metadata": {},
   "source": [
    "## 7 - Téléchargement des données d'emplois localisées"
   ]
  },
  {
   "cell_type": "code",
   "execution_count": 41,
   "id": "1c7556ce-6327-4dd7-97a8-ed7a092d08b1",
   "metadata": {},
   "outputs": [],
   "source": [
    "URL_TAUX_CHOMAGE_15_24_PAR_COM=\"https://www.observatoire-des-territoires.gouv.fr/outils/cartographie-interactive/api/v1/functions/GC_API_download.php?type=stat&nivgeo=com2021&dataset=indic_sex_rp&indic=tx_chom1524\"\n",
    "\n",
    "\n",
    "donnees_chomage_15_24_par_com=pd.read_excel(URL_TAUX_CHOMAGE_15_24_PAR_COM, sheet_name='Data',skiprows=4)\n",
    "\n",
    "if VERBOSE:\n",
    "    display(donnees_chomage_15_24_par_com)"
   ]
  },
  {
   "cell_type": "code",
   "execution_count": 42,
   "id": "5bd5850a-fd48-4cba-9664-a67d9053fbf3",
   "metadata": {},
   "outputs": [],
   "source": [
    "donnees_chomage_15_24_par_com_travail=donnees_chomage_15_24_par_com[donnees_chomage_15_24_par_com[\"an\"]==2018]\n",
    "donnees_chomage_15_24_par_com_travail=donnees_chomage_15_24_par_com_travail[donnees_chomage_15_24_par_com_travail[\"sexe\"]==\"T\"]\n",
    "donnees_chomage_15_24_par_com_travail=donnees_chomage_15_24_par_com_travail.set_index(\"codgeo\")\n",
    "\n",
    "if VERBOSE:\n",
    "    display(donnees_chomage_15_24_par_com_travail)"
   ]
  },
  {
   "cell_type": "code",
   "execution_count": 43,
   "id": "d00f3759-7744-4ca0-831c-d9598ce6f27d",
   "metadata": {},
   "outputs": [
    {
     "name": "stdout",
     "output_type": "stream",
     "text": [
      "7 - Téléchargement des données d'emplois localisées  ====> OK \n"
     ]
    }
   ],
   "source": [
    "if not donnees_chomage_15_24_par_com_travail.empty:\n",
    "    print(\"7 - Téléchargement des données d'emplois localisées  ====> OK \")\n",
    "else:\n",
    "    print(\"7 - Téléchargement des données d'emplois localiséess  ====> KO \")"
   ]
  },
  {
   "cell_type": "markdown",
   "id": "977ec9d8-0a72-40b3-a90e-636d3b4fef46",
   "metadata": {},
   "source": [
    "## 8 - Fusion des données"
   ]
  },
  {
   "cell_type": "code",
   "execution_count": 44,
   "id": "1a181b85-ac18-4c3f-a5d8-03968d542a91",
   "metadata": {},
   "outputs": [],
   "source": [
    "# Partons du COG :\n",
    "donnees_2018_com = donnees_cog_2021[[\"COM\",\"NCC\"]].astype(str)\n",
    "donnees_2018_com=donnees_2018_com.set_index(\"COM\")\n",
    "donnees_2018_com = donnees_2018_com.merge(donnees_sirene_fr_agregees_par_com,how=\"left\",left_index=True,right_index=True)\n",
    "donnees_2018_com.NbBoucheriesParCom = donnees_2018_com.NbBoucheriesParCom.fillna(0).astype(int)\n",
    "donnees_2018_com = donnees_2018_com.merge(donnees_police,how=\"left\",left_index=True,right_index=True)\n",
    "donnees_2018_com = donnees_2018_com.merge(donnees_gendarmerie,how=\"left\",left_index=True,right_index=True)\n",
    "donnees_2018_com = donnees_2018_com.merge(donnees_pop_leg_18,how=\"left\",left_index=True,right_index=True)\n",
    "donnees_2018_com = donnees_2018_com.merge(donnees_filo_communes_2018,how=\"left\",left_index=True,right_index=True)\n",
    "donnees_2018_com = donnees_2018_com.merge(donnees_chomage_15_24_par_com_travail,how=\"left\",left_index=True,right_index=True)\n",
    "\n",
    "if VERBOSE:\n",
    "    display(donnees_2018_com[~donnees_2018_com[\"Total des crimes et délits_x\"].isna()])\n"
   ]
  },
  {
   "cell_type": "markdown",
   "id": "01add386-8274-470b-af96-feb3f8c328cf",
   "metadata": {},
   "source": [
    "* On se restreint au champ métropolitain car les données d'outre mer ne sont pas exhaustives sur toutes nos sources "
   ]
  },
  {
   "cell_type": "code",
   "execution_count": 45,
   "id": "69285b65-636f-45ba-b8cb-d4db8d42fdd5",
   "metadata": {},
   "outputs": [],
   "source": [
    "donnees_2018_com = donnees_2018_com[donnees_2018_com.index.str[:2]!='97']\n",
    "if VERBOSE:\n",
    "    display(donnees_2018_com)\n",
    "    display(donnees_2018_com.describe())"
   ]
  },
  {
   "cell_type": "markdown",
   "id": "50692aee-9c10-4f74-b750-bc7f2e539f94",
   "metadata": {},
   "source": [
    "* On fait l'hypothèse d'unicité du dépôt de plainte ou de signalement en gardarmerie ou bien en commissariat, ce qui permet de sommer les crimes et délits au niveau communal"
   ]
  },
  {
   "cell_type": "code",
   "execution_count": 46,
   "id": "f08f6b9e-f8bb-440f-8c33-596cf8acd3a6",
   "metadata": {},
   "outputs": [],
   "source": [
    "donnees_2018_com['Total des crimes et délits relevés par la PN et GN'] = donnees_2018_com[['Total des crimes et délits_x', 'Total des crimes et délits_y']].sum(axis=1)"
   ]
  },
  {
   "cell_type": "code",
   "execution_count": 47,
   "id": "2e77e20f-81b0-4fba-9e16-f746fac09d65",
   "metadata": {},
   "outputs": [],
   "source": [
    "# donnees_2018 = donnees_2018.rename(columns={\"Total des crimes et délits relevés par la Police Nationale\": \"Crim_Del_PN\", \"Total des crimes et délits relevés par la Gendarmerie Nationale\": \"Crim_Del_GN\", \"Total des crimes et délits relevés par la PN et GN\": \"Crim_Del_PN_GN\"})\n",
    "if VERBOSE:\n",
    "    display(donnees_2018_com)"
   ]
  },
  {
   "cell_type": "code",
   "execution_count": 48,
   "id": "9a864f95-7945-4a60-8b68-825cd24d0e35",
   "metadata": {},
   "outputs": [
    {
     "name": "stdout",
     "output_type": "stream",
     "text": [
      "8 - Fusion des données  ====> OK \n"
     ]
    }
   ],
   "source": [
    "if not donnees_2018_com.empty:\n",
    "    print(\"8 - Fusion des données  ====> OK \")\n",
    "else:\n",
    "    print(\"8 - Fusion des données  ====> KO \")"
   ]
  },
  {
   "cell_type": "markdown",
   "id": "1fc833da-81ec-438e-a3fc-76252e0ddee0",
   "metadata": {},
   "source": [
    "## 9 - On créé une base de données rapportant le nombre de crimes et délits, et le nombre de boucheries pour 100 000 habitants \n"
   ]
  },
  {
   "cell_type": "code",
   "execution_count": 49,
   "id": "603bae5f-2869-4a68-917c-2fe6968435dc",
   "metadata": {},
   "outputs": [],
   "source": [
    "donnees_2018_com_hab = donnees_2018_com\n",
    "donnees_2018_com_hab.columns\n",
    "donnees_2018_com_hab.PTOT=donnees_2018_com_hab.PTOT.fillna(0).astype(int)\n",
    "donnees_2018_com_hab['NbBoucheriesParComHab']=round(donnees_2018_com_hab['NbBoucheriesParCom']/donnees_2018_com_hab['PTOT']*100000)\n",
    "donnees_2018_com_hab['Crim_Del_GN_hab']=round(donnees_2018_com_hab['Total des crimes et délits_x']/donnees_2018_com_hab['PTOT']*100000)\n",
    "donnees_2018_com_hab['Crim_Del_PN_hab']=round(donnees_2018_com_hab['Total des crimes et délits_y']/donnees_2018_com_hab['PTOT']*100000)\n",
    "donnees_2018_com_hab['Crim_Del_PN_GN_hab']=round(donnees_2018_com_hab['Total des crimes et délits relevés par la PN et GN']/donnees_2018_com_hab['PTOT']*100000)\n",
    "donnees_2018_com_hab= donnees_2018_com_hab.drop(['Total des crimes et délits_x', 'Total des crimes et délits_y', 'PTOT', 'NbBoucheriesParCom'], axis=1)\n",
    "if VERBOSE:\n",
    "    display(donnees_2018_com_hab)\n"
   ]
  },
  {
   "cell_type": "code",
   "execution_count": 50,
   "id": "fbd05a5c-09e7-480d-83bb-ab9363ccecc1",
   "metadata": {},
   "outputs": [
    {
     "name": "stdout",
     "output_type": "stream",
     "text": [
      "Stored 'donnees_2018_com' (DataFrame)\n",
      "Stored 'donnees_2018_com_hab' (DataFrame)\n"
     ]
    }
   ],
   "source": [
    "%store donnees_2018_com\n",
    "%store donnees_2018_com_hab\n"
   ]
  },
  {
   "cell_type": "code",
   "execution_count": 51,
   "id": "db072a45-12f4-49e8-81ef-e113b8bfc687",
   "metadata": {},
   "outputs": [
    {
     "name": "stdout",
     "output_type": "stream",
     "text": [
      "9 - Export des données  ====> OK \n"
     ]
    }
   ],
   "source": [
    "if not donnees_2018_com_hab.empty:\n",
    "    print(\"9 - Export des données  ====> OK \")\n",
    "else:\n",
    "    print(\"9 - Export des données  ====> KO \")"
   ]
  },
  {
   "cell_type": "markdown",
   "id": "16bfa40b-dcd2-4b2b-b160-fbb74bda6697",
   "metadata": {},
   "source": [
    "## 10 - Tentative de récupération d'un proxy d'un sentiment de sécurité au niveau communal\n"
   ]
  },
  {
   "cell_type": "code",
   "execution_count": null,
   "id": "d1b565ef-dd73-45c9-bde6-d486fad156f4",
   "metadata": {},
   "outputs": [],
   "source": [
    "# import re\n",
    "\n",
    "# import time\n",
    "# headers = {\n",
    "#     'user-agent': 'Mozilla/5.0 (X11; Linux x86_64) AppleWebKit/537.36 (KHTML, like Gecko) Chrome/67.0.3396.99 Safari/537.36'\n",
    "# }\n",
    "\n",
    "# url=\"https://www.ville-ideale.fr/villespardepts.php\"\n",
    "# url_cherche=\"https://www.ville-ideale.fr/scripts/cherche.php\"\n",
    "# base_url=\"https://www.ville-ideale.fr\"\n",
    "# s = requests.session()\n",
    "# r=s.get(url,headers=headers)\n",
    "# print(r)\n",
    "# print(r.text)\n",
    "# time.sleep(1)\n",
    "\n",
    "# liste_departement=re.findall(r'affdept\\(\\'(\\d+)\\',',r.text)\n",
    "# for _, numdep in enumerate(liste_departement):\n",
    "#     r=s.post(url_cherche,data={'dept': numdep},headers=headers)\n",
    "#     print(r)\n",
    "#     soup = BeautifulSoup(r.text, 'html.parser')\n",
    "#     for link in soup.find_all('a'):\n",
    "#         time.sleep(1)\n",
    "#         print(link.get('href'))\n",
    "#         r=s.get(base_url+link.get('href'),headers=headers)\n",
    "#         print(r)\n",
    "#         soup = BeautifulSoup(r.text, 'html.parser')\n",
    "#         print(soup.find(id=\"tablonotes\").findAll(\"tr\"))\n",
    "#         print(type(soup.find(id=\"tablonotes\").findAll(\"tr\")))\n",
    "#         liste_tr_securite=[tr.text for tr in list(soup.find(id=\"tablonotes\").findAll(\"tr\")) if \"Sécurité\" in tr.text ]\n",
    "#         if liste_tr_securite:\n",
    "#             note_securite=re.findall(r'\\d+', liste_tr_securite[0])\n",
    "#             print('.'.join(note_securite))\n",
    "#         break\n",
    "#     break"
   ]
  },
  {
   "cell_type": "code",
   "execution_count": null,
   "id": "23f6ad80-923c-459b-8185-b136bfcc77c9",
   "metadata": {},
   "outputs": [],
   "source": [
    "# !pip install lxml\n",
    "# from lxml.html import fromstring\n",
    "# import requests\n",
    "# from itertools import cycle\n",
    "# import traceback\n",
    "# def get_proxies():\n",
    "#     url = 'https://free-proxy-list.net/'\n",
    "#     response = requests.get(url)\n",
    "#     parser = fromstring(response.text)\n",
    "#     proxies = set()\n",
    "#     for i in parser.xpath('//tbody/tr'):\n",
    "#         if i.xpath('.//td[7][contains(text(),\"yes\")]') and  i.xpath('.//td[5][contains(text(),\"elite proxy\")]'):\n",
    "#             proxy = \":\".join([i.xpath('.//td[1]/text()')[0], i.xpath('.//td[2]/text()')[0]])\n",
    "#             proxies.add(proxy)\n",
    "#     return proxies\n",
    "\n",
    "# proxies = get_proxies()\n",
    "# print(proxies)\n",
    "# proxy_pool = cycle(proxies)\n",
    "# url = 'https://www.ville-ideale.fr'\n",
    "\n",
    "# bool_continue=True\n",
    "# i=0\n",
    "# while bool_continue and i <10:\n",
    "# #Get a proxy from the pool\n",
    "#     i+=1\n",
    "#     proxy = next(proxy_pool)\n",
    "#     print(\"Request #%d\"%i)\n",
    "#     try:\n",
    "#         s = requests.Session()\n",
    "#         s.proxies = {\"http\": proxy, \"https\": proxy}\n",
    "#         response = s.get(url)\n",
    "#         print(response.json())\n",
    "#         bool_continue=False\n",
    "#     except:\n",
    "#         #Most free proxies will often get connection errors. You will have retry the entire request using another proxy to work. \n",
    "#         #We will just skip retries as its beyond the scope of this tutorial and we are only downloading a single url \n",
    "#         print(\"Skipping. Connnection error\")"
   ]
  }
 ],
 "metadata": {
  "kernelspec": {
   "display_name": "Python 3 (ipykernel)",
   "language": "python",
   "name": "python3"
  },
  "language_info": {
   "codemirror_mode": {
    "name": "ipython",
    "version": 3
   },
   "file_extension": ".py",
   "mimetype": "text/x-python",
   "name": "python",
   "nbconvert_exporter": "python",
   "pygments_lexer": "ipython3",
   "version": "3.9.7"
  }
 },
 "nbformat": 4,
 "nbformat_minor": 5
}
