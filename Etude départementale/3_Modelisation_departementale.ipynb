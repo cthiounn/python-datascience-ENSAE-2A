{
 "cells": [
  {
   "cell_type": "code",
   "execution_count": null,
   "id": "ef8b01e4-4a70-46ef-8904-4449c3b95a35",
   "metadata": {},
   "outputs": [],
   "source": [
    "from sklearn.linear_model import LinearRegression\n",
    "from sklearn.model_selection import train_test_split\n",
    "import matplotlib.pyplot as plt\n",
    "import seaborn as sns\n",
    "import scipy.stats as stats\n",
    "import numpy as np\n",
    "from sklearn.model_selection import cross_val_score\n",
    "from statsmodels.formula.api import ols\n"
   ]
  },
  {
   "cell_type": "code",
   "execution_count": null,
   "id": "f7417eb0-1fbf-40b9-8124-147eeb71682f",
   "metadata": {},
   "outputs": [],
   "source": [
    "%store -r donnees_2018_hab\n",
    "%store -r donnees_2018\n",
    "donnees_2018_hab"
   ]
  },
  {
   "cell_type": "code",
   "execution_count": null,
   "id": "58c4801d-1b86-4f17-a42e-7ae430f92462",
   "metadata": {},
   "outputs": [],
   "source": [
    "donnees_2018_hab=donnees_2018_hab.drop(columns=['REG', 'Libellé','Crim_Del_PN_GN','Crim_Del_GN_hab','Crim_Del_PN_hab'])\n",
    "\n"
   ]
  },
  {
   "cell_type": "code",
   "execution_count": null,
   "id": "bc1577de-700d-4558-acc8-6d0016ffb5d2",
   "metadata": {},
   "outputs": [],
   "source": [
    "# donnees_2018_hab=donnees_2018_hab[(donnees_2018_hab.index<'91') & (donnees_2018_hab.index!='75') & (donnees_2018_hab.index!='2A') & (donnees_2018_hab.index!='2B')]"
   ]
  },
  {
   "cell_type": "markdown",
   "id": "f05fcdbe-ca2b-477e-bee2-9a3dad672bbe",
   "metadata": {},
   "source": [
    "# 1 - Approche économétrique\n",
    "\n",
    "Dans une première approché économétrique, nous essayons de prédire le nombre de crimes à partir uniquement du nombre de boucherie, puis en rajoutant des variables de contrôles"
   ]
  },
  {
   "cell_type": "markdown",
   "id": "db661dd4-5de4-43ce-8969-64a8e2c0ce22",
   "metadata": {},
   "source": [
    "## 1-A Régression linéaire simple"
   ]
  },
  {
   "cell_type": "code",
   "execution_count": 141,
   "id": "d8319b6e-fdae-4e44-a902-f301ba611518",
   "metadata": {},
   "outputs": [
    {
     "data": {
      "text/plain": [
       "<matplotlib.collections.PathCollection at 0x7f1982b30430>"
      ]
     },
     "execution_count": 141,
     "metadata": {},
     "output_type": "execute_result"
    },
    {
     "data": {
      "image/png": "[encoded data removed]",
      "text/plain": [
       "<Figure size 432x288 with 1 Axes>"
      ]
     },
     "metadata": {
      "needs_background": "light"
     },
     "output_type": "display_data"
    }
   ],
   "source": [
    "# Code from https://towardsdatascience.com/simulating-replicating-r-regression-plot-in-python-using-sklearn-4ee48a15b67\n",
    "\n",
    "lm = LinearRegression()\n",
    "\n",
    "\n",
    "df_train, df_test = train_test_split(donnees_2018_hab, \n",
    "                                     train_size = 0.7, \n",
    "                                     test_size = 0.3\n",
    "                                    )\n",
    "\n",
    "X_train=df_train[[ 'Nb_Boucherie_dep_hab']]\n",
    "y_train=df_train[['Crim_Del_PN_GN_hab']]\n",
    "\n",
    "lm.fit(X_train, y_train)\n",
    "\n",
    "X_test=df_test[['Nb_Boucherie_dep_hab']]\n",
    "y_test=df_test[['Crim_Del_PN_GN_hab']]\n",
    "\n",
    "# # for predictions\n",
    "predictions = lm.predict(X_test)\n",
    "\n",
    "beta_hat = [lm.intercept_.tolist()] + lm.coef_.tolist()\n",
    "beta_hat\n",
    "plt.scatter(X_train, y_train)\n",
    "\n"
   ]
  },
  {
   "cell_type": "code",
   "execution_count": 145,
   "id": "507fd547-ac70-4be5-a2b6-721bfe530b3f",
   "metadata": {},
   "outputs": [
    {
     "name": "stdout",
     "output_type": "stream",
     "text": [
      "                            OLS Regression Results                            \n",
      "==============================================================================\n",
      "Dep. Variable:     Crim_Del_PN_GN_hab   R-squared:                       0.043\n",
      "Model:                            OLS   Adj. R-squared:                  0.027\n",
      "Method:                 Least Squares   F-statistic:                     2.655\n",
      "Date:                Tue, 04 Jan 2022   Prob (F-statistic):              0.109\n",
      "Time:                        07:47:05   Log-Likelihood:                -505.86\n",
      "No. Observations:                  61   AIC:                             1016.\n",
      "Df Residuals:                      59   BIC:                             1020.\n",
      "Df Model:                           1                                         \n",
      "Covariance Type:            nonrobust                                         \n",
      "========================================================================================\n",
      "                           coef    std err          t      P>|t|      [0.025      0.975]\n",
      "----------------------------------------------------------------------------------------\n",
      "Intercept             4979.9640    404.046     12.325      0.000    4171.470    5788.458\n",
      "Nb_Boucherie_dep_hab   -19.4223     11.919     -1.630      0.109     -43.272       4.428\n",
      "==============================================================================\n",
      "Omnibus:                        9.678   Durbin-Watson:                   2.177\n",
      "Prob(Omnibus):                  0.008   Jarque-Bera (JB):                9.346\n",
      "Skew:                           0.911   Prob(JB):                      0.00935\n",
      "Kurtosis:                       3.598   Cond. No.                         109.\n",
      "==============================================================================\n",
      "\n",
      "Notes:\n",
      "[1] Standard Errors assume that the covariance matrix of the errors is correctly specified.\n"
     ]
    }
   ],
   "source": [
    "reg_with_statsmodels = ols(\" Crim_Del_PN_GN_hab ~  Nb_Boucherie_dep_hab\", data = df_train).fit()\n",
    "print(reg_with_statsmodels.summary())"
   ]
  },
  {
   "cell_type": "markdown",
   "id": "e7b479f4-627f-404f-b1fe-c4447cca1fed",
   "metadata": {},
   "source": [
    "## 1-B Régression linéaire multiple"
   ]
  },
  {
   "cell_type": "code",
   "execution_count": null,
   "id": "73e928df-2a5d-4e34-9b6b-09bb23efd334",
   "metadata": {},
   "outputs": [],
   "source": [
    "# Code from https://towardsdatascience.com/simulating-replicating-r-regression-plot-in-python-using-sklearn-4ee48a15b67\n",
    "\n",
    "lm = LinearRegression()\n",
    "\n",
    "\n",
    "df_train, df_test = train_test_split(donnees_2018_hab, \n",
    "                                     train_size = 0.7, \n",
    "                                     test_size = 0.3\n",
    "                                    )\n",
    "\n",
    "X_train=df_train[['MED18', 'TP6018', 'D118', 'D918', 'RD18', 'T1_2018',\n",
    "       'Nb_PN_GN_dep_100k_hab', 'Nb_Boucherie_dep_hab']]\n",
    "y_train=df_train[['Crim_Del_PN_GN_hab']]\n",
    "\n",
    "lm.fit(X_train, y_train)\n",
    "\n",
    "X_test=df_test[['MED18', 'TP6018', 'D118', 'D918', 'RD18', 'T1_2018',\n",
    "       'Nb_PN_GN_dep_100k_hab', 'Nb_Boucherie_dep_hab']]\n",
    "y_test=df_test[['Crim_Del_PN_GN_hab']]\n",
    "\n",
    "# # for predictions\n",
    "predictions = lm.predict(X_test)\n",
    "lm.coef_\n",
    "lm.intercept_\n",
    "scores = cross_val_score(lm, X_train, y_train, scoring='r2', cv=5)\n",
    "scores\n",
    "# R² can be negative with small datasets and cv fold https://stackoverflow.com/questions/23036866/scikit-learn-is-returning-coefficient-of-determination-r2-values-less-than-1"
   ]
  },
  {
   "cell_type": "code",
   "execution_count": null,
   "id": "68eb97ec-58bb-44ed-bde9-7f8039f3924d",
   "metadata": {},
   "outputs": [],
   "source": [
    "\n",
    "\n",
    "sns.residplot(predictions.reshape(-1),'Crim_Del_PN_GN_hab', data=df_test,lowess=True,\n",
    "                                  line_kws={'color': 'red', 'lw': 1, 'alpha': 1})\n",
    "plt.xlabel(\"Fitted values\")\n",
    "plt.title('Residual plot')"
   ]
  },
  {
   "cell_type": "code",
   "execution_count": null,
   "id": "2c17af4b-5e88-406e-a0f4-d86fd7ad663a",
   "metadata": {},
   "outputs": [],
   "source": [
    "residuals = df_test[\"Crim_Del_PN_GN_hab\"] - predictions.reshape(-1)\n",
    "residuals\n",
    "\n",
    "plt.figure(figsize=(7,7))\n",
    "stats.probplot(residuals, dist=\"norm\", plot=plt)\n",
    "plt.title(\"Normal Q-Q Plot\")"
   ]
  },
  {
   "cell_type": "code",
   "execution_count": null,
   "id": "be4da845-c6be-4b5b-929a-b73c42a5ad31",
   "metadata": {},
   "outputs": [],
   "source": [
    "model_norm_residuals_abs_sqrt=np.sqrt(np.abs(residuals))\n",
    "\n",
    "plt.figure(figsize=(7,7))\n",
    "sns.regplot(predictions.reshape(-1), model_norm_residuals_abs_sqrt,\n",
    "              scatter=True,\n",
    "              lowess=True,\n",
    "              line_kws={'color': 'red', 'lw': 1, 'alpha': 0.8})\n",
    "plt.ylabel(\"Standarized residuals\")\n",
    "plt.xlabel(\"Fitted value\")\n",
    "\n",
    "# Hétéroscédasticité\n",
    "# Woolridge's Introductory Econometrics suggest taking the natural log for : \n",
    "# * conditional distributions that are heteroskedastic or skewed;\n",
    "# * Population variables\n",
    "# * log(1+y) if 0 exists"
   ]
  },
  {
   "cell_type": "code",
   "execution_count": 151,
   "id": "4f3cd5bc-a9b5-45ac-8923-629e0a08be48",
   "metadata": {},
   "outputs": [
    {
     "name": "stdout",
     "output_type": "stream",
     "text": [
      "                            OLS Regression Results                            \n",
      "==============================================================================\n",
      "Dep. Variable:     Crim_Del_PN_GN_hab   R-squared:                       0.576\n",
      "Model:                            OLS   Adj. R-squared:                  0.510\n",
      "Method:                 Least Squares   F-statistic:                     8.815\n",
      "Date:                Tue, 04 Jan 2022   Prob (F-statistic):           1.59e-07\n",
      "Time:                        07:50:39   Log-Likelihood:                -481.06\n",
      "No. Observations:                  61   AIC:                             980.1\n",
      "Df Residuals:                      52   BIC:                             999.1\n",
      "Df Model:                           8                                         \n",
      "Covariance Type:            nonrobust                                         \n",
      "=========================================================================================\n",
      "                            coef    std err          t      P>|t|      [0.025      0.975]\n",
      "-----------------------------------------------------------------------------------------\n",
      "Intercept             -4.221e+04   2.21e+04     -1.911      0.062   -8.66e+04    2120.765\n",
      "Nb_Boucherie_dep_hab     -6.3305     10.117     -0.626      0.534     -26.631      13.970\n",
      "MED18                     0.7144      0.404      1.769      0.083      -0.096       1.525\n",
      "TP6018                  212.5237    268.558      0.791      0.432    -326.378     751.425\n",
      "D118                      2.2635      1.390      1.628      0.109      -0.526       5.053\n",
      "D918                     -0.6846      0.290     -2.359      0.022      -1.267      -0.102\n",
      "RD18                   7818.5449   3080.934      2.538      0.014    1636.198     1.4e+04\n",
      "T1_2018                 274.2783     94.268      2.910      0.005      85.115     463.442\n",
      "Nb_PN_GN_dep_100k_hab     0.7450      1.081      0.689      0.494      -1.424       2.914\n",
      "==============================================================================\n",
      "Omnibus:                       10.732   Durbin-Watson:                   1.790\n",
      "Prob(Omnibus):                  0.005   Jarque-Bera (JB):               24.542\n",
      "Skew:                           0.329   Prob(JB):                     4.69e-06\n",
      "Kurtosis:                       6.037   Cond. No.                     1.10e+07\n",
      "==============================================================================\n",
      "\n",
      "Notes:\n",
      "[1] Standard Errors assume that the covariance matrix of the errors is correctly specified.\n",
      "[2] The condition number is large, 1.1e+07. This might indicate that there are\n",
      "strong multicollinearity or other numerical problems.\n"
     ]
    }
   ],
   "source": [
    "formula_reg= \" Crim_Del_PN_GN_hab ~  Nb_Boucherie_dep_hab + MED18 + TP6018 + D118 + D918 + RD18 + T1_2018 +    Nb_PN_GN_dep_100k_hab\"\n",
    "reg_with_statsmodels = ols( formula_reg, data = df_train).fit()\n",
    "print(reg_with_statsmodels.summary())"
   ]
  }
 ],
 "metadata": {
  "kernelspec": {
   "display_name": "Python 3 (ipykernel)",
   "language": "python",
   "name": "python3"
  },
  "language_info": {
   "codemirror_mode": {
    "name": "ipython",
    "version": 3
   },
   "file_extension": ".py",
   "mimetype": "text/x-python",
   "name": "python",
   "nbconvert_exporter": "python",
   "pygments_lexer": "ipython3",
   "version": "3.9.7"
  }
 },
 "nbformat": 4,
 "nbformat_minor": 5
}
