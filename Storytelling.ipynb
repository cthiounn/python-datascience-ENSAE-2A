{
 "cells": [
  {
   "cell_type": "markdown",
   "id": "14dc0f46-5bb9-46db-93e1-2743ea30db0e",
   "metadata": {},
   "source": [
    "# Que peut-on dire des statistiques des délits et des crimes à partir des établissements de boucheries-charcutiers ?\n",
    "\n",
    "L'objectif de cette étude est de pouvoir savoir s'il y a une corrélation, voire une causalité entre le nombre de boucheries-charcutiers d'une zone géographique et le nombre de délits et crimes reportés. Pour cela, nous utilisons principalement des sources statistiques issues du système statistique publique français.\n",
    "\n",
    "En premier lieu, nous utilisons les statistiques du ministère de l'intérieur en ce qui concernent les délits et les crimes disponible en OpenData sur data.gouv.fr (https://www.data.gouv.fr/fr/datasets/crimes-et-delits-enregistres-par-les-services-de-gendarmerie-et-de-police-depuis-2012/)\n",
    "Puis, pour obteniir les établissements de boucheries-charcutiers, nous utilisons le répertoire Sirene, via le site sirene.fr.\n",
    "Enfin, nous utilisons les populations légales pour contrôler l'effet taille des zones géographiques (communes, départements) et d'autres variables socio-économiques susceptibles d'être corrélées avec notre variable d'intérêt (taux de chômage, revenu localisé).\n",
    "\n",
    "Nous essaierons de suivre une démarche GSBPM (https://statswiki.unece.org/display/GSBPM/Clickable+GSBPM+v5.1).\n",
    "\n",
    "L'étude portera principalement au niveau département, une extension au niveau communal pourra également être faite.\n"
   ]
  },
  {
   "cell_type": "markdown",
   "id": "eaacba32-652e-46d9-8d09-f81a39aeceb3",
   "metadata": {},
   "source": [
    "## 1 - Récupération des données au niveau département (3-5 build, collect and process)\n",
    "\n",
    "Les données de la statistique publique français sont accessible par Internet soit par site web (scrapping ou téléchargement d'une archive/fichier), soit par API. La majeure partie des cas est soit le téléchargement d'un fichier dont le format d'interopérabilité est variable (https://www.numerique.gouv.fr/uploads/Referentiel_General_Interoperabilite_V2.pdf), soit le téléchargement via requetage d'une API.\n",
    "\n",
    "Voici le tableau des sources utilisées :\n",
    "\n",
    "| source  | description  | producteur  | millésime  | formats  | champ |\n",
    "|---|---|---|---|---|---|\n",
    "| SIRENE   | Nombre de boucheries-charcutier  |  INSEE | courant  |  csv | France entière  |\n",
    "|  GN/PN   | Nombre de crimes et délits rapportés  | Ministère de l'intérieur  | 2018   |  xls | France entière sauf Mayotte + Saint Martin(COM) |\n",
    "|  Filosofi  | Revenu localisé   | INSEE  | 2018  | zip-csv  | France métro + Réunion + Martinique |\n",
    "| Population légales  | Nombre d'habitants par communes/départements  | INSEE  |  2018 |  zip-csv | France entière sauf Mayotte |\n",
    "| ESTEL   | Taux de chômage et d'emploi localisé  | INSEE  | 2018  |  xls |  France entière sauf Mayotte |\n",
    "| SIASP  |  Nombre de gendarmes/policiers  | INSEE  | 2021  | xls  | France entière sauf Mayotte |\n",
    "\n",
    "Compte tenu du foisonnement des données disponibles et le manque de données pour certains millésimes, nous nous sommes focalisés sur un millésime particulier 2018. Les dernières populations légales disponibles au début du projet concernait le millésime 2018. Nous avons donc pris comme point de référence cette année.\n",
    "\n",
    "\n",
    "Le champ de l'étude a été déduit par intersection des champs des sources disponibles. Quelques rares sources présentaient des données des COM, d'autres ne présentaient pas parmi les DOM, des données pour Mayotte, devenu une DOM en 2011 où les sources statistiques n'ont pas encore atteint une maturité suffisante. Par manque de données, l'étude s'est restreinte au niveau France métropolitaine.\n",
    "Egalement, par simplification, nous considérons les données récentes comme des données 2018 sans appliquer de vieillissement statistique, comme ce qui pourrait se faire dans le modèle Ines avec la source ERFS.\n",
    "\n",
    "\n",
    "%run ./Etude départementale/1_Recup_donnees_departementales.ipynb"
   ]
  },
  {
   "cell_type": "markdown",
   "id": "22196515-a247-45d3-9a29-f60ddf80f5cd",
   "metadata": {},
   "source": [
    "## 2 - Analyse exploratoire des données départementales (6 Analyse)"
   ]
  },
  {
   "cell_type": "markdown",
   "id": "ae86f224-c27a-4cb6-b40a-8e050c497f55",
   "metadata": {},
   "source": [
    "## 3 - Modélisation des données départementales (6 Analyse)\n",
    "\n",
    "Dans un premier temps, nous étudions à l'aide d'une régression linéaire multiple, la pertinence du modèle, en étudiant dans un premier temps la corrélation entre le nombre de crimes et délits total à ses regresseurs, dont particulièrement le nombre de boucheries-charcutiers"
   ]
  }
 ],
 "metadata": {
  "kernelspec": {
   "display_name": "Python 3 (ipykernel)",
   "language": "python",
   "name": "python3"
  },
  "language_info": {
   "codemirror_mode": {
    "name": "ipython",
    "version": 3
   },
   "file_extension": ".py",
   "mimetype": "text/x-python",
   "name": "python",
   "nbconvert_exporter": "python",
   "pygments_lexer": "ipython3",
   "version": "3.9.7"
  }
 },
 "nbformat": 4,
 "nbformat_minor": 5
}
