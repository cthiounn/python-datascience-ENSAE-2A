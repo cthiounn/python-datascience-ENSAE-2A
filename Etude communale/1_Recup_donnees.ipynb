{
 "cells": [
  {
   "cell_type": "markdown",
   "id": "bb68a801-220a-4767-a8ec-5c88a669ee7b",
   "metadata": {},
   "source": [
    "# Récupération des données pour l'étude communale"
   ]
  },
  {
   "cell_type": "markdown",
   "id": "901c5c67-e1a5-49f7-88bc-469126134e5e",
   "metadata": {},
   "source": [
    "## 1- Importation des librairies externes et classiques"
   ]
  },
  {
   "cell_type": "code",
   "execution_count": null,
   "id": "11d0bc14-7f44-452d-88c9-c19f6013dc39",
   "metadata": {},
   "outputs": [],
   "source": [
    "# Importation des librairies externes\n",
    "!pip install git+https://github.com/InseeFrLab/Py-Insee-Data@master --ignore-install PyYAML\n",
    "!pip install python-Levenshtein\n",
    "!pip install openpyxl\n",
    "!pip install fuzzywuzzy"
   ]
  },
  {
   "cell_type": "code",
   "execution_count": null,
   "id": "0e69d87a-9dec-423c-b705-e5ad29bcff58",
   "metadata": {},
   "outputs": [],
   "source": [
    "# Importation des librairies \n",
    "import unicodedata\n",
    "import requests\n",
    "import pandas as pd\n",
    "import pynsee\n",
    "import pynsee.download\n",
    "from pynsee.sirene import *\n",
    "import time\n",
    "from tqdm import tqdm\n",
    "from pynsee.utils.init_conn import init_conn\n",
    "import os\n",
    "from zipfile import ZipFile, Path\n",
    "import io\n",
    "import numpy as np\n",
    "from fuzzywuzzy import fuzz"
   ]
  },
  {
   "cell_type": "code",
   "execution_count": null,
   "id": "b3018de9-c70c-4c2b-8d68-bf36f15655cf",
   "metadata": {},
   "outputs": [],
   "source": [
    "# token API insee\n",
    "init_conn(insee_key=os.environ['INSEE_KEY'], insee_secret=os.environ['INSEE_SECRET'])"
   ]
  },
  {
   "cell_type": "markdown",
   "id": "d5d4558e-67b9-4a6e-966c-c101dfb1f2d1",
   "metadata": {
    "tags": []
   },
   "source": [
    "## 2- Téléchargement du Code Officiel Géographique"
   ]
  },
  {
   "cell_type": "markdown",
   "id": "d76cc510-4ff5-4b59-afa4-d9545c42b2c4",
   "metadata": {},
   "source": [
    "* Pour des raisons de simplicité, nous travaillons en géographie 2021 :"
   ]
  },
  {
   "cell_type": "code",
   "execution_count": null,
   "id": "a5ad48ac-276b-432e-a4b7-cd43ca84eae2",
   "metadata": {},
   "outputs": [],
   "source": [
    "cog_commune = pynsee.download.telechargerDonnees(\"COG_COMMUNE\", date = \"dernier\")\n",
    "URL_COG_2021=\"https://www.insee.fr/fr/statistiques/fichier/5057840/commune2021-csv.zip\"\n",
    "\n",
    "#Télécharger le zip de l'URL\n",
    "r=requests.get(URL_COG_2021)\n",
    "\n",
    "open(\"commune2021-csv.zip\", 'wb').write(r.content)\n",
    "    \n",
    "    \n",
    "with ZipFile(\"commune2021-csv.zip\",'r') as myzip:\n",
    "   data = myzip.open(\"commune2021.csv\")\n",
    "\n",
    "donnees_cog_2021=pd.read_csv(data)     "
   ]
  },
  {
   "cell_type": "code",
   "execution_count": null,
   "id": "f95703aa-f02d-4352-9737-601617cf5bff",
   "metadata": {},
   "outputs": [],
   "source": [
    "donnees_cog_2021"
   ]
  },
  {
   "cell_type": "markdown",
   "id": "f60315ac-16b1-4901-a013-a6125c2f51b0",
   "metadata": {},
   "source": [
    "## 3- Téléchargement des données de SIRENE"
   ]
  },
  {
   "cell_type": "code",
   "execution_count": null,
   "id": "a741a098-6c5e-427a-ba84-ae9ceaf69b4a",
   "metadata": {},
   "outputs": [],
   "source": [
    "### Téléchargement des données Sirene sur les établissements Siret de boucherie-charcuterie (code 4722Z) à l'instant T\n",
    "# Téléchargement via Insee sirene data  by sirene.fr website\n",
    "\n",
    "session = requests.session()\n",
    "URL_ACCUEIL = \"https://www.sirene.fr/sirene/public/creation-fichier\"\n",
    "URL_REQUETE_POST = \"https://www.sirene.fr/sirene/public/verifier-creation-fichier.action\"\n",
    "URL_DEVIS=\"https://www.sirene.fr/sirene/client//sirene/client/devis-demande.action\"\n",
    "\n",
    "URL_RECAP=\"https://www.sirene.fr/sirene/client/telechargement-pret-fichier.action\"\n",
    "URL_TELECHARGEMENT_POST=\"https://www.sirene.fr/sirene/client/telechargement-fichier\"\n",
    "POST_DATA={\n",
    "'fichier.caracteristiques.etat.actif': 'true',\n",
    "'__checkbox_fichier.caracteristiques.etat.actif': 'true',\n",
    "'__checkbox_fichier.caracteristiques.etat.ferme': 'true',\n",
    "'fichier.caracteristiques.typeEtablissement': '1',\n",
    "'fichier.caracteristiques.geoFile': 'false',\n",
    "'fichier.caracteristiques.cjFile': 'false',\n",
    "'fichier.caracteristiques.apeFile': 'false',\n",
    "'fichier.caracteristiques.sirenSiretFile': 'false',\n",
    "'fichiersCriteres.criteresGeographie.upload': '(binaire)',\n",
    "'__multiselect_fichier.criteres.geographie.region.modalites': '',\n",
    "'__multiselect_fichier.criteres.geographie.departement.modalites': '',\n",
    "'fichiersCriteres.criteresActivite.upload': '(binaire)',\n",
    "'__multiselect_fichier.criteres.activite.section.modalites': '',\n",
    "'__multiselect_fichier.criteres.activite.division.modalites': '',\n",
    "'__multiselect_fichier.criteres.activite.groupe.modalites': '',\n",
    "'fichier.criteres.activite.sousClasse.modalites': '4722Z',\n",
    "'__multiselect_fichier.criteres.activite.sousClasse.modalites': '',\n",
    "'fichiersCriteres.criteresNature.upload': '(binaire)',\n",
    "'__multiselect_fichier.criteres.nature.entrepriseNiveau1.modalites': '',\n",
    "'__multiselect_fichier.criteres.nature.entrepriseNiveau2.modalites': '',\n",
    "'__multiselect_fichier.criteres.nature.entrepriseNiveau3.modalites': '',\n",
    "'__multiselect_fichier.criteres.trancheEffectif.modalites': '',\n",
    "'fichier.criteres.dateCreation.date': '',\n",
    "'fichier.criteres.dateCreation.dateFin': '',\n",
    "'fichier.criteres.dateMaj.date': '',\n",
    "'fichier.criteres.dateMaj.dateFin': '',\n",
    "'fichiersCriteres.criteresSirenSiret.upload': '(binaire)',\n",
    "'__multiselect_fichier.criteres.criteresCatEnt.modalites': '',\n",
    "'strutsLocale': 'fr_FR',\n",
    "}\n",
    "\n",
    "result=session.get(URL_ACCUEIL)\n",
    "result=session.post(URL_REQUETE_POST, data=POST_DATA)\n",
    "\n",
    "\n",
    "result=session.get(URL_RECAP)\n",
    "\n",
    "result=session.get(URL_DEVIS)\n",
    "\n",
    "result=session.post(URL_TELECHARGEMENT_POST)\n",
    "\n",
    "donnees_sirene_fr=pd.read_csv(io.StringIO(result.content.decode('utf-8')),dtype=str)\n"
   ]
  },
  {
   "cell_type": "markdown",
   "id": "b5eacaa2-ff42-4608-ad2b-defeebe9e0c3",
   "metadata": {},
   "source": [
    "* les données de Sirene.fr sont des données d'entreprises France entière. Pour l'étude, le nombre d'établissement par commune est considéré :"
   ]
  },
  {
   "cell_type": "code",
   "execution_count": null,
   "id": "7fb25e51-c2eb-403b-9532-462e28b7a532",
   "metadata": {},
   "outputs": [],
   "source": [
    "donnees_sirene_fr_agregees_par_com = donnees_sirene_fr.groupby(\"codeCommuneEtablissement\").size().reset_index(name='NbBoucheriesPaCom').set_index(\"codeCommuneEtablissement\")\n",
    "donnees_sirene_fr_agregees_par_com.describe()"
   ]
  },
  {
   "cell_type": "code",
   "execution_count": null,
   "id": "7a8238b0-37ad-4088-b5cd-6605ae8263d9",
   "metadata": {},
   "outputs": [],
   "source": [
    "donnees_sirene_fr_agregees_par_com"
   ]
  },
  {
   "cell_type": "markdown",
   "id": "b0c280bb-d2c2-460c-8e58-426384c0c375",
   "metadata": {},
   "source": [
    "## 3- Téléchargement des données du ministère de l'intérieur"
   ]
  },
  {
   "cell_type": "code",
   "execution_count": null,
   "id": "10ccf6f6-2731-44a3-9950-58570d19be0d",
   "metadata": {},
   "outputs": [],
   "source": [
    "#Téléchargement des données de crimes et délits rapportés déclarés auprès des commissariats \n",
    "url_datagouv_min_interieur=\"https://www.data.gouv.fr/fr/datasets/r/d792092f-b1f7-4180-a367-d043200c1520\"\n",
    "\n",
    "donnees_police_nationale_2018=pd.read_excel(url_datagouv_min_interieur, sheet_name='Services PN 2018')\n",
    "donnees_gendarmerie_nationale_2018=pd.read_excel(url_datagouv_min_interieur, sheet_name='Services GN 2018' )\n",
    "\n",
    "del donnees_police_nationale_2018[donnees_police_nationale_2018.columns[0]]\n",
    "del donnees_gendarmerie_nationale_2018[donnees_gendarmerie_nationale_2018.columns[0]]\n",
    "\n",
    "url_localisation_pn=\"https://www.data.gouv.fr/fr/datasets/r/2cb2f356-42b2-4195-a35c-d4e4d986c62b\"\n",
    "url_localisation_gn=\"https://www.data.gouv.fr/fr/datasets/r/d6a43ef2-d302-4456-90e9-ff2c47cac562\"\n",
    "donnees_localisation_pn=pd.read_csv(url_localisation_pn,sep=';')\n",
    "donnees_localisation_gn=pd.read_csv(url_localisation_gn,sep=';')\n"
   ]
  },
  {
   "cell_type": "code",
   "execution_count": null,
   "id": "9fdac7e4-9fd3-4325-9df8-7f98a3e5c6a1",
   "metadata": {},
   "outputs": [],
   "source": [
    "normalMap = {'À': 'A', 'Á': 'A', 'Â': 'A', 'Ã': 'A', 'Ä': 'A',\n",
    "             'à': 'a', 'á': 'a', 'â': 'a', 'ã': 'a', 'ä': 'a', 'ª': 'A',\n",
    "             'È': 'E', 'É': 'E', 'Ê': 'E', 'Ë': 'E',\n",
    "             'è': 'e', 'é': 'e', 'ê': 'e', 'ë': 'e',\n",
    "             'Í': 'I', 'Ì': 'I', 'Î': 'I', 'Ï': 'I',\n",
    "             'í': 'i', 'ì': 'i', 'î': 'i', 'ï': 'i',\n",
    "             'Ò': 'O', 'Ó': 'O', 'Ô': 'O', 'Õ': 'O', 'Ö': 'O',\n",
    "             'ò': 'o', 'ó': 'o', 'ô': 'o', 'õ': 'o', 'ö': 'o', 'º': 'O',\n",
    "             'Ù': 'U', 'Ú': 'U', 'Û': 'U', 'Ü': 'U',\n",
    "             'ù': 'u', 'ú': 'u', 'û': 'u', 'ü': 'u',\n",
    "             'Ñ': 'N', 'ñ': 'n',\n",
    "             'Ç': 'C', 'ç': 'c',\n",
    "             '§': 'S',  '³': '3', '²': '2', '¹': '1',\n",
    "             'œ':'oe', 'Œ':'OE'}\n",
    "normalize = str.maketrans(normalMap)\n",
    "donnees_localisation_pn[\"service_sans_accent_upper\"]=donnees_localisation_pn.service.apply(lambda x : x.translate(normalize).upper())\n",
    "donnees_localisation_gn[\"service_sans_accent_upper\"]=donnees_localisation_gn.service.apply(lambda x : x.translate(normalize).upper())"
   ]
  },
  {
   "cell_type": "markdown",
   "id": "e7d17a32-8aca-470c-bab4-2833a32f4362",
   "metadata": {},
   "source": [
    "## Traitement des données de la Police Nationale"
   ]
  },
  {
   "cell_type": "code",
   "execution_count": null,
   "id": "d9aa2061-1738-4cdc-b716-104cf01d8c97",
   "metadata": {},
   "outputs": [],
   "source": [
    "donnees_police_nationale_2018_par_com=donnees_police_nationale_2018.T\n",
    "donnees_police_nationale_2018_par_com.columns = donnees_police_nationale_2018_par_com.iloc[0]\n",
    "donnees_police_nationale_2018_par_com=donnees_police_nationale_2018_par_com.iloc[1: , :]\n",
    "\n",
    "donnees_police_nationale_2018_par_com['Localisation']=donnees_police_nationale_2018_par_com.index+\" \"+donnees_police_nationale_2018_par_com['Périmètres'] +\" \"+donnees_police_nationale_2018_par_com['Libellé index \\ CSP']\n",
    "\n",
    "donnees_police_nationale_2018_par_com['Libellé index \\ CSP'].to_csv(\"toto.csv\")\n",
    "donnees_police_nationale_2018_par_com\n",
    "#donnees_localisation_pn[donnees_localisation_pn.service_sans_accent_upper.str.contains(\"gex\",case=False)]"
   ]
  },
  {
   "cell_type": "markdown",
   "id": "c328663b-5b21-468d-a695-87cdfbc9115a",
   "metadata": {},
   "source": [
    "* Agrégation par département, transposition et fusion :"
   ]
  },
  {
   "cell_type": "code",
   "execution_count": null,
   "id": "5c1f4daf-cfae-4934-bb0b-259e5a244dc1",
   "metadata": {},
   "outputs": [],
   "source": [
    "# donnees_police_nationale_2018_par_dep = donnees_police_nationale_2018_par_dep.sum(axis=1).reset_index(\"departement\").set_index(\"departement\")\n",
    "# donnees_police_nationale_2018_par_dep.rename(columns={0: \"Total des crimes et délits relevés par la Police Nationale\"},inplace=True)"
   ]
  },
  {
   "cell_type": "markdown",
   "id": "01e17d30-727e-41ef-92cb-8cb455f1a0f1",
   "metadata": {},
   "source": [
    "## Traitement des données de la Gendarmerie Nationale"
   ]
  },
  {
   "cell_type": "code",
   "execution_count": null,
   "id": "d1a59db9-97a9-4577-bd85-0659e5867ab5",
   "metadata": {},
   "outputs": [],
   "source": [
    "donnees_gendarmerie_nationale_2018_par_com=donnees_gendarmerie_nationale_2018.T\n",
    "donnees_gendarmerie_nationale_2018_par_com.columns = donnees_gendarmerie_nationale_2018_par_com.iloc[0]\n",
    "donnees_gendarmerie_nationale_2018_par_com=donnees_gendarmerie_nationale_2018_par_com.iloc[1: , :]\n",
    "donnees_gendarmerie_nationale_2018_par_com.columns\n",
    "\n",
    "\n",
    "def trouve_commune_with_fuzz(libelle):\n",
    "    mondf=donnees_cog_2021\n",
    "    mondf['score']=mondf['NCC'].apply(lambda x: fuzz.token_sort_ratio(x,libelle))\n",
    "    mondf=mondf.sort_values(by=\"score\",ascending=False)\n",
    "    return mondf['COM'].iloc[0]\n",
    "\n",
    "\n",
    "#Take 2 minutes to compute\n",
    "donnees_gendarmerie_nationale_2018_par_com[\"COMMUNES\"]=donnees_gendarmerie_nationale_2018_par_com['Libellé index \\ CGD'].apply(trouve_commune_with_fuzz)\n",
    "donnees_gendarmerie_nationale_2018_par_com\n",
    "# donnees_gendarmerie_nationale_2018_par_dep.columns = donnees_gendarmerie_nationale_2018_par_dep.iloc[0]\n",
    "# donnees_gendarmerie_nationale_2018_par_dep=donnees_gendarmerie_nationale_2018_par_dep.iloc[1: , :]\n",
    "\n",
    "# donnees_gendarmerie_nationale_2018_par_dep.drop(donnees_gendarmerie_nationale_2018_par_dep[donnees_gendarmerie_nationale_2018_par_dep.index.str[:2]=='98'].index,inplace=True)\n",
    "# donnees_gendarmerie_nationale_2018_par_dep[\"departement\"]=np.where(donnees_gendarmerie_nationale_2018_par_dep.index.str[:2]=='97', donnees_gendarmerie_nationale_2018_par_dep.index.str[:3],donnees_gendarmerie_nationale_2018_par_dep.index.str[:2])\n",
    "\n",
    "# donnees_gendarmerie_nationale_2018_par_dep = donnees_gendarmerie_nationale_2018_par_dep.groupby(\"departement\").sum() \n",
    "# donnees_gendarmerie_nationale_2018_par_dep"
   ]
  },
  {
   "cell_type": "code",
   "execution_count": null,
   "id": "a7d43c39-a46f-4210-9bd9-8448b7ac3a72",
   "metadata": {},
   "outputs": [],
   "source": [
    "donnees_gendarmerie_nationale_2018_par_dep = donnees_gendarmerie_nationale_2018_par_dep.sum(axis=1).reset_index(\"departement\").set_index(\"departement\")\n",
    "donnees_gendarmerie_nationale_2018_par_dep.rename(columns={0: \"Total des crimes et délits relevés par la Gendarmerie Nationale\"},inplace=True)\n",
    "donnees_gendarmerie_nationale_2018_par_dep"
   ]
  },
  {
   "cell_type": "markdown",
   "id": "ab3693f8-2765-49b5-8cda-ccbddca01c68",
   "metadata": {},
   "source": [
    "## Fusion des données de la Police Nationale et de la Gendarmerie Nationale "
   ]
  },
  {
   "cell_type": "code",
   "execution_count": null,
   "id": "2be85a74-4d34-4294-a354-4f63d876c6b5",
   "metadata": {},
   "outputs": [],
   "source": [
    "merged_crimes_delits_2018_par_dep = donnees_police_nationale_2018_par_dep.merge(donnees_gendarmerie_nationale_2018_par_dep, on=\"departement\", how='left')\n",
    "merged_crimes_delits_2018_par_dep"
   ]
  },
  {
   "cell_type": "markdown",
   "id": "eeb9ce88-15ce-4841-a847-8b031a6fc9de",
   "metadata": {},
   "source": [
    "## 4 - Téléchargement des revenus localisés"
   ]
  },
  {
   "cell_type": "code",
   "execution_count": null,
   "id": "763ad8f9-568c-4230-ab59-373a12a95bd6",
   "metadata": {},
   "outputs": [],
   "source": [
    "#Téléchargement des données Filosofi au niveau IRIS (millénisme 2018)\n",
    "URL_FILO_DECL_2018=\"https://www.insee.fr/fr/statistiques/fichier/5055909/BASE_TD_FILO_DEC_IRIS_2018.xlsx\"\n",
    "URL_FILO_DISP_2018=\"https://www.insee.fr/fr/statistiques/fichier/5055909/BASE_TD_FILO_DISP_IRIS_2018.xlsx\"\n",
    "\n",
    "donnees_filo_decl_2018=pd.read_excel(URL_FILO_DECL_2018, sheet_name='IRIS_DEC', skiprows=5)\n",
    "donnees_filo_disp_2018=pd.read_excel(URL_FILO_DISP_2018, sheet_name='IRIS_DISP', skiprows=5)"
   ]
  },
  {
   "cell_type": "code",
   "execution_count": null,
   "id": "bd738d41-698d-45a7-87bf-37bea1fdbf99",
   "metadata": {},
   "outputs": [],
   "source": [
    "URL_FILO_ZIP_2018=\"https://www.insee.fr/fr/statistiques/fichier/5009236/base-cc-filosofi-2018_CSV_geo2021.zip\"\n",
    "#Télécharger le zip de l'URL\n",
    "r=requests.get(URL_FILO_ZIP_2018)\n",
    "\n",
    "open(\"base-cc-filosofi-2018_CSV_geo2021.zip\", 'wb').write(r.content)\n",
    "    \n",
    "    \n",
    "with ZipFile(\"base-cc-filosofi-2018_CSV_geo2021.zip\",'r') as myzip:\n",
    "    data = myzip.open(\"cc_filosofi_2018_COM-geo2021.CSV\")\n",
    "    data2 = myzip.open(\"cc_filosofi_2018_DEP-geo2021.CSV\")\n",
    "    \n",
    "donnees_filo_communes_2018=pd.read_csv(data,sep=';')       "
   ]
  },
  {
   "cell_type": "code",
   "execution_count": null,
   "id": "77d14b82-a647-4d4a-adc2-12f72f0a6591",
   "metadata": {},
   "outputs": [],
   "source": [
    "donnees_filo_communes_2018"
   ]
  },
  {
   "cell_type": "code",
   "execution_count": null,
   "id": "d3405f7c-cfa8-4f8f-94d2-a335addd504b",
   "metadata": {},
   "outputs": [],
   "source": []
  },
  {
   "cell_type": "code",
   "execution_count": null,
   "id": "a4b1a79f-d35f-42fe-924e-388a51dbd093",
   "metadata": {},
   "outputs": [],
   "source": [
    "donnees_filo_departement_2018=donnees_filo_departement_2018.set_index(\"CODGEO\")"
   ]
  },
  {
   "cell_type": "code",
   "execution_count": null,
   "id": "c23ad9fb-b866-47a1-8e9a-3c34c2f70fdf",
   "metadata": {},
   "outputs": [],
   "source": [
    "donnees_filo_departement_2018"
   ]
  },
  {
   "cell_type": "markdown",
   "id": "6e58043b-be27-48a4-b480-c42487f9092b",
   "metadata": {},
   "source": [
    "## 5 - Téléchargement des populations légales"
   ]
  },
  {
   "cell_type": "code",
   "execution_count": null,
   "id": "66b2f242-fcbf-4726-8bd1-741f75ae08b7",
   "metadata": {},
   "outputs": [],
   "source": [
    "#Téléchargement des populations légales du millénisme 2018 \n",
    "URL_POP_LEG=\"https://www.insee.fr/fr/statistiques/fichier/4989724/ensemble.zip\"\n",
    "\n",
    "#Télécharger le zip de l'URL\n",
    "r=requests.get(URL_POP_LEG)\n",
    "\n",
    "open(\"ensemble.zip\", 'wb').write(r.content)\n",
    "    \n",
    "    \n",
    "with ZipFile(\"ensemble.zip\",'r') as myzip:\n",
    "    data = myzip.open(\"Departements.csv\")\n",
    "\n",
    "donnees_pop_leg_18=pd.read_csv(data,sep=';')     "
   ]
  },
  {
   "cell_type": "code",
   "execution_count": null,
   "id": "f11c80e7-f791-4a88-afb1-7b3c7b07c227",
   "metadata": {},
   "outputs": [],
   "source": [
    "donnees_pop_leg_18.sample(10)"
   ]
  },
  {
   "cell_type": "code",
   "execution_count": null,
   "id": "48cb66e3-9d74-4726-9b9b-e1f2fab41146",
   "metadata": {},
   "outputs": [],
   "source": [
    "donnees_pop_leg_18=donnees_pop_leg_18.set_index(\"CODDEP\")"
   ]
  },
  {
   "cell_type": "code",
   "execution_count": null,
   "id": "724c4f3f-e303-4400-8d8d-42782bb41079",
   "metadata": {},
   "outputs": [],
   "source": [
    "donnees_pop_leg_18.describe()"
   ]
  },
  {
   "cell_type": "markdown",
   "id": "048a8602-7fc3-4da8-ae56-bab7beb6dc43",
   "metadata": {},
   "source": [
    "## 6 - Téléchargement des données d'emplois localisées"
   ]
  },
  {
   "cell_type": "code",
   "execution_count": null,
   "id": "1c7556ce-6327-4dd7-97a8-ed7a092d08b1",
   "metadata": {},
   "outputs": [],
   "source": [
    "#Téléchargement des données d'emploi localisées\n",
    "#donnees_emploi_statut_18 = pynsee.download.telechargerDonnees(\"ESTEL_T201\", date = \"2018\")\n",
    "#donnees_emploi_statut_18.sample(10)\n",
    "\n",
    "#donnees_emploi_sexe_18 = pynsee.download.telechargerDonnees(\"ESTEL_T202\", date = \"2018\")\n",
    "#donnees_emploi_sexe_18.sample(10)\n",
    "\n",
    "\n",
    "URL_TAUX_CHOMAGE_PAR_DEP=\"https://www.insee.fr/fr/statistiques/fichier/2012804/sl_etc_2021T2.xls\"\n",
    "\n",
    "\n",
    "donnees_chomage_par_departement_series_longues=pd.read_excel(URL_TAUX_CHOMAGE_PAR_DEP, sheet_name='Département', skiprows=3)\n",
    "\n",
    "donnees_chomage_par_departement_series_longues=donnees_chomage_par_departement_series_longues.iloc[:100]\n",
    "donnees_chomage_par_departement_series_longues=donnees_chomage_par_departement_series_longues.set_index(\"Code\")\n",
    "donnees_chomage_par_departement_series_longues.index=donnees_chomage_par_departement_series_longues.index.astype(str)"
   ]
  },
  {
   "cell_type": "code",
   "execution_count": null,
   "id": "5bd5850a-fd48-4cba-9664-a67d9053fbf3",
   "metadata": {},
   "outputs": [],
   "source": [
    "donnees_chomage_par_departement_series_longues.describe()"
   ]
  },
  {
   "cell_type": "markdown",
   "id": "14ad52ca-57b8-43b6-809b-4829ee340b1f",
   "metadata": {},
   "source": [
    "## Telechargement des données de répartition de gendarmes et policiers en 2019 sur le territoire (au niveau départemental)"
   ]
  },
  {
   "cell_type": "code",
   "execution_count": null,
   "id": "502e6400-3b68-4f14-bd19-be72db0b8686",
   "metadata": {},
   "outputs": [],
   "source": [
    "URL_NB_PN_GN_DEP = \"https://www.insee.fr/fr/statistiques/fichier/5763601/IREF_SECUR21-F29.xlsx\"\n",
    "donnees_nb_pn_gn_dep=pd.read_excel(URL_NB_PN_GN_DEP, sheet_name='Figure 3', skiprows=1)\n",
    "donnees_nb_pn_gn_dep = donnees_nb_pn_gn_dep.set_index(\"Unnamed: 0\")\n",
    "donnees_nb_pn_gn_dep=donnees_nb_pn_gn_dep.iloc[:100]\n",
    "donnees_nb_pn_gn_dep=donnees_nb_pn_gn_dep.rename(columns={\"Unnamed: 0\": \"CODGEO\", \"Unnamed: 1\": \"Département\", \"Taux pour 10 000 habitants\":\"Nb_PN_GN_dep_100k_hab\"}, index={'Unnamed:0': 'CODDEP'})\n",
    "donnees_nb_pn_gn_dep.index = donnees_nb_pn_gn_dep.index.astype(str)\n",
    "donnees_nb_pn_gn_dep.index.names = ['CODDEP']\n",
    "donnees_nb_pn_gn_dep\n"
   ]
  },
  {
   "cell_type": "markdown",
   "id": "977ec9d8-0a72-40b3-a90e-636d3b4fef46",
   "metadata": {},
   "source": [
    "## 8 - Fusion des données"
   ]
  },
  {
   "cell_type": "code",
   "execution_count": null,
   "id": "1a181b85-ac18-4c3f-a5d8-03968d542a91",
   "metadata": {},
   "outputs": [],
   "source": [
    "donnees_2018=merged_crimes_delits_2018_par_dep.merge(donnees_filo_departement_2018,left_index=True,right_index=True)\n",
    "donnees_2018=donnees_2018.merge(donnees_pop_leg_18,left_index=True,right_index=True)\n",
    "donnees_2018=donnees_2018.merge(donnees_sirene_fr_agregees_par_departement,left_index=True,right_index=True)\n",
    "donnees_2018=donnees_2018.merge(donnees_chomage_par_departement_series_longues,left_index=True,right_index=True)\n",
    "donnees_2018=donnees_2018.merge(donnees_nb_pn_gn_dep,left_index=True,right_index=True)\n",
    "donnees_2018=donnees_2018[['REG', 'Libellé', 'Total des crimes et délits relevés par la Police Nationale', 'Total des crimes et délits relevés par la Gendarmerie Nationale', 'MED18' , 'TP6018', 'D118', 'D918', 'RD18', 'PTOT','T1_2018', 'NbBoucheriesParDep', 'Nb_PN_GN_dep_100k_hab']]\n",
    "donnees_2018"
   ]
  },
  {
   "cell_type": "markdown",
   "id": "01add386-8274-470b-af96-feb3f8c328cf",
   "metadata": {},
   "source": [
    "* On se restreint au champ métropolitain car les données d'outre mer ne sont pas exhaustives sur toutes nos sources "
   ]
  },
  {
   "cell_type": "code",
   "execution_count": null,
   "id": "69285b65-636f-45ba-b8cb-d4db8d42fdd5",
   "metadata": {},
   "outputs": [],
   "source": [
    "donnees_2018 = donnees_2018[donnees_2018.index.str[:2]!='97']\n",
    "donnees_2018\n",
    "donnees_2018.describe()"
   ]
  },
  {
   "cell_type": "markdown",
   "id": "50692aee-9c10-4f74-b750-bc7f2e539f94",
   "metadata": {},
   "source": [
    "* On fait l'hypothèse d'unicité du dépôt de plainte ou de signalement en gardarmerie ou bien en commissariat, ce qui permet de sommer les crimes et délits au niveau départemental"
   ]
  },
  {
   "cell_type": "code",
   "execution_count": null,
   "id": "f08f6b9e-f8bb-440f-8c33-596cf8acd3a6",
   "metadata": {},
   "outputs": [],
   "source": [
    "donnees_2018['Total des crimes et délits relevés par la PN et GN'] = donnees_2018[['Total des crimes et délits relevés par la Police Nationale', 'Total des crimes et délits relevés par la Gendarmerie Nationale']].sum(axis=1)"
   ]
  },
  {
   "cell_type": "code",
   "execution_count": null,
   "id": "2e77e20f-81b0-4fba-9e16-f746fac09d65",
   "metadata": {},
   "outputs": [],
   "source": [
    "donnees_2018 = donnees_2018.rename(columns={\"Total des crimes et délits relevés par la Police Nationale\": \"Crim_Del_PN\", \"Total des crimes et délits relevés par la Gendarmerie Nationale\": \"Crim_Del_GN\", \"Total des crimes et délits relevés par la PN et GN\": \"Crim_Del_PN_GN\"})\n",
    "donnees_2018"
   ]
  },
  {
   "cell_type": "markdown",
   "id": "1fc833da-81ec-438e-a3fc-76252e0ddee0",
   "metadata": {},
   "source": [
    "## 9 - On créé une base de données rapportant le nombre de crimes et délits, et le nombre de boucheries pour 100 000 habitants \n"
   ]
  },
  {
   "cell_type": "code",
   "execution_count": null,
   "id": "603bae5f-2869-4a68-917c-2fe6968435dc",
   "metadata": {},
   "outputs": [],
   "source": [
    "donnees_2018_hab = donnees_2018\n",
    "donnees_2018_hab['Nb_Boucherie_dep_hab']=round(donnees_2018_hab['NbBoucheriesParDep']/donnees_2018_hab['PTOT']*100000)\n",
    "donnees_2018_hab['Crim_Del_GN_hab']=round(donnees_2018_hab['Crim_Del_GN']/donnees_2018_hab['PTOT']*100000)\n",
    "donnees_2018_hab['Crim_Del_PN_hab']=round(donnees_2018_hab['Crim_Del_PN']/donnees_2018_hab['PTOT']*100000)\n",
    "donnees_2018_hab['Crim_Del_PN_GN_hab']=round(donnees_2018_hab['Crim_Del_PN_GN']/donnees_2018_hab['PTOT']*100000)\n",
    "donnees_2018_hab.drop(['Crim_Del_PN', 'Crim_Del_GN', 'PTOT', 'NbBoucheriesParDep'], axis=1, inplace = True)\n",
    "donnees_2018_hab\n"
   ]
  },
  {
   "cell_type": "code",
   "execution_count": null,
   "id": "fbd05a5c-09e7-480d-83bb-ab9363ccecc1",
   "metadata": {},
   "outputs": [],
   "source": [
    "%store donnees_2018\n",
    "%store donnees_2018_hab"
   ]
  },
  {
   "cell_type": "code",
   "execution_count": null,
   "id": "75bd8787-3eb7-4403-b4f8-709cb7382f91",
   "metadata": {},
   "outputs": [],
   "source": []
  },
  {
   "cell_type": "code",
   "execution_count": null,
   "id": "d1b565ef-dd73-45c9-bde6-d486fad156f4",
   "metadata": {},
   "outputs": [],
   "source": [
    "import re\n",
    "from bs4 import BeautifulSoup\n",
    "import time\n",
    "headers = {\n",
    "    'user-agent': 'Mozilla/5.0 (X11; Linux x86_64) AppleWebKit/537.36 (KHTML, like Gecko) Chrome/67.0.3396.99 Safari/537.36'\n",
    "}\n",
    "\n",
    "url=\"https://www.ville-ideale.fr/villespardepts.php\"\n",
    "url_cherche=\"https://www.ville-ideale.fr/scripts/cherche.php\"\n",
    "base_url=\"https://www.ville-ideale.fr\"\n",
    "s = requests.session()\n",
    "r=s.get(url,headers=headers)\n",
    "print(r)\n",
    "print(r.text)\n",
    "time.sleep(1)\n",
    "\n",
    "liste_departement=re.findall(r'affdept\\(\\'(\\d+)\\',',r.text)\n",
    "for _, numdep in enumerate(liste_departement):\n",
    "    r=s.post(url_cherche,data={'dept': numdep},headers=headers)\n",
    "    print(r)\n",
    "    soup = BeautifulSoup(r.text, 'html.parser')\n",
    "    for link in soup.find_all('a'):\n",
    "        time.sleep(1)\n",
    "        print(link.get('href'))\n",
    "        r=s.get(base_url+link.get('href'),headers=headers)\n",
    "        print(r)\n",
    "        soup = BeautifulSoup(r.text, 'html.parser')\n",
    "        print(soup.find(id=\"tablonotes\").findAll(\"tr\"))\n",
    "        print(type(soup.find(id=\"tablonotes\").findAll(\"tr\")))\n",
    "        liste_tr_securite=[tr.text for tr in list(soup.find(id=\"tablonotes\").findAll(\"tr\")) if \"Sécurité\" in tr.text ]\n",
    "        if liste_tr_securite:\n",
    "            note_securite=re.findall(r'\\d+', liste_tr_securite[0])\n",
    "            print('.'.join(note_securite))\n",
    "        break\n",
    "    break"
   ]
  },
  {
   "cell_type": "code",
   "execution_count": null,
   "id": "23f6ad80-923c-459b-8185-b136bfcc77c9",
   "metadata": {},
   "outputs": [],
   "source": [
    "!pip install lxml\n",
    "from lxml.html import fromstring\n",
    "import requests\n",
    "from itertools import cycle\n",
    "import traceback\n",
    "def get_proxies():\n",
    "    url = 'https://free-proxy-list.net/'\n",
    "    response = requests.get(url)\n",
    "    parser = fromstring(response.text)\n",
    "    proxies = set()\n",
    "    for i in parser.xpath('//tbody/tr'):\n",
    "        if i.xpath('.//td[7][contains(text(),\"yes\")]') and  i.xpath('.//td[5][contains(text(),\"elite proxy\")]'):\n",
    "            proxy = \":\".join([i.xpath('.//td[1]/text()')[0], i.xpath('.//td[2]/text()')[0]])\n",
    "            proxies.add(proxy)\n",
    "    return proxies\n",
    "\n",
    "proxies = get_proxies()\n",
    "print(proxies)\n",
    "proxy_pool = cycle(proxies)\n",
    "url = 'https://www.ville-ideale.fr'\n",
    "\n",
    "bool_continue=True\n",
    "i=0\n",
    "while bool_continue and i <10:\n",
    "#Get a proxy from the pool\n",
    "    i+=1\n",
    "    proxy = next(proxy_pool)\n",
    "    print(\"Request #%d\"%i)\n",
    "    try:\n",
    "        s = requests.Session()\n",
    "        s.proxies = {\"http\": proxy, \"https\": proxy}\n",
    "        response = s.get(url)\n",
    "        print(response.json())\n",
    "        bool_continue=False\n",
    "    except:\n",
    "        #Most free proxies will often get connection errors. You will have retry the entire request using another proxy to work. \n",
    "        #We will just skip retries as its beyond the scope of this tutorial and we are only downloading a single url \n",
    "        print(\"Skipping. Connnection error\")"
   ]
  },
  {
   "cell_type": "code",
   "execution_count": null,
   "id": "c9d1fae2-c4fc-4ff6-9b2c-620892c309f0",
   "metadata": {},
   "outputs": [],
   "source": []
  }
 ],
 "metadata": {
  "kernelspec": {
   "display_name": "Python 3 (ipykernel)",
   "language": "python",
   "name": "python3"
  },
  "language_info": {
   "codemirror_mode": {
    "name": "ipython",
    "version": 3
   },
   "file_extension": ".py",
   "mimetype": "text/x-python",
   "name": "python",
   "nbconvert_exporter": "python",
   "pygments_lexer": "ipython3",
   "version": "3.9.7"
  }
 },
 "nbformat": 4,
 "nbformat_minor": 5
}
