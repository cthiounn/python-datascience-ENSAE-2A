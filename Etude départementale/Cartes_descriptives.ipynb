{
 "cells": [
  {
   "cell_type": "code",
   "execution_count": null,
   "id": "7330c184-aafe-4c6a-b6c1-343d76fd34ed",
   "metadata": {},
   "outputs": [],
   "source": [
    "!pip install geopandas"
   ]
  },
  {
   "cell_type": "code",
   "execution_count": null,
   "id": "619718e6-a77f-4ab9-8831-d98c25fcfb30",
   "metadata": {},
   "outputs": [],
   "source": [
    "# import seaborn as sns\n",
    "import matplotlib.pyplot as plt\n",
    "import geopandas as gpd\n",
    "# import contextily as ctx\n",
    "# import requests\n",
    "# import tempfile\n",
    "# import zipfile\n",
    "\n"
   ]
  },
  {
   "cell_type": "markdown",
   "id": "33bab6a2-879d-41da-b881-a03386d0c9fa",
   "metadata": {},
   "source": [
    "## 1) Chargement des données (Récup_données) et téléchargement de la localisation des départements français (restreint au champ métropolitain puis champ Ile de France)"
   ]
  },
  {
   "cell_type": "code",
   "execution_count": null,
   "id": "572dfbf0-4b2a-4134-a250-16aa618d9a3a",
   "metadata": {},
   "outputs": [],
   "source": [
    "%store -r donnees_2018_hab\n",
    "donnees_2018_hab"
   ]
  },
  {
   "cell_type": "code",
   "execution_count": null,
   "id": "d42503ee-76cc-4d01-8daa-a46626172dfc",
   "metadata": {},
   "outputs": [],
   "source": [
    "url_dep = 'https://www.data.gouv.fr/fr/datasets/r/90b9341a-e1f7-4d75-a73c-bbc010c7feeb'\n",
    "departements = gpd.read_file(url_dep)\n",
    "departements = departements.set_index(\"code\")\n",
    "departements.drop(['nom'], axis=1, inplace = True)\n",
    "departements\n"
   ]
  },
  {
   "cell_type": "code",
   "execution_count": null,
   "id": "9000a38d-afc5-43c6-82c7-3dc6bca43892",
   "metadata": {},
   "outputs": [],
   "source": [
    "#Restriction au champ IDF pour une sous-carte\n",
    "departements_idf = departements.loc[departements.index.isin(['75','77','78','91','92','93','94','95'])]\n",
    "departements_idf"
   ]
  },
  {
   "cell_type": "markdown",
   "id": "cc91a433-269d-4527-857e-b03926d94fdb",
   "metadata": {},
   "source": [
    "## 2) Sélection des items que l'on souhaite représenter (au champ métropolitain puis IDF) "
   ]
  },
  {
   "cell_type": "code",
   "execution_count": null,
   "id": "50268101-f509-45f5-be5d-058c2a0dc64d",
   "metadata": {},
   "outputs": [],
   "source": [
    "donnees_2018_hab.index.names = ['CODDEP']\n",
    "donnees_2018_hab.describe()"
   ]
  },
  {
   "cell_type": "code",
   "execution_count": null,
   "id": "764608e5-6070-4e9a-8fa9-4396df7abede",
   "metadata": {},
   "outputs": [],
   "source": [
    "donnees_2018_hab_pauvrete = donnees_2018_hab.drop(['REG','MED18','D118','D918','RD18','T1_2018','Nb_PN_GN_dep_100k_hab','Crim_Del_PN_GN','Nb_Boucherie_dep_hab','Crim_Del_GN_hab','Crim_Del_PN_hab','Crim_Del_PN_GN_hab'], axis=1)\n",
    "donnees_2018_hab_pauvrete"
   ]
  },
  {
   "cell_type": "code",
   "execution_count": null,
   "id": "33573105-295b-451b-8c7f-3475e4c57898",
   "metadata": {},
   "outputs": [],
   "source": [
    "donnees_2018_hab_rev_median = donnees_2018_hab.drop(['REG','TP6018','D118','D918','RD18','T1_2018','Nb_PN_GN_dep_100k_hab','Crim_Del_PN_GN','Nb_Boucherie_dep_hab','Crim_Del_GN_hab','Crim_Del_PN_hab','Crim_Del_PN_GN_hab'], axis=1)\n",
    "donnees_2018_hab_rev_median"
   ]
  },
  {
   "cell_type": "code",
   "execution_count": null,
   "id": "72b1a7d4-4273-4780-88cf-0eb691a5c592",
   "metadata": {},
   "outputs": [],
   "source": [
    "donnees_2018_hab_ratio_d1_d9 = donnees_2018_hab.drop(['REG','TP6018','D118','D918','MED18','T1_2018','Nb_PN_GN_dep_100k_hab','Crim_Del_PN_GN','Nb_Boucherie_dep_hab','Crim_Del_GN_hab','Crim_Del_PN_hab','Crim_Del_PN_GN_hab'], axis=1)\n",
    "donnees_2018_hab_ratio_d1_d9"
   ]
  },
  {
   "cell_type": "code",
   "execution_count": null,
   "id": "599bbe84-f622-44f7-b88c-e57c8b7d7a1d",
   "metadata": {},
   "outputs": [],
   "source": [
    "donnees_2018_hab_chomage = donnees_2018_hab.drop(['REG','TP6018','D118','D918','MED18','RD18','Nb_PN_GN_dep_100k_hab','Crim_Del_PN_GN','Nb_Boucherie_dep_hab','Crim_Del_GN_hab','Crim_Del_PN_hab','Crim_Del_PN_GN_hab'], axis=1)\n",
    "donnees_2018_hab_chomage"
   ]
  },
  {
   "cell_type": "code",
   "execution_count": null,
   "id": "68dbdbc0-11a7-49df-9261-b89054cad00e",
   "metadata": {},
   "outputs": [],
   "source": [
    "donnees_2018_hab_boucherie = donnees_2018_hab.drop(['REG','TP6018','D118','D918','MED18','RD18','Nb_PN_GN_dep_100k_hab','Crim_Del_PN_GN','T1_2018','Crim_Del_GN_hab','Crim_Del_PN_hab','Crim_Del_PN_GN_hab'], axis=1)\n",
    "donnees_2018_hab_boucherie"
   ]
  },
  {
   "cell_type": "code",
   "execution_count": null,
   "id": "94fa5371-3d7e-4fa5-84ac-148125e8dd91",
   "metadata": {},
   "outputs": [],
   "source": [
    "donnees_2018_hab_nb_pn_gn = donnees_2018_hab.drop(['REG','TP6018','D118','D918','MED18','RD18','Nb_Boucherie_dep_hab','Crim_Del_PN_GN','T1_2018','Crim_Del_GN_hab','Crim_Del_PN_hab','Nb_Boucherie_dep_hab', 'Crim_Del_PN_GN_hab'], axis=1)\n",
    "donnees_2018_hab_nb_pn_gn"
   ]
  },
  {
   "cell_type": "code",
   "execution_count": null,
   "id": "499ef1f4-5d96-4b21-9b24-942e248ef452",
   "metadata": {},
   "outputs": [],
   "source": [
    "donnees_2018_hab_nb_crimes_delits = donnees_2018_hab.drop(['REG','TP6018','D118','D918','MED18','RD18','Nb_PN_GN_dep_100k_hab','Crim_Del_PN_GN','T1_2018','Crim_Del_GN_hab','Crim_Del_PN_hab','Nb_Boucherie_dep_hab'], axis=1)\n",
    "donnees_2018_hab_nb_crimes_delits"
   ]
  },
  {
   "cell_type": "code",
   "execution_count": null,
   "id": "3ac99016-b98b-4e22-ba6b-c0fdce861af9",
   "metadata": {},
   "outputs": [],
   "source": [
    "donnees_2018_hab_crimes_delits = donnees_2018_hab.drop(['REG','TP6018','D118','D918','MED18','RD18','Nb_PN_GN_dep_100k_hab','Crim_Del_PN_GN','T1_2018','Crim_Del_GN_hab','Crim_Del_PN_hab','Nb_Boucherie_dep_hab'], axis=1)\n",
    "donnees_2018_hab_crimes_delits"
   ]
  },
  {
   "cell_type": "code",
   "execution_count": null,
   "id": "63326b20-df78-435e-b04c-1b7b63331da9",
   "metadata": {},
   "outputs": [],
   "source": [
    "carto_pauvrete=departements.merge(donnees_2018_hab_pauvrete,left_index=True,right_index=True)\n",
    "carto_pauvrete"
   ]
  },
  {
   "cell_type": "code",
   "execution_count": null,
   "id": "0e60826c-4e9f-4b80-902e-9a9e28a9c768",
   "metadata": {},
   "outputs": [],
   "source": [
    "carto_rev_median=departements.merge(donnees_2018_hab_rev_median,left_index=True,right_index=True)\n",
    "carto_rev_median"
   ]
  },
  {
   "cell_type": "code",
   "execution_count": null,
   "id": "a0230e7d-6708-4617-94d1-f984974307ef",
   "metadata": {},
   "outputs": [],
   "source": [
    "carto_ratio_d1_d9=departements.merge(donnees_2018_hab_ratio_d1_d9,left_index=True,right_index=True)\n",
    "carto_ratio_d1_d9"
   ]
  },
  {
   "cell_type": "code",
   "execution_count": null,
   "id": "773e2226-e03b-44c8-92f9-aa4e8374a33d",
   "metadata": {},
   "outputs": [],
   "source": [
    "carto_chomage=departements.merge(donnees_2018_hab_chomage,left_index=True,right_index=True)\n",
    "carto_chomage"
   ]
  },
  {
   "cell_type": "code",
   "execution_count": null,
   "id": "ff8d5340-cb5d-443f-b8c9-d7647b9d18a1",
   "metadata": {},
   "outputs": [],
   "source": [
    "carto_boucherie=departements.merge(donnees_2018_hab_boucherie,left_index=True,right_index=True)\n",
    "carto_ratio_d1_d9"
   ]
  },
  {
   "cell_type": "code",
   "execution_count": null,
   "id": "6bdf3039-f338-471b-8266-04d7e4ee748d",
   "metadata": {},
   "outputs": [],
   "source": [
    "carto_nb_pn_gn=departements.merge(donnees_2018_hab_nb_pn_gn,left_index=True,right_index=True)\n",
    "carto_nb_pn_gn"
   ]
  },
  {
   "cell_type": "code",
   "execution_count": null,
   "id": "07da1bff-4d97-46c1-bf55-c721c7095703",
   "metadata": {},
   "outputs": [],
   "source": [
    "carto_crimes_delits=departements.merge(donnees_2018_hab_crimes_delits,left_index=True,right_index=True)\n",
    "carto_crimes_delits"
   ]
  },
  {
   "cell_type": "code",
   "execution_count": null,
   "id": "97f2179e-d1cf-402e-b400-343d50329be4",
   "metadata": {},
   "outputs": [],
   "source": [
    "#Restriction au champ IDF pour une sous-carte\n",
    "carto_pauvrete_idf = carto_pauvrete.loc[carto_pauvrete.index.isin(['75','77','78','91','92','93','94','95'])]\n",
    "carto_pauvrete_idf"
   ]
  },
  {
   "cell_type": "code",
   "execution_count": null,
   "id": "f2f6b075-051a-41cd-8530-bd3d6a4ea7a9",
   "metadata": {},
   "outputs": [],
   "source": [
    "carto_rev_median_idf = carto_rev_median.loc[carto_rev_median.index.isin(['75','77','78','91','92','93','94','95'])]\n",
    "carto_rev_median_idf"
   ]
  },
  {
   "cell_type": "code",
   "execution_count": null,
   "id": "1e6cb86b-58e6-48a4-94a5-b6e725fdb516",
   "metadata": {},
   "outputs": [],
   "source": [
    "carto_ratio_d1_d9_idf = carto_ratio_d1_d9.loc[carto_ratio_d1_d9.index.isin(['75','77','78','91','92','93','94','95'])]\n",
    "carto_ratio_d1_d9_idf"
   ]
  },
  {
   "cell_type": "code",
   "execution_count": null,
   "id": "d46fa957-bf8f-4b79-ad18-25345a9650f3",
   "metadata": {},
   "outputs": [],
   "source": [
    "carto_chomage_idf = carto_chomage.loc[carto_chomage.index.isin(['75','77','78','91','92','93','94','95'])]\n",
    "carto_chomage_idf"
   ]
  },
  {
   "cell_type": "code",
   "execution_count": null,
   "id": "7278a6f9-ef99-47bb-8fb0-2fb73b052096",
   "metadata": {},
   "outputs": [],
   "source": [
    "carto_boucherie_idf = carto_boucherie.loc[carto_boucherie.index.isin(['75','77','78','91','92','93','94','95'])]\n",
    "carto_boucherie_idf"
   ]
  },
  {
   "cell_type": "code",
   "execution_count": null,
   "id": "2cbd4c41-2f4d-41ee-b59d-85421853670c",
   "metadata": {},
   "outputs": [],
   "source": [
    "carto_nb_pn_gn_idf = carto_nb_pn_gn.loc[carto_nb_pn_gn.index.isin(['75','77','78','91','92','93','94','95'])]\n",
    "carto_nb_pn_gn_idf"
   ]
  },
  {
   "cell_type": "code",
   "execution_count": null,
   "id": "89ca259c-119c-4a14-bedc-cb4ab3043f6c",
   "metadata": {},
   "outputs": [],
   "source": [
    "carto_crimes_delits_idf = carto_crimes_delits.loc[carto_crimes_delits.index.isin(['75','77','78','91','92','93','94','95'])]\n",
    "carto_crimes_delits_idf"
   ]
  },
  {
   "cell_type": "markdown",
   "id": "bc7af9bf-e38b-46f8-b26a-0ced8a3fb554",
   "metadata": {},
   "source": [
    "## 3) Représentation cartographique cloropèthe (au champ France Métropolitaine puis champ Ile de France) "
   ]
  },
  {
   "cell_type": "markdown",
   "id": "d1ece178-62b7-4acc-a93d-df1fb5e79ae6",
   "metadata": {},
   "source": [
    "* Taux de pauvreté monétaire"
   ]
  },
  {
   "cell_type": "code",
   "execution_count": null,
   "id": "1a2ed929-2b3d-4358-b5b0-0a99f63eeae0",
   "metadata": {},
   "outputs": [],
   "source": [
    "\n",
    "fig, ax = plt.subplots(figsize=(10,10))\n",
    "\n",
    "departements.plot(color='gray', ax=ax)\n",
    "carto_pauvrete.plot(column='TP6018', \n",
    "                    cmap='Purples', \n",
    "                    linewidth=0.5, \n",
    "                    edgecolor='black',\n",
    "                    ax=ax, \n",
    "                    legend=True,\n",
    "                    legend_kwds={'label': 'Taux de pauvreté monétaire (au seuil de 60% du niveau de vie médian)', 'orientation': \"horizontal\"})\n",
    "ax.set_axis_off()"
   ]
  },
  {
   "cell_type": "code",
   "execution_count": null,
   "id": "2a49923f-f84d-4136-b99e-2f3ce6dbbebe",
   "metadata": {},
   "outputs": [],
   "source": [
    "\n",
    "fig, ax = plt.subplots(figsize=(10,10))\n",
    "\n",
    "departements_idf.plot(color='gray', ax=ax)\n",
    "carto_pauvrete_idf.plot(column='TP6018', \n",
    "                    cmap='Purples', \n",
    "                    linewidth=0.5, \n",
    "                    edgecolor='black',\n",
    "                    ax=ax, \n",
    "                    legend=True,\n",
    "                    legend_kwds={'label': 'Taux de pauvreté monétaire (au seuil de 60% du niveau de vie médian)', 'orientation': \"horizontal\"})\n",
    "ax.set_axis_off()"
   ]
  },
  {
   "cell_type": "markdown",
   "id": "77a24ec5-78d2-4b32-9241-7af3ddc79732",
   "metadata": {},
   "source": [
    "* Niveau de vie médian"
   ]
  },
  {
   "cell_type": "code",
   "execution_count": null,
   "id": "5dee0081-466b-4351-9678-54bf5f55170a",
   "metadata": {},
   "outputs": [],
   "source": [
    "fig, ax = plt.subplots(figsize=(10,10))\n",
    "\n",
    "departements.plot(color='gray', ax=ax)\n",
    "carto_rev_median.plot(column='MED18', \n",
    "                    cmap='Oranges', \n",
    "                    linewidth=0.5, \n",
    "                    edgecolor='black',\n",
    "                    ax=ax, \n",
    "                    legend=True,\n",
    "                    legend_kwds={'label': 'Niveau de vie médian (en euros)', 'orientation': \"horizontal\"})\n",
    "ax.set_axis_off()"
   ]
  },
  {
   "cell_type": "code",
   "execution_count": null,
   "id": "036fe512-39ff-4e90-9e47-b2070f3152ab",
   "metadata": {},
   "outputs": [],
   "source": [
    "fig, ax = plt.subplots(figsize=(10,10))\n",
    "\n",
    "departements_idf.plot(color='gray', ax=ax)\n",
    "carto_rev_median_idf.plot(column='MED18', \n",
    "                    cmap='Oranges', \n",
    "                    linewidth=0.5, \n",
    "                    edgecolor='black',\n",
    "                    ax=ax, \n",
    "                    legend=True,\n",
    "                    legend_kwds={'label': 'Niveau de vie médian (en euros)', 'orientation': \"horizontal\"})\n",
    "ax.set_axis_off()"
   ]
  },
  {
   "cell_type": "markdown",
   "id": "3e34f55f-37db-47e0-a302-cb4f50eca19e",
   "metadata": {},
   "source": [
    "* Ratio inter-décile de niveau de vie "
   ]
  },
  {
   "cell_type": "code",
   "execution_count": null,
   "id": "ff0842b7-836e-4f11-a956-09830353112c",
   "metadata": {},
   "outputs": [],
   "source": [
    "fig, ax = plt.subplots(figsize=(10,10))\n",
    "\n",
    "departements.plot(color='gray', ax=ax)\n",
    "carto_ratio_d1_d9.plot(column='RD18', \n",
    "                    cmap='RdPu', \n",
    "                    linewidth=0.5, \n",
    "                    edgecolor='black',\n",
    "                    ax=ax, \n",
    "                    legend=True,\n",
    "                    legend_kwds={'label': 'Ratio inter-décile de niveau de vie', 'orientation': \"horizontal\"})\n",
    "ax.set_axis_off()"
   ]
  },
  {
   "cell_type": "code",
   "execution_count": null,
   "id": "84e00b79-0ebe-4d02-a984-0f72ea82049b",
   "metadata": {},
   "outputs": [],
   "source": [
    "fig, ax = plt.subplots(figsize=(10,10))\n",
    "\n",
    "departements_idf.plot(color='gray', ax=ax)\n",
    "carto_ratio_d1_d9_idf.plot(column='RD18', \n",
    "                    cmap='RdPu', \n",
    "                    linewidth=0.5, \n",
    "                    edgecolor='black',\n",
    "                    ax=ax, \n",
    "                    legend=True,\n",
    "                    legend_kwds={'label': 'Ratio inter-décile de niveau de vie', 'orientation': \"horizontal\"})\n",
    "ax.set_axis_off()"
   ]
  },
  {
   "cell_type": "markdown",
   "id": "871afe0f-2ba8-4b9a-96c8-e5c1ebcda413",
   "metadata": {},
   "source": [
    "* Taux de chômage localisé"
   ]
  },
  {
   "cell_type": "code",
   "execution_count": null,
   "id": "cd6ff79c-ce71-4001-a54b-6f18798aaa27",
   "metadata": {},
   "outputs": [],
   "source": [
    "fig, ax = plt.subplots(figsize=(10,10))\n",
    "\n",
    "departements.plot(color='gray', ax=ax)\n",
    "carto_chomage.plot(column='T1_2018', \n",
    "                    cmap='Greens', \n",
    "                    linewidth=0.5, \n",
    "                    edgecolor='black',\n",
    "                    ax=ax, \n",
    "                    legend=True,\n",
    "                    legend_kwds={'label': 'Taux de chômage localisé (en pourcentage)', 'orientation': \"horizontal\"})\n",
    "ax.set_axis_off()"
   ]
  },
  {
   "cell_type": "code",
   "execution_count": null,
   "id": "ac32e849-b3dd-4c60-be03-08275d78c118",
   "metadata": {},
   "outputs": [],
   "source": [
    "fig, ax = plt.subplots(figsize=(10,10))\n",
    "\n",
    "departements_idf.plot(color='gray', ax=ax)\n",
    "carto_chomage_idf.plot(column='T1_2018', \n",
    "                    cmap='Greens', \n",
    "                    linewidth=0.5, \n",
    "                    edgecolor='black',\n",
    "                    ax=ax, \n",
    "                    legend=True,\n",
    "                    legend_kwds={'label': 'Taux de chômage localisé (en pourcentage)', 'orientation': \"horizontal\"})\n",
    "ax.set_axis_off()"
   ]
  },
  {
   "cell_type": "markdown",
   "id": "ed7ac896-372b-4d3d-905c-b5beb63d8c74",
   "metadata": {},
   "source": [
    "* Nombre de boucheries pour 100k habitants"
   ]
  },
  {
   "cell_type": "code",
   "execution_count": null,
   "id": "66f00e7d-af1b-4bd0-ab93-b50a0a539d14",
   "metadata": {},
   "outputs": [],
   "source": [
    "fig, ax = plt.subplots(figsize=(10,10))\n",
    "\n",
    "departements.plot(color='gray', ax=ax)\n",
    "carto_boucherie.plot(column='Nb_Boucherie_dep_hab', \n",
    "                    cmap='Reds', \n",
    "                    linewidth=0.5, \n",
    "                    edgecolor='black',\n",
    "                    ax=ax, \n",
    "                    legend=True,\n",
    "                    legend_kwds={'label': 'Nombre de boucheries-charcuteries pour 100 000 habitants', 'orientation': \"horizontal\"})\n",
    "ax.set_axis_off()"
   ]
  },
  {
   "cell_type": "code",
   "execution_count": null,
   "id": "63b2e1e1-f4cc-4780-bd0d-aac770333ee7",
   "metadata": {},
   "outputs": [],
   "source": [
    "fig, ax = plt.subplots(figsize=(10,10))\n",
    "\n",
    "departements_idf.plot(color='gray', ax=ax)\n",
    "carto_boucherie_idf.plot(column='Nb_Boucherie_dep_hab', \n",
    "                    cmap='Reds', \n",
    "                    linewidth=0.5, \n",
    "                    edgecolor='black',\n",
    "                    ax=ax, \n",
    "                    legend=True,\n",
    "                    legend_kwds={'label': 'Nombre de boucheries-charcuteries pour 100 000 habitants', 'orientation': \"horizontal\"})\n",
    "ax.set_axis_off()"
   ]
  },
  {
   "cell_type": "markdown",
   "id": "3cc1b49f-dde1-41d0-8a25-8334e47ede31",
   "metadata": {},
   "source": [
    "* Nombre de policiers et gendarmes (2019) pour 100k habitants"
   ]
  },
  {
   "cell_type": "code",
   "execution_count": null,
   "id": "ccd94f60-cc50-4b6b-95c7-62eaf0b31f8c",
   "metadata": {},
   "outputs": [],
   "source": [
    "fig, ax = plt.subplots(figsize=(10,10))\n",
    "\n",
    "departements.plot(color='gray', ax=ax)\n",
    "carto_nb_pn_gn.plot(column='Nb_PN_GN_dep_100k_hab', \n",
    "                    cmap='YlOrBr', \n",
    "                    linewidth=0.5, \n",
    "                    edgecolor='black',\n",
    "                    ax=ax, \n",
    "                    legend=True,\n",
    "                    legend_kwds={'label': 'Nombre de policiers et gendarmes (2019) pour 100 000 habitants', 'orientation': \"horizontal\"})\n",
    "ax.set_axis_off()"
   ]
  },
  {
   "cell_type": "code",
   "execution_count": null,
   "id": "d7960384-6828-423f-9f3b-8e9cb896c713",
   "metadata": {},
   "outputs": [],
   "source": [
    "fig, ax = plt.subplots(figsize=(10,10))\n",
    "\n",
    "departements_idf.plot(color='gray', ax=ax)\n",
    "carto_nb_pn_gn_idf.plot(column='Nb_PN_GN_dep_100k_hab', \n",
    "                    cmap='YlOrBr', \n",
    "                    linewidth=0.5, \n",
    "                    edgecolor='black',\n",
    "                    ax=ax, \n",
    "                    legend=True,\n",
    "                    legend_kwds={'label': 'Nombre de policiers et gendarmes (2019) pour 100 000 habitants', 'orientation': \"horizontal\"})\n",
    "ax.set_axis_off()"
   ]
  },
  {
   "cell_type": "markdown",
   "id": "3c58dde5-d89b-464e-b68a-4468aaea118a",
   "metadata": {},
   "source": [
    "* Nombre de crimes et délits répertoriés pour 100k habitants"
   ]
  },
  {
   "cell_type": "code",
   "execution_count": null,
   "id": "f1200afd-cf6c-4171-ba8b-0286bdfda666",
   "metadata": {},
   "outputs": [],
   "source": [
    "fig, ax = plt.subplots(figsize=(10,10))\n",
    "\n",
    "departements.plot(color='gray', ax=ax)\n",
    "carto_crimes_delits.plot(column='Crim_Del_PN_GN_hab', \n",
    "                    cmap='YlGnBu', \n",
    "                    linewidth=0.5, \n",
    "                    edgecolor='black',\n",
    "                    ax=ax, \n",
    "                    legend=True,\n",
    "                    legend_kwds={'label': 'Nombre de crimes et délits répertoriés pour 100 000 habitants', 'orientation': \"horizontal\"})\n",
    "ax.set_axis_off()"
   ]
  },
  {
   "cell_type": "code",
   "execution_count": null,
   "id": "d43f88aa-e56c-483a-9cdb-205866c42f26",
   "metadata": {},
   "outputs": [],
   "source": [
    "fig, ax = plt.subplots(figsize=(10,10))\n",
    "\n",
    "departements_idf.plot(color='gray', ax=ax)\n",
    "carto_crimes_delits_idf.plot(column='Crim_Del_PN_GN_hab', \n",
    "                    cmap='YlGnBu', \n",
    "                    linewidth=0.5, \n",
    "                    edgecolor='black',\n",
    "                    ax=ax, \n",
    "                    legend=True,\n",
    "                    legend_kwds={'label': 'Nombre de crimes et délits répertoriés pour 100 000 habitants', 'orientation': \"horizontal\"})\n",
    "ax.set_axis_off()"
   ]
  }
 ],
 "metadata": {
  "kernelspec": {
   "display_name": "Python 3 (ipykernel)",
   "language": "python",
   "name": "python3"
  },
  "language_info": {
   "codemirror_mode": {
    "name": "ipython",
    "version": 3
   },
   "file_extension": ".py",
   "mimetype": "text/x-python",
   "name": "python",
   "nbconvert_exporter": "python",
   "pygments_lexer": "ipython3",
   "version": "3.9.7"
  }
 },
 "nbformat": 4,
 "nbformat_minor": 5
}
