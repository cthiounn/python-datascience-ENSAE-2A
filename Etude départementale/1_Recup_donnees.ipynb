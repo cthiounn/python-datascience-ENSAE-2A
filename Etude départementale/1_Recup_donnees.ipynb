{
 "cells": [
  {
   "cell_type": "markdown",
   "id": "bb68a801-220a-4767-a8ec-5c88a669ee7b",
   "metadata": {},
   "source": [
    "# Récupération des données pour l'étude départementale"
   ]
  },
  {
   "cell_type": "markdown",
   "id": "901c5c67-e1a5-49f7-88bc-469126134e5e",
   "metadata": {},
   "source": [
    "## 1- Importation des librairies externes et classiques"
   ]
  },
  {
   "cell_type": "code",
   "execution_count": null,
   "id": "11d0bc14-7f44-452d-88c9-c19f6013dc39",
   "metadata": {},
   "outputs": [],
   "source": [
    "# Importation des librairies externes\n",
    "!pip install git+https://github.com/InseeFrLab/Py-Insee-Data@master --ignore-install PyYAML\n",
    "!pip install python-Levenshtein\n",
    "!pip install openpyxl"
   ]
  },
  {
   "cell_type": "code",
   "execution_count": null,
   "id": "0e69d87a-9dec-423c-b705-e5ad29bcff58",
   "metadata": {},
   "outputs": [],
   "source": [
    "# Importation des librairies \n",
    "import requests\n",
    "import pandas as pd\n",
    "import pynsee\n",
    "import pynsee.download\n",
    "from pynsee.sirene import *\n",
    "import time\n",
    "from tqdm import tqdm\n",
    "from pynsee.utils.init_conn import init_conn\n",
    "import os\n",
    "from zipfile import ZipFile, Path\n",
    "import io"
   ]
  },
  {
   "cell_type": "code",
   "execution_count": null,
   "id": "b3018de9-c70c-4c2b-8d68-bf36f15655cf",
   "metadata": {},
   "outputs": [],
   "source": [
    "# token API insee\n",
    "init_conn(insee_key=os.environ['INSEE_KEY'], insee_secret=os.environ['INSEE_SECRET'])"
   ]
  },
  {
   "cell_type": "markdown",
   "id": "f60315ac-16b1-4901-a013-a6125c2f51b0",
   "metadata": {},
   "source": [
    "## 2- Téléchargement des données de SIRENE"
   ]
  },
  {
   "cell_type": "code",
   "execution_count": null,
   "id": "a741a098-6c5e-427a-ba84-ae9ceaf69b4a",
   "metadata": {},
   "outputs": [],
   "source": [
    "### Téléchargement des données Sirene sur les établissements Siret de boucherie-charcuterie (code 4722Z) à l'instant T\n",
    "# Téléchargement via Insee sirene data  by sirene.fr website\n",
    "\n",
    "session = requests.session()\n",
    "URL_ACCUEIL = \"https://www.sirene.fr/sirene/public/creation-fichier\"\n",
    "URL_REQUETE_POST = \"https://www.sirene.fr/sirene/public/verifier-creation-fichier.action\"\n",
    "URL_DEVIS=\"https://www.sirene.fr/sirene/client//sirene/client/devis-demande.action\"\n",
    "\n",
    "URL_RECAP=\"https://www.sirene.fr/sirene/client/telechargement-pret-fichier.action\"\n",
    "URL_TELECHARGEMENT_POST=\"https://www.sirene.fr/sirene/client/telechargement-fichier\"\n",
    "POST_DATA={\n",
    "'fichier.caracteristiques.etat.actif': 'true',\n",
    "'__checkbox_fichier.caracteristiques.etat.actif': 'true',\n",
    "'__checkbox_fichier.caracteristiques.etat.ferme': 'true',\n",
    "'fichier.caracteristiques.typeEtablissement': '1',\n",
    "'fichier.caracteristiques.geoFile': 'false',\n",
    "'fichier.caracteristiques.cjFile': 'false',\n",
    "'fichier.caracteristiques.apeFile': 'false',\n",
    "'fichier.caracteristiques.sirenSiretFile': 'false',\n",
    "'fichiersCriteres.criteresGeographie.upload': '(binaire)',\n",
    "'__multiselect_fichier.criteres.geographie.region.modalites': '',\n",
    "'__multiselect_fichier.criteres.geographie.departement.modalites': '',\n",
    "'fichiersCriteres.criteresActivite.upload': '(binaire)',\n",
    "'__multiselect_fichier.criteres.activite.section.modalites': '',\n",
    "'__multiselect_fichier.criteres.activite.division.modalites': '',\n",
    "'__multiselect_fichier.criteres.activite.groupe.modalites': '',\n",
    "'fichier.criteres.activite.sousClasse.modalites': '4722Z',\n",
    "'__multiselect_fichier.criteres.activite.sousClasse.modalites': '',\n",
    "'fichiersCriteres.criteresNature.upload': '(binaire)',\n",
    "'__multiselect_fichier.criteres.nature.entrepriseNiveau1.modalites': '',\n",
    "'__multiselect_fichier.criteres.nature.entrepriseNiveau2.modalites': '',\n",
    "'__multiselect_fichier.criteres.nature.entrepriseNiveau3.modalites': '',\n",
    "'__multiselect_fichier.criteres.trancheEffectif.modalites': '',\n",
    "'fichier.criteres.dateCreation.date': '',\n",
    "'fichier.criteres.dateCreation.dateFin': '',\n",
    "'fichier.criteres.dateMaj.date': '',\n",
    "'fichier.criteres.dateMaj.dateFin': '',\n",
    "'fichiersCriteres.criteresSirenSiret.upload': '(binaire)',\n",
    "'__multiselect_fichier.criteres.criteresCatEnt.modalites': '',\n",
    "'strutsLocale': 'fr_FR',\n",
    "}\n",
    "\n",
    "result=session.get(URL_ACCUEIL)\n",
    "result=session.post(URL_REQUETE_POST, data=POST_DATA)\n",
    "\n",
    "\n",
    "result=session.get(URL_RECAP)\n",
    "\n",
    "result=session.get(URL_DEVIS)\n",
    "\n",
    "result=session.post(URL_TELECHARGEMENT_POST)\n",
    "\n",
    "donnees_sirene_fr=pd.read_csv(io.StringIO(result.content.decode('utf-8')),dtype=str)\n"
   ]
  },
  {
   "cell_type": "code",
   "execution_count": null,
   "id": "9b8d1595-5295-4460-a762-433c77771a52",
   "metadata": {},
   "outputs": [],
   "source": [
    "donnees_sirene_fr.shape\n",
    "donnees_sirene_fr.sample(10)"
   ]
  },
  {
   "cell_type": "markdown",
   "id": "b5eacaa2-ff42-4608-ad2b-defeebe9e0c3",
   "metadata": {},
   "source": [
    "* les données de Sirene.fr sont des données d'entreprises France entière. Pour l'étude, le nombre d'établissement par département est considéré :"
   ]
  },
  {
   "cell_type": "code",
   "execution_count": null,
   "id": "f30638f5-03b0-4158-8f23-01667c18a10e",
   "metadata": {},
   "outputs": [],
   "source": [
    "# donnees_sirene_fr_agregees_par_departement = donnees_sirene_fr.groupby().sum()"
   ]
  },
  {
   "cell_type": "markdown",
   "id": "b0c280bb-d2c2-460c-8e58-426384c0c375",
   "metadata": {},
   "source": [
    "## 3- Téléchargement des données du ministère de l'intérieur"
   ]
  },
  {
   "cell_type": "code",
   "execution_count": null,
   "id": "10ccf6f6-2731-44a3-9950-58570d19be0d",
   "metadata": {},
   "outputs": [],
   "source": [
    "#Téléchargement des données de crimes et délits rapportés déclarés auprès des commissariats \n",
    "url_datagouv_min_interieur=\"https://www.data.gouv.fr/fr/datasets/r/d792092f-b1f7-4180-a367-d043200c1520\"\n",
    "\n",
    "donnees_police_nationale_2018=pd.read_excel(url_datagouv_min_interieur, sheet_name='Services PN 2018', skiprows=[1,2])\n",
    "donnees_gendarmerie_nationale_2018=pd.read_excel(url_datagouv_min_interieur, sheet_name='Services GN 2018', skiprows=[1,2])\n"
   ]
  },
  {
   "cell_type": "code",
   "execution_count": null,
   "id": "6a6ee35b-1717-4f41-84b8-f78d3d54ab19",
   "metadata": {},
   "outputs": [],
   "source": [
    "donnees_police_nationale_2018.head(10)\n",
    "donnees_gendarmerie_nationale_2018.head(10)"
   ]
  },
  {
   "cell_type": "markdown",
   "id": "c328663b-5b21-468d-a695-87cdfbc9115a",
   "metadata": {},
   "source": [
    "* Agrégation par département, transposition et fusion :"
   ]
  },
  {
   "cell_type": "code",
   "execution_count": null,
   "id": "b0920e80-89ab-420c-baaf-ef0c2897341c",
   "metadata": {},
   "outputs": [],
   "source": [
    "# donnees_securite_interieur_agregees_par_departement = ..."
   ]
  },
  {
   "cell_type": "markdown",
   "id": "eeb9ce88-15ce-4841-a847-8b031a6fc9de",
   "metadata": {},
   "source": [
    "## 4 - Téléchargement des revenus localisés"
   ]
  },
  {
   "cell_type": "code",
   "execution_count": null,
   "id": "763ad8f9-568c-4230-ab59-373a12a95bd6",
   "metadata": {},
   "outputs": [],
   "source": [
    "#Téléchargement des données Filosofi au niveau IRIS (millénisme 2018)\n",
    "URL_FILO_DECL_2018=\"https://www.insee.fr/fr/statistiques/fichier/5055909/BASE_TD_FILO_DEC_IRIS_2018.xlsx\"\n",
    "URL_FILO_DISP_2018=\"https://www.insee.fr/fr/statistiques/fichier/5055909/BASE_TD_FILO_DISP_IRIS_2018.xlsx\"\n",
    "\n",
    "donnees_filo_decl_2018=pd.read_excel(URL_FILO_DECL_2018, sheet_name='IRIS_DEC', skiprows=5)\n",
    "donnees_filo_disp_2018=pd.read_excel(URL_FILO_DISP_2018, sheet_name='IRIS_DISP', skiprows=5)"
   ]
  },
  {
   "cell_type": "code",
   "execution_count": null,
   "id": "d58ae9b4-84cd-4620-9fe1-b2a4f89dd495",
   "metadata": {},
   "outputs": [],
   "source": [
    "print(donnees_filo_decl_2018.head(10))\n",
    "print(donnees_filo_disp_2018.head(10))"
   ]
  },
  {
   "cell_type": "code",
   "execution_count": null,
   "id": "bd738d41-698d-45a7-87bf-37bea1fdbf99",
   "metadata": {},
   "outputs": [],
   "source": [
    "URL_FILO_ZIP_2018=\"https://www.insee.fr/fr/statistiques/fichier/5009236/base-cc-filosofi-2018_CSV_geo2021.zip\"\n",
    "#Télécharger le zip de l'URL\n",
    "r=requests.get(URL_FILO_ZIP_2018)\n",
    "\n",
    "open(\"base-cc-filosofi-2018_CSV_geo2021.zip\", 'wb').write(r.content)\n",
    "    \n",
    "    \n",
    "with ZipFile(\"base-cc-filosofi-2018_CSV_geo2021.zip\",'r') as myzip:\n",
    "    data = myzip.open(\"cc_filosofi_2018_COM-geo2021.CSV\")\n",
    "    data2 = myzip.open(\"cc_filosofi_2018_DEP-geo2021.CSV\")\n",
    "    \n",
    "donnees_filo_communes_2018=pd.read_csv(data,sep=';')    \n",
    "donnees_filo_departement_2018=pd.read_csv(data2,sep=';')    "
   ]
  },
  {
   "cell_type": "code",
   "execution_count": null,
   "id": "77d14b82-a647-4d4a-adc2-12f72f0a6591",
   "metadata": {},
   "outputs": [],
   "source": [
    "donnees_filo_communes_2018.head(10)\n",
    "donnees_filo_departement_2018.head(10)"
   ]
  },
  {
   "cell_type": "markdown",
   "id": "6e58043b-be27-48a4-b480-c42487f9092b",
   "metadata": {},
   "source": [
    "## 5 - Téléchargement des populations légales"
   ]
  },
  {
   "cell_type": "code",
   "execution_count": null,
   "id": "66b2f242-fcbf-4726-8bd1-741f75ae08b7",
   "metadata": {},
   "outputs": [],
   "source": [
    "#Téléchargement des populations légales du millénisme 2018 \n",
    "URL_POP_LEG=\"https://www.insee.fr/fr/statistiques/fichier/4989724/ensemble.zip\"\n",
    "\n",
    "#Télécharger le zip de l'URL\n",
    "r=requests.get(URL_POP_LEG)\n",
    "\n",
    "open(\"ensemble.zip\", 'wb').write(r.content)\n",
    "    \n",
    "    \n",
    "with ZipFile(\"ensemble.zip\",'r') as myzip:\n",
    "    data = myzip.open(\"Departements.csv\")\n",
    "\n",
    "donnees_pop_leg_18=pd.read_csv(data,sep=';')     "
   ]
  },
  {
   "cell_type": "code",
   "execution_count": null,
   "id": "f11c80e7-f791-4a88-afb1-7b3c7b07c227",
   "metadata": {},
   "outputs": [],
   "source": [
    "donnees_pop_leg_18.sample(10)"
   ]
  },
  {
   "cell_type": "markdown",
   "id": "d7ed02fe-0489-4331-8a75-ffe1e9ba9b3b",
   "metadata": {},
   "source": [
    "## 6 - Téléchargement des données d'emplois localisés"
   ]
  },
  {
   "cell_type": "code",
   "execution_count": null,
   "id": "1c7556ce-6327-4dd7-97a8-ed7a092d08b1",
   "metadata": {},
   "outputs": [],
   "source": [
    "#Téléchargement des données d'emploi localisées\n",
    "donnees_emploi_statut_18 = pynsee.download.telechargerDonnees(\"ESTEL_T201\", date = \"2018\")\n",
    "donnees_emploi_statut_18.sample(10)\n",
    "\n",
    "donnees_emploi_sexe_18 = pynsee.download.telechargerDonnees(\"ESTEL_T202\", date = \"2018\")\n",
    "donnees_emploi_sexe_18.sample(10)\n",
    "\n",
    "\n",
    "URL_TAUX_CHOMAGE_PAR_DEP=\"https://www.insee.fr/fr/statistiques/fichier/2012804/sl_etc_2021T2.xls\"\n",
    "\n",
    "\n",
    "donnees_chomage_par_departement_series_longues=pd.read_excel(URL_TAUX_CHOMAGE_PAR_DEP, sheet_name='Département', skiprows=3)"
   ]
  },
  {
   "cell_type": "code",
   "execution_count": null,
   "id": "3eccfebb-1be0-40f3-832a-5be587b4c9ae",
   "metadata": {},
   "outputs": [],
   "source": [
    "donnees_chomage_par_departement_series_longues.head(10)"
   ]
  },
  {
   "cell_type": "markdown",
   "id": "2125ac71-084e-408b-8cf7-d971fe9eae07",
   "metadata": {},
   "source": [
    "## 7 - Téléchargement du Code Officiel Géographique"
   ]
  },
  {
   "cell_type": "markdown",
   "id": "db7ca089-6d83-4dac-a9c6-14b2940b4ed6",
   "metadata": {},
   "source": [
    "* Pour des raisons de simplicité, nous travaillons en géographie 2021 :"
   ]
  },
  {
   "cell_type": "code",
   "execution_count": null,
   "id": "a5ad48ac-276b-432e-a4b7-cd43ca84eae2",
   "metadata": {},
   "outputs": [],
   "source": [
    "#cog_commune = pynsee.download.telechargerDonnees(\"COG_COMMUNE\", date = \"dernier\")\n",
    "URL_COG_2021=\"https://www.insee.fr/fr/statistiques/fichier/5057840/commune2021-csv.zip\"\n",
    "\n",
    "#Télécharger le zip de l'URL\n",
    "r=requests.get(URL_COG_2021)\n",
    "\n",
    "open(\"commune2021-csv.zip\", 'wb').write(r.content)\n",
    "    \n",
    "    \n",
    "with ZipFile(\"commune2021-csv.zip\",'r') as myzip:\n",
    "    data = myzip.open(\"commune2021.csv\")\n",
    "\n",
    "donnees_cog_2021=pd.read_csv(data)     "
   ]
  },
  {
   "cell_type": "code",
   "execution_count": null,
   "id": "f95703aa-f02d-4352-9737-601617cf5bff",
   "metadata": {},
   "outputs": [],
   "source": [
    "donnees_cog_2021"
   ]
  },
  {
   "cell_type": "markdown",
   "id": "977ec9d8-0a72-40b3-a90e-636d3b4fef46",
   "metadata": {},
   "source": [
    "## 8 - Fusion des données"
   ]
  },
  {
   "cell_type": "code",
   "execution_count": null,
   "id": "1a181b85-ac18-4c3f-a5d8-03968d542a91",
   "metadata": {},
   "outputs": [],
   "source": [
    "# donnees_2018=join()"
   ]
  }
 ],
 "metadata": {
  "kernelspec": {
   "display_name": "Python 3 (ipykernel)",
   "language": "python",
   "name": "python3"
  },
  "language_info": {
   "codemirror_mode": {
    "name": "ipython",
    "version": 3
   },
   "file_extension": ".py",
   "mimetype": "text/x-python",
   "name": "python",
   "nbconvert_exporter": "python",
   "pygments_lexer": "ipython3",
   "version": "3.9.7"
  }
 },
 "nbformat": 4,
 "nbformat_minor": 5
}
