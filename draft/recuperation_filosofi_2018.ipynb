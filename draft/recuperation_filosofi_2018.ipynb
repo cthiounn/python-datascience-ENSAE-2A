{
 "cells": [
  {
   "cell_type": "code",
   "execution_count": null,
   "id": "ab8934f5-779f-477e-899a-bda60c9d8ce5",
   "metadata": {},
   "outputs": [
    {
     "name": "stdout",
     "output_type": "stream",
     "text": [
      "Requirement already satisfied: openpyxl in /opt/conda/lib/python3.9/site-packages (3.0.9)\n",
      "Requirement already satisfied: et-xmlfile in /opt/conda/lib/python3.9/site-packages (from openpyxl) (1.1.0)\n"
     ]
    }
   ],
   "source": [
    "!pip install openpyxl\n",
    "import pandas as pd\n",
    "\n",
    "URL_FILO_DECL_2018=\"https://www.insee.fr/fr/statistiques/fichier/5055909/BASE_TD_FILO_DEC_IRIS_2018.xlsx\"\n",
    "URL_FILO_DISP_2018=\"https://www.insee.fr/fr/statistiques/fichier/5055909/BASE_TD_FILO_DISP_IRIS_2018.xlsx\"\n",
    "\n",
    "donnees_filo_decl_2018=pd.read_excel(URL_FILO_DECL_2018, sheet_name='IRIS_DEC', skiprows=5)\n",
    "donnees_filo_disp_2018=pd.read_excel(URL_FILO_DISP_2018, sheet_name='IRIS_DISP', skiprows=5)\n"
   ]
  },
  {
   "cell_type": "code",
   "execution_count": null,
   "id": "9cf1d1f2-20e0-4335-9d4f-c9a230b251c5",
   "metadata": {},
   "outputs": [],
   "source": [
    "# Vérification du bon nombre de skiprows\n",
    "donnees_filo_decl_2018"
   ]
  },
  {
   "cell_type": "code",
   "execution_count": null,
   "id": "97f7fc96-dfc8-4e92-b91c-9f8585b635e2",
   "metadata": {},
   "outputs": [],
   "source": [
    "# Vérification du bon nombre de skiprows\n",
    "donnees_filo_disp_2018"
   ]
  },
  {
   "cell_type": "code",
   "execution_count": null,
   "id": "305f869a-3a62-4e1f-9574-8684866e9208",
   "metadata": {},
   "outputs": [],
   "source": []
  }
 ],
 "metadata": {
  "kernelspec": {
   "display_name": "Python 3 (ipykernel)",
   "language": "python",
   "name": "python3"
  },
  "language_info": {
   "codemirror_mode": {
    "name": "ipython",
    "version": 3
   },
   "file_extension": ".py",
   "mimetype": "text/x-python",
   "name": "python",
   "nbconvert_exporter": "python",
   "pygments_lexer": "ipython3",
   "version": "3.9.7"
  }
 },
 "nbformat": 4,
 "nbformat_minor": 5
}
