{
 "cells": [
  {
   "cell_type": "markdown",
   "id": "503ba2ba-4896-4042-a323-1a5edfd27aa7",
   "metadata": {},
   "source": [
    "# Chapitre 2 - Visualisation et Analyse descriptive des données départementales"
   ]
  },
  {
   "cell_type": "code",
   "execution_count": null,
   "id": "bc5f8888-9e81-4b9c-9e34-7cc1e2ab3f58",
   "metadata": {},
   "outputs": [],
   "source": [
    "# Paramètre(s) du notebook\n",
    "\n",
    "# VERBOSE=True\n",
    "VERBOSE=False\n",
    "\n",
    "OPTIONS=\"\"\n",
    "if not VERBOSE:\n",
    "    OPTIONS=\"--quiet\"\n"
   ]
  },
  {
   "cell_type": "code",
   "execution_count": null,
   "id": "a2d3ffe1-32e3-4125-a965-78e594f0329b",
   "metadata": {},
   "outputs": [],
   "source": [
    "def asciiprint(variable,desc):\n",
    "    print(\"-\"*100)\n",
    "    print(variable,\":\",desc)\n",
    "    print(\"-\"*100)"
   ]
  },
  {
   "cell_type": "code",
   "execution_count": null,
   "id": "fda9ab8e-f373-4053-945a-3324cd1794ee",
   "metadata": {},
   "outputs": [],
   "source": [
    "def showgraph(departements,df,dep_idf,df_idf,var,color,label):\n",
    "    asciiprint(var,label)\n",
    "    fig, ax = plt.subplots(figsize=(10,10))\n",
    "\n",
    "    departements.plot(color='gray', ax=ax)\n",
    "    df.plot(column=var, \n",
    "                        cmap=color, \n",
    "                        linewidth=0.5, \n",
    "                        edgecolor='black',\n",
    "                        ax=ax, \n",
    "                        legend=True,\n",
    "                        legend_kwds={'label': label, 'orientation': \"horizontal\"})\n",
    "    ax.set_axis_off()\n",
    "    \n",
    "    fig, ax = plt.subplots(figsize=(10,10))\n",
    "\n",
    "    dep_idf.plot(color='gray', ax=ax)\n",
    "    df_idf.plot(column=var, \n",
    "                        cmap=color, \n",
    "                        linewidth=0.5, \n",
    "                        edgecolor='black',\n",
    "                        ax=ax, \n",
    "                        legend=True,\n",
    "                        legend_kwds={'label': label, 'orientation': \"horizontal\"})\n",
    "    ax.set_axis_off()"
   ]
  },
  {
   "cell_type": "code",
   "execution_count": null,
   "id": "7330c184-aafe-4c6a-b6c1-343d76fd34ed",
   "metadata": {},
   "outputs": [],
   "source": [
    "!pip install geopandas $OPTIONS\n",
    "!pip install plotly $OPTIONS\n",
    "!pip install seaborn $OPTIONS\n",
    "!pip install missingno $OPTIONS\n",
    "!pip install prince $OPTIONS"
   ]
  },
  {
   "cell_type": "code",
   "execution_count": null,
   "id": "619718e6-a77f-4ab9-8831-d98c25fcfb30",
   "metadata": {},
   "outputs": [],
   "source": [
    "#Datascience/Math manipulation libraries\n",
    "import pandas as pd\n",
    "import numpy as np\n",
    "\n",
    "#Dataviz libraries\n",
    "import matplotlib.pyplot as plt\n",
    "import geopandas as gpd\n",
    "import seaborn as sns\n",
    "import plotly.express as px\n",
    "from IPython.core.display import display, HTML\n",
    "import missingno as msno\n",
    "\n",
    "# non supervised ML libraries\n",
    "from sklearn.cluster import KMeans\n",
    "from sklearn.decomposition import PCA\n",
    "import scipy.cluster.hierarchy as shc\n",
    "from scipy.cluster.hierarchy import dendrogram,linkage\n",
    "import prince"
   ]
  },
  {
   "cell_type": "code",
   "execution_count": null,
   "id": "c105f06a-f4b8-4995-856b-277efae66a2e",
   "metadata": {},
   "outputs": [],
   "source": [
    "DEPARTEMENTS_IDF=['75','77','78','91','92','93','94','95']"
   ]
  },
  {
   "cell_type": "markdown",
   "id": "33bab6a2-879d-41da-b881-a03386d0c9fa",
   "metadata": {},
   "source": [
    "## 1) Chargement des données (Récup_données) et téléchargement de la localisation des départements français (restreint au champ métropolitain puis champ Ile de France)"
   ]
  },
  {
   "cell_type": "code",
   "execution_count": null,
   "id": "572dfbf0-4b2a-4134-a250-16aa618d9a3a",
   "metadata": {},
   "outputs": [],
   "source": [
    "%store -r donnees_2018_hab\n",
    "donnees_2018_hab"
   ]
  },
  {
   "cell_type": "code",
   "execution_count": null,
   "id": "04ba9184-e9ac-4650-9f19-9bc77a32b6e2",
   "metadata": {},
   "outputs": [],
   "source": [
    "%matplotlib inline\n",
    "msno.matrix(donnees_2018_hab)\n",
    "print(\"Il y a des données manquantes pour les crimes et délits pour les gendarmeries. Pour simplifier l'étude, nous n'imputons pas de valeurs explicites autres que 0 et travaillons sur le total gendarmerie+police nationale.\")"
   ]
  },
  {
   "cell_type": "code",
   "execution_count": null,
   "id": "d42503ee-76cc-4d01-8daa-a46626172dfc",
   "metadata": {},
   "outputs": [],
   "source": [
    "url_dep = 'https://www.data.gouv.fr/fr/datasets/r/90b9341a-e1f7-4d75-a73c-bbc010c7feeb'\n",
    "departements = gpd.read_file(url_dep)\n",
    "departements = departements.set_index(\"code\")\n",
    "departements.drop(['nom'], axis=1, inplace = True)"
   ]
  },
  {
   "cell_type": "code",
   "execution_count": null,
   "id": "9000a38d-afc5-43c6-82c7-3dc6bca43892",
   "metadata": {},
   "outputs": [],
   "source": [
    "#Restriction au champ IDF pour une sous-carte\n",
    "departements_idf = departements.loc[departements.index.isin(DEPARTEMENTS_IDF)]"
   ]
  },
  {
   "cell_type": "code",
   "execution_count": null,
   "id": "f28646e8-c876-4662-a6da-c9102f2a5e49",
   "metadata": {},
   "outputs": [],
   "source": [
    "donnees_2018_hab_mini=donnees_2018_hab.drop([\"D918\",\"D118\",\"REG\",\"Crim_Del_GN_hab\",\"Crim_Del_PN_hab\",\"Crim_Del_PN_GN\"],axis=1)\n",
    "if VERBOSE:\n",
    "    display(donnees_2018_hab_mini)"
   ]
  },
  {
   "cell_type": "code",
   "execution_count": null,
   "id": "cda4a46a-8f6b-482b-b326-c4779fa40995",
   "metadata": {},
   "outputs": [],
   "source": [
    "if not departements_idf.empty and not donnees_2018_hab_mini.empty:\n",
    "    print(\"1 - Récupération des données ====> OK \")\n",
    "else:\n",
    "    print(\"1 - Récupération des données ====> KO \")"
   ]
  },
  {
   "cell_type": "markdown",
   "id": "cc91a433-269d-4527-857e-b03926d94fdb",
   "metadata": {},
   "source": [
    "## 2) Sélection des items que l'on souhaite représenter (au champ métropolitain puis IDF) "
   ]
  },
  {
   "cell_type": "code",
   "execution_count": null,
   "id": "50268101-f509-45f5-be5d-058c2a0dc64d",
   "metadata": {},
   "outputs": [],
   "source": [
    "donnees_2018_hab.index.names = ['CODDEP']\n",
    "donnees_2018_hab.describe()"
   ]
  },
  {
   "cell_type": "code",
   "execution_count": null,
   "id": "764608e5-6070-4e9a-8fa9-4396df7abede",
   "metadata": {},
   "outputs": [],
   "source": [
    "donnees_2018_hab_pauvrete = donnees_2018_hab.drop(['REG','MED18','D118','D918','RD18','T1_2018','Nb_PN_GN_dep_100k_hab','Crim_Del_PN_GN','Nb_Boucherie_dep_hab','Crim_Del_GN_hab','Crim_Del_PN_hab','Crim_Del_PN_GN_hab'], axis=1)\n",
    "donnees_2018_hab_rev_median = donnees_2018_hab.drop(['REG','TP6018','D118','D918','RD18','T1_2018','Nb_PN_GN_dep_100k_hab','Crim_Del_PN_GN','Nb_Boucherie_dep_hab','Crim_Del_GN_hab','Crim_Del_PN_hab','Crim_Del_PN_GN_hab'], axis=1)\n",
    "donnees_2018_hab_ratio_d1_d9 = donnees_2018_hab.drop(['REG','TP6018','D118','D918','MED18','T1_2018','Nb_PN_GN_dep_100k_hab','Crim_Del_PN_GN','Nb_Boucherie_dep_hab','Crim_Del_GN_hab','Crim_Del_PN_hab','Crim_Del_PN_GN_hab'], axis=1)\n",
    "donnees_2018_hab_chomage = donnees_2018_hab.drop(['REG','TP6018','D118','D918','MED18','RD18','Nb_PN_GN_dep_100k_hab','Crim_Del_PN_GN','Nb_Boucherie_dep_hab','Crim_Del_GN_hab','Crim_Del_PN_hab','Crim_Del_PN_GN_hab'], axis=1)\n",
    "donnees_2018_hab_boucherie = donnees_2018_hab.drop(['REG','TP6018','D118','D918','MED18','RD18','Nb_PN_GN_dep_100k_hab','Crim_Del_PN_GN','T1_2018','Crim_Del_GN_hab','Crim_Del_PN_hab','Crim_Del_PN_GN_hab'], axis=1)\n",
    "donnees_2018_hab_nb_pn_gn = donnees_2018_hab.drop(['REG','TP6018','D118','D918','MED18','RD18','Nb_Boucherie_dep_hab','Crim_Del_PN_GN','T1_2018','Crim_Del_GN_hab','Crim_Del_PN_hab','Nb_Boucherie_dep_hab', 'Crim_Del_PN_GN_hab'], axis=1)\n",
    "donnees_2018_hab_nb_crimes_delits = donnees_2018_hab.drop(['REG','TP6018','D118','D918','MED18','RD18','Nb_PN_GN_dep_100k_hab','Crim_Del_PN_GN','T1_2018','Crim_Del_GN_hab','Crim_Del_PN_hab','Nb_Boucherie_dep_hab'], axis=1)\n",
    "donnees_2018_hab_crimes_delits = donnees_2018_hab.drop(['REG','TP6018','D118','D918','MED18','RD18','Nb_PN_GN_dep_100k_hab','Crim_Del_PN_GN','T1_2018','Crim_Del_GN_hab','Crim_Del_PN_hab','Nb_Boucherie_dep_hab'], axis=1)\n"
   ]
  },
  {
   "cell_type": "code",
   "execution_count": null,
   "id": "63326b20-df78-435e-b04c-1b7b63331da9",
   "metadata": {},
   "outputs": [],
   "source": [
    "carto_pauvrete=departements.merge(donnees_2018_hab_pauvrete,left_index=True,right_index=True)\n",
    "carto_rev_median=departements.merge(donnees_2018_hab_rev_median,left_index=True,right_index=True)\n",
    "carto_ratio_d1_d9=departements.merge(donnees_2018_hab_ratio_d1_d9,left_index=True,right_index=True)\n",
    "carto_chomage=departements.merge(donnees_2018_hab_chomage,left_index=True,right_index=True)\n",
    "carto_boucherie=departements.merge(donnees_2018_hab_boucherie,left_index=True,right_index=True)\n",
    "carto_nb_pn_gn=departements.merge(donnees_2018_hab_nb_pn_gn,left_index=True,right_index=True)\n",
    "carto_crimes_delits=departements.merge(donnees_2018_hab_crimes_delits,left_index=True,right_index=True)\n",
    "\n",
    "#Restriction au champ IDF pour une sous-carte\n",
    "\n",
    "carto_pauvrete_idf = carto_pauvrete.loc[carto_pauvrete.index.isin(DEPARTEMENTS_IDF)]\n",
    "carto_rev_median_idf = carto_rev_median.loc[carto_rev_median.index.isin(DEPARTEMENTS_IDF)]\n",
    "carto_ratio_d1_d9_idf = carto_ratio_d1_d9.loc[carto_ratio_d1_d9.index.isin(DEPARTEMENTS_IDF)]\n",
    "carto_chomage_idf = carto_chomage.loc[carto_chomage.index.isin(DEPARTEMENTS_IDF)]\n",
    "carto_boucherie_idf = carto_boucherie.loc[carto_boucherie.index.isin(DEPARTEMENTS_IDF)]\n",
    "carto_nb_pn_gn_idf = carto_nb_pn_gn.loc[carto_nb_pn_gn.index.isin(DEPARTEMENTS_IDF)]\n",
    "carto_crimes_delits_idf = carto_crimes_delits.loc[carto_crimes_delits.index.isin(DEPARTEMENTS_IDF)]\n"
   ]
  },
  {
   "cell_type": "code",
   "execution_count": null,
   "id": "beee6392-0a4a-40cc-985b-8bc78c759636",
   "metadata": {},
   "outputs": [],
   "source": [
    "if not carto_crimes_delits_idf.empty:\n",
    "    print(\"2 - Extractions des données ====> OK \")\n",
    "else:\n",
    "    print(\"2 - Extractions des données ====> KO \")"
   ]
  },
  {
   "cell_type": "markdown",
   "id": "bc7af9bf-e38b-46f8-b26a-0ced8a3fb554",
   "metadata": {},
   "source": [
    "## 3) Représentation cartographique cloropèthe (au champ France Métropolitaine puis champ Ile de France) "
   ]
  },
  {
   "cell_type": "code",
   "execution_count": null,
   "id": "d8325245-3c73-4dbd-8463-21943892805f",
   "metadata": {},
   "outputs": [],
   "source": [
    "print(\"3 - Visualisation géographique des départements en fonction des données : \")\n"
   ]
  },
  {
   "cell_type": "markdown",
   "id": "d1ece178-62b7-4acc-a93d-df1fb5e79ae6",
   "metadata": {},
   "source": [
    "* Taux de pauvreté monétaire"
   ]
  },
  {
   "cell_type": "code",
   "execution_count": null,
   "id": "1a2ed929-2b3d-4358-b5b0-0a99f63eeae0",
   "metadata": {},
   "outputs": [],
   "source": [
    "showgraph(departements,carto_pauvrete,departements_idf,carto_pauvrete_idf,'TP6018','Purples','Taux de pauvreté monétaire (au seuil de 60% du niveau de vie médian)')"
   ]
  },
  {
   "cell_type": "code",
   "execution_count": null,
   "id": "d2753bd6-dad5-49fb-82ed-c2b8c7051a42",
   "metadata": {},
   "outputs": [],
   "source": [
    "\n",
    "print(\" ----- COMMENTAIRE: En 2018, la pauvreté monétaire est plus marquée en Seine Saint-Denis, ainsi que dans les départements côtiers de l'Occitanie et sur la diagonale transfrontalière du Nord est de la France  \")"
   ]
  },
  {
   "cell_type": "markdown",
   "id": "77a24ec5-78d2-4b32-9241-7af3ddc79732",
   "metadata": {},
   "source": [
    "* Niveau de vie médian"
   ]
  },
  {
   "cell_type": "code",
   "execution_count": null,
   "id": "5dee0081-466b-4351-9678-54bf5f55170a",
   "metadata": {},
   "outputs": [],
   "source": [
    "showgraph(departements,carto_rev_median,departements_idf,carto_rev_median_idf,'MED18','Oranges','Niveau de vie médian (en euros)')\n"
   ]
  },
  {
   "cell_type": "code",
   "execution_count": null,
   "id": "c0313d95-39a0-4d84-b3c6-38d10095715b",
   "metadata": {},
   "outputs": [],
   "source": [
    "print(\" ----- COMMENTAIRE : Le niveau de vie médian en euros en 2018 est supérieur en Haute-Savoie, département transfrontalier avec la Suisse et dans les départements de l'Ouest de l'Ile de France (Paris, Hauts-de-Seine, Yvelines). Le niveau de vie dans les départements ruraux de la diagonale du vide est moins élevé, tout comme celui de la région Hauts de France et de l'Occitanie.\")"
   ]
  },
  {
   "cell_type": "markdown",
   "id": "3e34f55f-37db-47e0-a302-cb4f50eca19e",
   "metadata": {},
   "source": [
    "* Ratio inter-décile de niveau de vie "
   ]
  },
  {
   "cell_type": "code",
   "execution_count": null,
   "id": "ff0842b7-836e-4f11-a956-09830353112c",
   "metadata": {},
   "outputs": [],
   "source": [
    "showgraph(departements,carto_ratio_d1_d9,departements_idf,carto_ratio_d1_d9_idf,'RD18','RdPu','Ratio inter-décile de niveau de vie')"
   ]
  },
  {
   "cell_type": "code",
   "execution_count": null,
   "id": "fc7a5a0d-227e-405d-b706-e5bfdfc6aa8d",
   "metadata": {},
   "outputs": [],
   "source": [
    "print(\" ----- COMMENTAIRE : Le ratio inter-décile (D9/D1) de niveau de vie est particulièrement élevé à Paris, ainsi que dans les Hauts de Seine et dans une moindre mesure la Haute-Savoie. Dans la plupart des départements, le ratio inter-décile fluctue autour de 3.\")"
   ]
  },
  {
   "cell_type": "code",
   "execution_count": null,
   "id": "27397b7a-9eef-4e4b-8212-d56fa1913f2f",
   "metadata": {},
   "outputs": [],
   "source": [
    "asciiprint(\"T1_2018\",\"Taux de chômage localisé\")"
   ]
  },
  {
   "cell_type": "markdown",
   "id": "871afe0f-2ba8-4b9a-96c8-e5c1ebcda413",
   "metadata": {},
   "source": [
    "* Taux de chômage localisé"
   ]
  },
  {
   "cell_type": "code",
   "execution_count": null,
   "id": "cd6ff79c-ce71-4001-a54b-6f18798aaa27",
   "metadata": {},
   "outputs": [],
   "source": [
    "showgraph(departements,carto_chomage,departements_idf,carto_chomage_idf,'T1_2018','Greens','Taux de chômage localisé (en pourcentage)')"
   ]
  },
  {
   "cell_type": "code",
   "execution_count": null,
   "id": "bc6c4967-bf19-4033-9dae-cc875aa71763",
   "metadata": {},
   "outputs": [],
   "source": [
    "print(\" ----- COMMENTAIRE : La carte du taux de chômage localisé reflète celle du taux de pauvreté monétaire : la Seine Saint-Denis et les Pyrénnées Orientales ont un taux de chômage très élevé par rapport à la moyenne, et les départements des régions Hauts-de-France et d'Occitanie ont un taux de chômage élevé.\")"
   ]
  },
  {
   "cell_type": "markdown",
   "id": "ed7ac896-372b-4d3d-905c-b5beb63d8c74",
   "metadata": {},
   "source": [
    "* Nombre de boucheries pour 100k habitants"
   ]
  },
  {
   "cell_type": "code",
   "execution_count": null,
   "id": "66f00e7d-af1b-4bd0-ab93-b50a0a539d14",
   "metadata": {},
   "outputs": [],
   "source": [
    "showgraph(departements,carto_boucherie,departements_idf,carto_boucherie_idf,'Nb_Boucherie_dep_hab','Reds','Nombre de boucheries-charcuteries pour 100 000 habitants')\n"
   ]
  },
  {
   "cell_type": "code",
   "execution_count": null,
   "id": "598cbaea-5a63-4466-a224-4032df1bdbb7",
   "metadata": {},
   "outputs": [],
   "source": [
    "print(\" ----- COMMENTAIRE : Le nombre de boucheries-charcuteries pour 100 000 habitants est particulièrement supérieur en Corse-du-Sud et en Lozère ainsi que dans le Cantal. Paris et la Seine Saint Denis paraissent sureprésentés graphiquement, mais l'échelle n'est pas la même pour la région Ile de France. Ces départements se situent dans la moyenne des autres départements français.\")"
   ]
  },
  {
   "cell_type": "markdown",
   "id": "3cc1b49f-dde1-41d0-8a25-8334e47ede31",
   "metadata": {},
   "source": [
    "* Nombre de policiers et gendarmes (2019) pour 100k habitants"
   ]
  },
  {
   "cell_type": "code",
   "execution_count": null,
   "id": "ccd94f60-cc50-4b6b-95c7-62eaf0b31f8c",
   "metadata": {},
   "outputs": [],
   "source": [
    "showgraph(departements,carto_nb_pn_gn,departements_idf,carto_nb_pn_gn_idf,'Nb_PN_GN_dep_100k_hab','YlOrBr','Nombre de policiers et gendarmes (2019) pour 100 000 habitants')"
   ]
  },
  {
   "cell_type": "code",
   "execution_count": null,
   "id": "2b8e13e8-0fad-40ed-8165-a20ca5e3a573",
   "metadata": {},
   "outputs": [],
   "source": [
    "print(\" ----- COMMENTAIRE : Le nombre de policiers et gendarmes pour 100 000 habitants est particulièrement élevé à Paris par rapport aux départements de la petite couronne, ce qui s'explique en partie par la densité de population et la centralisation administrative dans la capitale. Par ailleurs, la Haute-Marne et la Corse-du-Sud apparaissent surreprésentées.\") "
   ]
  },
  {
   "cell_type": "markdown",
   "id": "3c58dde5-d89b-464e-b68a-4468aaea118a",
   "metadata": {},
   "source": [
    "* Nombre de crimes et délits répertoriés pour 100k habitants"
   ]
  },
  {
   "cell_type": "code",
   "execution_count": null,
   "id": "f1200afd-cf6c-4171-ba8b-0286bdfda666",
   "metadata": {},
   "outputs": [],
   "source": [
    "showgraph(departements,carto_crimes_delits,departements_idf,carto_crimes_delits_idf,'Crim_Del_PN_GN_hab','YlGnBu','Nombre de crimes et délits répertoriés pour 100 000 habitants')"
   ]
  },
  {
   "cell_type": "code",
   "execution_count": null,
   "id": "5fb0e18b-c136-41c8-b662-71ece72cf3e0",
   "metadata": {},
   "outputs": [],
   "source": [
    "print(\" ----- COMMENTAIRE : Graphiquement, on constate que le nombre de crimes et délits rapportés est plus important dans les grandes agglomérations (Paris, Lyon/Rhône, Marseille/Bouches du Rhône, Bordeaux/Gironde, Nantes/Loire-Atlantique), et dans les départements côtiers (le long de la Méditérrannée). La Corse se dinstingue par un plus faible nombre de crimes et délits rapportés.\") "
   ]
  },
  {
   "cell_type": "markdown",
   "id": "160c345e-6874-4a4a-a57d-a01d6ff79c81",
   "metadata": {
    "tags": []
   },
   "source": [
    "# 4) Analyse univariée "
   ]
  },
  {
   "cell_type": "code",
   "execution_count": null,
   "id": "bbff76d6-966f-4ae4-bf8b-da133a1a2d8a",
   "metadata": {},
   "outputs": [],
   "source": [
    "print('*'*100)\n",
    "print('*'*100)\n",
    "print(\"4 - Analyse univariée avec un diagramme en boîte pour chaque variable explicative\")"
   ]
  },
  {
   "cell_type": "code",
   "execution_count": null,
   "id": "383c67f5-56bd-495f-aa77-22363443cfc5",
   "metadata": {},
   "outputs": [],
   "source": [
    "if VERBOSE:\n",
    "    display(donnees_2018_hab_mini.info())"
   ]
  },
  {
   "cell_type": "code",
   "execution_count": null,
   "id": "2ed7183b-3ae9-4b0b-a86d-0f4ee909591c",
   "metadata": {},
   "outputs": [],
   "source": [
    "fig = px.box(donnees_2018_hab_mini, y=\"TP6018\",hover_data=[ 'Libellé'], labels=dict(TP6018 = 'Taux de pauvreté monétaire au seuil de 60%'))\n",
    "\n",
    "fig.write_html('figure_TP6018.html', auto_open=True)\n",
    "display(HTML(\"figure_TP6018.html\"))"
   ]
  },
  {
   "cell_type": "code",
   "execution_count": null,
   "id": "cccd4b5c-002a-402b-adc6-eb51f7ac23ba",
   "metadata": {},
   "outputs": [],
   "source": [
    "fig2 = px.box(donnees_2018_hab_mini, y=\"MED18\",hover_data=[ 'Libellé'],labels=dict(MED18 = 'Niveau de vie médian'))\n",
    "\n",
    "fig2.write_html('figure_MED18.html', auto_open=True)\n",
    "display(HTML(\"figure_MED18.html\"))"
   ]
  },
  {
   "cell_type": "code",
   "execution_count": null,
   "id": "6b772c66-d888-4c18-9b9b-b7ed320db36d",
   "metadata": {},
   "outputs": [],
   "source": [
    "fig3= px.box(donnees_2018_hab_mini, y=\"RD18\",hover_data=[ 'Libellé'], labels=dict(RD18 = 'Ratio inter-décile'))\n",
    "\n",
    "fig3.write_html('figure_RD_2018.html', auto_open=True)\n",
    "display(HTML(\"figure_RD_2018.html\"))"
   ]
  },
  {
   "cell_type": "code",
   "execution_count": null,
   "id": "9a48736f-9ae8-4433-ad11-b3c5fae5cb8b",
   "metadata": {},
   "outputs": [],
   "source": [
    "fig4 = px.box(donnees_2018_hab_mini, y=\"T1_2018\",hover_data=[ 'Libellé'], labels=dict(T1_2018 = 'Taux de chômage'))\n",
    "\n",
    "fig4.write_html('figure_T1_2018.html', auto_open=True)\n",
    "display(HTML(\"figure_T1_2018.html\"))"
   ]
  },
  {
   "cell_type": "code",
   "execution_count": null,
   "id": "bd768347-83fc-41dd-a09f-b2ad34bfe29f",
   "metadata": {},
   "outputs": [],
   "source": [
    "fig5 = px.box(donnees_2018_hab_mini, y=\"Nb_Boucherie_dep_hab\",hover_data=[ 'Libellé'], labels=dict(Nb_Boucherie_dep_hab = 'Nombre de boucheries pour 100 000 habitants'))\n",
    "\n",
    "fig5.write_html('figure_Nb_Boucherie_dep_hab.html', auto_open=True)\n",
    "display(HTML(\"figure_Nb_Boucherie_dep_hab.html\"))\n"
   ]
  },
  {
   "cell_type": "code",
   "execution_count": null,
   "id": "2cfa5a96-4af3-4405-b0e6-9914c2aefd0d",
   "metadata": {},
   "outputs": [],
   "source": [
    "fig6 = px.box(donnees_2018_hab_mini, y=\"Nb_PN_GN_dep_100k_hab\",hover_data=[ 'Libellé'], labels=dict(Nb_PN_GN_dep_100k_hab = 'Nombre de policiers et gendarmes pour 100 000 habitants'))\n",
    "\n",
    "fig6.write_html('figure_Nb_PN_GN_dep_100k_hab.html', auto_open=True)\n",
    "display(HTML(\"figure_Nb_PN_GN_dep_100k_hab.html\"))"
   ]
  },
  {
   "cell_type": "code",
   "execution_count": null,
   "id": "f7aea51d-f827-41db-a2df-ae420f7d4aad",
   "metadata": {},
   "outputs": [],
   "source": [
    "fig7 = px.box(donnees_2018_hab_mini, y=\"Crim_Del_PN_GN_hab\",hover_data=[ 'Libellé'], labels=dict(Crim_Del_PN_GN_hab= 'Nombre de crimes et délits reportés pour 100 000 habitants'))\n",
    "\n",
    "fig7.write_html('figure_Crim_Del_PN_GN_hab.html', auto_open=True)\n",
    "display(HTML(\"figure_Crim_Del_PN_GN_hab.html\"))"
   ]
  },
  {
   "cell_type": "markdown",
   "id": "c9d7488e-9a19-427b-81b4-2b48c102c912",
   "metadata": {},
   "source": [
    "# 5) Analyse bivariée "
   ]
  },
  {
   "cell_type": "code",
   "execution_count": null,
   "id": "e9a81b34-ab92-4103-832e-59b2695515b3",
   "metadata": {},
   "outputs": [],
   "source": [
    "print('*'*100)\n",
    "print('*'*100)\n",
    "print(\"5 - Analyse bivariée : matrice de corrélation des variables explicatives \")"
   ]
  },
  {
   "cell_type": "code",
   "execution_count": null,
   "id": "119a7930-c6b0-4a18-bcb8-1d80fc4599b1",
   "metadata": {},
   "outputs": [],
   "source": [
    "plt.figure(figsize=(16, 6))\n",
    "mask = np.triu(np.ones_like(donnees_2018_hab_mini.corr(), dtype=np.bool_))\n",
    "heatmap = sns.heatmap(donnees_2018_hab_mini.corr(), mask=mask, vmin=-1, vmax=1, annot=True, cmap='BrBG')"
   ]
  },
  {
   "cell_type": "code",
   "execution_count": null,
   "id": "14162c90-50c2-4f22-ba95-18a74b5a43a4",
   "metadata": {},
   "outputs": [],
   "source": [
    "print(\" ----- COMMENTAIRE : Les seules corrélations négatives sont reliées au niveau de vie médian et concernent les variables de taux de chômage, de taux de pauvreté et dans une moindre mesure du nombre de boucheries-charcuteries. On remarque également une très faible corrélation négative entre le nombre de crimes et délits rapportés avec le nombre de boucheries charcuteries. Toutes les autres corrélations sont positives et attendues : lien entre la pauvreté et le chômage, ou la criminalité et le nombre de policiers (chiffre noir de la délinquance), ou bien encore le ratio inter-décile et la délinquance (reflétant les inégalités de revenus, donc potentiellement les tensions sociales).\")"
   ]
  },
  {
   "cell_type": "code",
   "execution_count": null,
   "id": "9682bc32-af1d-4278-9af6-28993939d2bb",
   "metadata": {},
   "outputs": [],
   "source": [
    "sns.pairplot(donnees_2018_hab_mini[['TP6018','MED18', 'RD18', 'T1_2018', 'Nb_Boucherie_dep_hab', 'Nb_PN_GN_dep_100k_hab', 'Crim_Del_PN_GN_hab']])"
   ]
  },
  {
   "cell_type": "code",
   "execution_count": null,
   "id": "669113d0-0066-4c8c-a4f6-4614f5c6f2d6",
   "metadata": {},
   "outputs": [],
   "source": [
    "print(\" ----- COMMENTAIRE : On constate une forte relation linéaire entre le taux de chômage et le taux de pauvreté. Au contraire, le lien entre le nombre de crimes et délits rapportés et nos variables explicatives semble plus limité (fort regroupement de valeurs sur l'axe des ordonnées malgré une forte dispersion sur l'axe des abscisses).\") \n",
    "\n",
    "print(\" ----- Cette relation est approfondie dans les graphiques ci-dessous intégrant la droite de régression et l'intervalle de confiance de notre estimateur.\")\n"
   ]
  },
  {
   "cell_type": "code",
   "execution_count": null,
   "id": "fcadae02-148d-4713-aa3d-1036333ba1fb",
   "metadata": {},
   "outputs": [],
   "source": [
    "sns.lmplot(x=\"Nb_Boucherie_dep_hab\", y='Crim_Del_PN_GN_hab', data=donnees_2018_hab_mini)\n",
    "plt.title('Crimes et délits rapportés en fonction du nombre de boucheries pour 100 000 habitants')\n",
    "\n",
    "sns.lmplot(x=\"TP6018\", y='Crim_Del_PN_GN_hab', data=donnees_2018_hab_mini)\n",
    "plt.title('Crimes et délits rapportés en fonction du taux de pauvreté monétaire')\n",
    "\n",
    "sns.lmplot(x=\"RD18\", y='Crim_Del_PN_GN_hab', data=donnees_2018_hab_mini)\n",
    "plt.title('Crimes et délits rapportés en fonction du ratio inter-décile de niveau de vie')\n",
    "\n",
    "sns.lmplot(x=\"MED18\", y='Crim_Del_PN_GN_hab', data=donnees_2018_hab_mini)\n",
    "plt.title('Crimes et délits rapportés en fonction du niveau de vie médian')\n",
    "\n",
    "sns.lmplot(x=\"T1_2018\", y='Crim_Del_PN_GN_hab', data=donnees_2018_hab_mini)\n",
    "plt.title('Crimes et délits rapportés en fonction du taux de chômage')\n",
    "\n",
    "sns.lmplot(x=\"Nb_PN_GN_dep_100k_hab\", y='Crim_Del_PN_GN_hab', data=donnees_2018_hab_mini)\n",
    "plt.title('Crimes et délits rapportés en fonction du nombre de policiers et gendarmes pour 100 000 habitants')\n"
   ]
  },
  {
   "cell_type": "markdown",
   "id": "67e44e7b-3a3c-410c-a5f8-b1c5d1247ba2",
   "metadata": {},
   "source": [
    "# 6) Analyse multivariée"
   ]
  },
  {
   "cell_type": "code",
   "execution_count": null,
   "id": "a42f16ac-eeeb-4d33-a666-817e1c591e8b",
   "metadata": {},
   "outputs": [],
   "source": [
    "print('*'*100)\n",
    "print('*'*100)\n",
    "print(\"6 - Analyse multivariée : Analyses en Composantes Principales (ACP) et clustering par la méthode de Ward\")"
   ]
  },
  {
   "cell_type": "code",
   "execution_count": null,
   "id": "587bfd77-6e8f-4108-ab0e-132d87a580c4",
   "metadata": {},
   "outputs": [],
   "source": [
    "X=donnees_2018_hab_mini[['TP6018','MED18', 'RD18', 'T1_2018', 'Nb_Boucherie_dep_hab', 'Nb_PN_GN_dep_100k_hab', 'Crim_Del_PN_GN_hab']]"
   ]
  },
  {
   "cell_type": "code",
   "execution_count": null,
   "id": "ed375af6-6da2-4b9d-9bb4-74ce5bb7f652",
   "metadata": {},
   "outputs": [],
   "source": [
    "pca = prince.PCA(\n",
    "     n_components=10,\n",
    "     n_iter=3,\n",
    "     rescale_with_mean=True,\n",
    "     rescale_with_std=True,\n",
    "     copy=True,\n",
    "     check_input=True,\n",
    "     engine='auto',\n",
    "     random_state=42 )\n",
    "pca = pca.fit(X)"
   ]
  },
  {
   "cell_type": "code",
   "execution_count": null,
   "id": "3ca4ad4a-30c3-49b6-8692-0d28fff8b4ad",
   "metadata": {},
   "outputs": [],
   "source": [
    "pca.eigenvalues_"
   ]
  },
  {
   "cell_type": "code",
   "execution_count": null,
   "id": "d16e22f0-2a16-43ed-85bd-cda738c1ec5c",
   "metadata": {},
   "outputs": [],
   "source": [
    "pca.explained_inertia_"
   ]
  },
  {
   "cell_type": "code",
   "execution_count": null,
   "id": "6777e8ae-20b9-4bc5-8cae-832bbf486b5e",
   "metadata": {},
   "outputs": [],
   "source": [
    "plt.figure(figsize=(20,5))\n",
    "\n",
    "plt.subplot(1, 2, 1)\n",
    "plt.plot(pca.eigenvalues_,marker='*')\n",
    "plt.title('Valeurs Propres')\n",
    "\n",
    "plt.subplot(1, 2, 2)\n",
    "plt.plot(np.cumsum(pca.explained_inertia_),marker='*')\n",
    "plt.title('Inertie cumulée')\n",
    "\n",
    "plt.show()"
   ]
  },
  {
   "cell_type": "code",
   "execution_count": null,
   "id": "b5fe3971-dd62-4837-85f1-8305b982f7e8",
   "metadata": {},
   "outputs": [],
   "source": [
    "print(\" ----- COMMENTAIRE : On cherche les composantes principales de telle sorte à réduire le nombre de variables initiales qui sont très corrélées.\") \n",
    "\n",
    "print(\" ----Par le critère du coude sur les valeurs propres associées à chaque variable, on choisit de retenir 3 composantes principales.\")\n",
    "\n",
    "print(\"----Le critère d'inertie cumulée est satisfaisant pour 2 ou 3 composantes princiaples.\") "
   ]
  },
  {
   "cell_type": "code",
   "execution_count": null,
   "id": "8a8be6d5-9d7a-44d1-995e-29b78f95e5e4",
   "metadata": {},
   "outputs": [],
   "source": [
    "resPCA=pca.transform(X)"
   ]
  },
  {
   "cell_type": "code",
   "execution_count": null,
   "id": "182a2536-8c40-4137-80fc-7ea473fd689b",
   "metadata": {},
   "outputs": [],
   "source": [
    "print(\" ----- COMMENTAIRE : On cherche désormais à regrouper les départements par cluster pour faire apparaître des caractéristiques communes.\") "
   ]
  },
  {
   "cell_type": "code",
   "execution_count": null,
   "id": "7c86270a-3f56-4036-8340-24f529bf1d8b",
   "metadata": {},
   "outputs": [],
   "source": [
    "inertias = []\n",
    "\n",
    "# Creating 10 K-Mean models while varying the number of clusters (k)\n",
    "for k in range(1,10):\n",
    "    model = KMeans(n_clusters=k)\n",
    "    \n",
    "    # Fit model to samples\n",
    "    model.fit(resPCA.iloc[:,:3])\n",
    "    \n",
    "    # Append the inertia to the list of inertias\n",
    "    inertias.append(model.inertia_)\n",
    "    \n",
    "plt.plot(range(1,10), inertias, '-p', color='gold')\n",
    "plt.xlabel('number of clusters, k')\n",
    "plt.ylabel('inertia')\n",
    "#plt.xticks(ks)\n",
    "plt.show()"
   ]
  },
  {
   "cell_type": "code",
   "execution_count": null,
   "id": "9fcfd919-717c-4ee1-9493-26b7d3bc71ca",
   "metadata": {},
   "outputs": [],
   "source": [
    "print(\" ----- COMMENTAIRE : L'inertie est décroissante par rapport au nombre de clusters car on cherche à réduire l'inertie intra-classe. Le critère du coude suggère 3 ou 5 clusters. Pour une meilleure précision, on choisit au départ 5 clusters puis on applique la méthode de Ward.\") "
   ]
  },
  {
   "cell_type": "code",
   "execution_count": null,
   "id": "eace0b3e-1632-43a2-b6db-02da547f8578",
   "metadata": {},
   "outputs": [],
   "source": [
    "plt.figure(figsize=(20, 5))\n",
    "plt.title(\"Customer Dendograms\")\n",
    "dend = shc.dendrogram(shc.linkage(resPCA, method='ward'))"
   ]
  },
  {
   "cell_type": "code",
   "execution_count": null,
   "id": "4bdea179-8d72-414a-a96b-c5708ad6c60d",
   "metadata": {},
   "outputs": [],
   "source": [
    "model = KMeans(n_clusters=3)\n",
    "model.fit(resPCA.iloc[:,:2])\n",
    "labels = model.predict(resPCA.iloc[:,:2])\n",
    "plt.scatter(resPCA[0], resPCA[1], c=labels)\n",
    "plt.show()"
   ]
  },
  {
   "cell_type": "code",
   "execution_count": null,
   "id": "a1e98cd7-1758-4479-a418-c5794232f051",
   "metadata": {},
   "outputs": [],
   "source": [
    "print(\" ----- COMMENTAIRE : La méthode de Ward indique 3 clusters.\") "
   ]
  },
  {
   "cell_type": "code",
   "execution_count": null,
   "id": "8869a3d6-255f-42ba-9d26-ca05a9b9aeb4",
   "metadata": {},
   "outputs": [],
   "source": [
    "resKM=KMeans(n_clusters=3)\n",
    "resKM.fit(resPCA)"
   ]
  },
  {
   "cell_type": "code",
   "execution_count": null,
   "id": "7372ee4a-4b28-441f-8a0d-e8f7d9ce36e1",
   "metadata": {},
   "outputs": [],
   "source": [
    "resKM"
   ]
  },
  {
   "cell_type": "code",
   "execution_count": null,
   "id": "43ce9c9f-7068-48da-893d-74dc757ea85a",
   "metadata": {},
   "outputs": [],
   "source": [
    "X[\"Cluster\"]=resKM.labels_"
   ]
  },
  {
   "cell_type": "code",
   "execution_count": null,
   "id": "92e719ff-2f9f-4414-b115-4c297f3ace96",
   "metadata": {},
   "outputs": [],
   "source": [
    "X.groupby(\"Cluster\").mean()[['TP6018','MED18', 'RD18', 'T1_2018', 'Nb_Boucherie_dep_hab', 'Nb_PN_GN_dep_100k_hab', 'Crim_Del_PN_GN_hab']].round(2).transpose()"
   ]
  },
  {
   "cell_type": "code",
   "execution_count": null,
   "id": "1ddc49a5-9fff-4adf-8bf6-d73b961a7451",
   "metadata": {},
   "outputs": [],
   "source": [
    "X.groupby(\"Cluster\").describe()"
   ]
  },
  {
   "cell_type": "code",
   "execution_count": null,
   "id": "a04962b4-aceb-49f1-80b0-9485abb4782d",
   "metadata": {},
   "outputs": [],
   "source": [
    "sns.scatterplot(x=\"Nb_Boucherie_dep_hab\",y=\"Crim_Del_PN_GN_hab\",data=X,hue=\"Cluster\")"
   ]
  },
  {
   "cell_type": "code",
   "execution_count": null,
   "id": "014adfd0-3ab3-484a-86bc-59e134ad99a2",
   "metadata": {},
   "outputs": [],
   "source": [
    "print(\" ----- COMMENTAIRE : On distingue 3 cluster \")\n",
    "\n",
    "print(\" ----- Le cluster 0 avec un faible taux de pauvreté (en moyenne 13%), un taux de chômage moyen, un faible nombre de boucheries charcuterie et un nombre de crimes et délits rapportés inférieur à la moyenne.\") \n",
    "\n",
    "print(\" ----- Le cluster 1 se caractérise par une pauvreté plus élevée (en moyenne 18%), une délinquance, un nombre de boucherie charcuteries et un chômage plus élevés\")\n",
    "\n",
    "print(\" ----- Le cluster 2 représente la spécificité de Paris qui se distingue par un fort ratio inter décile et un nombre de crimes et délits rapportés bien plus élevés\")"
   ]
  },
  {
   "cell_type": "code",
   "execution_count": null,
   "id": "f5c0dc76-b726-44ee-aeb7-f883aca071d3",
   "metadata": {},
   "outputs": [],
   "source": [
    "X_cluster = X.drop(['TP6018','MED18', 'RD18', 'T1_2018', 'Nb_Boucherie_dep_hab', 'Nb_PN_GN_dep_100k_hab', 'Crim_Del_PN_GN_hab'], axis=1)\n",
    "X_cluster.astype(int)"
   ]
  },
  {
   "cell_type": "code",
   "execution_count": null,
   "id": "bee08cee-aef0-4861-b8fc-1bebaba82ac7",
   "metadata": {},
   "outputs": [],
   "source": [
    "carto_cluster=departements.merge(X_cluster,left_index=True,right_index=True)\n",
    "carto_cluster"
   ]
  },
  {
   "cell_type": "code",
   "execution_count": null,
   "id": "70e1b94f-6920-46e8-b2b8-a66e3545b5b6",
   "metadata": {},
   "outputs": [],
   "source": [
    "fig, ax = plt.subplots(figsize=(10,10))\n",
    "\n",
    "departements.plot(color='gray', ax=ax)\n",
    "carto_cluster.plot(column='Cluster', \n",
    "                    cmap='Reds', \n",
    "                    linewidth=0.5, \n",
    "                    edgecolor='black',\n",
    "                    ax=ax, \n",
    "                    legend=True,\n",
    "                    legend_kwds={'label': 'Cluster', 'orientation': \"horizontal\"})\n",
    "ax.set_axis_off()"
   ]
  },
  {
   "cell_type": "code",
   "execution_count": null,
   "id": "5ce75e45-9402-4d30-9539-b8d45389382c",
   "metadata": {},
   "outputs": [],
   "source": [
    "print(\" ------ COMMENTAIRE : Le cluster 1 se concentre le long de la côte Méditérannée et dans certains départements de la diagonale du vide, ainsi qu'en Seine Saint-Denis, le Val d'Oise, et le Nord de la France. Paris se distingue enfin par sa spécificité.\")"
   ]
  },
  {
   "cell_type": "code",
   "execution_count": null,
   "id": "718cc785-637e-406e-b066-b089245a96b1",
   "metadata": {},
   "outputs": [],
   "source": [
    "%store X_cluster"
   ]
  }
 ],
 "metadata": {
  "kernelspec": {
   "display_name": "Python 3 (ipykernel)",
   "language": "python",
   "name": "python3"
  },
  "language_info": {
   "codemirror_mode": {
    "name": "ipython",
    "version": 3
   },
   "file_extension": ".py",
   "mimetype": "text/x-python",
   "name": "python",
   "nbconvert_exporter": "python",
   "pygments_lexer": "ipython3",
   "version": "3.9.7"
  }
 },
 "nbformat": 4,
 "nbformat_minor": 5
}
