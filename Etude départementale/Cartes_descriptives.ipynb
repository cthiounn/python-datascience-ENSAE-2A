{
 "cells": [
  {
   "cell_type": "code",
   "execution_count": null,
   "id": "7330c184-aafe-4c6a-b6c1-343d76fd34ed",
   "metadata": {},
   "outputs": [],
   "source": [
    "!pip install geopandas"
   ]
  },
  {
   "cell_type": "code",
   "execution_count": null,
   "id": "619718e6-a77f-4ab9-8831-d98c25fcfb30",
   "metadata": {},
   "outputs": [],
   "source": [
    "# import seaborn as sns\n",
    "import matplotlib.pyplot as plt\n",
    "import geopandas as gpd\n",
    "# import contextily as ctx\n",
    "# import requests\n",
    "# import tempfile\n",
    "# import zipfile\n",
    "\n"
   ]
  },
  {
   "cell_type": "code",
   "execution_count": null,
   "id": "572dfbf0-4b2a-4134-a250-16aa618d9a3a",
   "metadata": {},
   "outputs": [],
   "source": [
    "%store -r donnees_2018_hab\n",
    "donnees_2018_hab"
   ]
  },
  {
   "cell_type": "code",
   "execution_count": null,
   "id": "d42503ee-76cc-4d01-8daa-a46626172dfc",
   "metadata": {},
   "outputs": [],
   "source": [
    "url_dep = 'https://www.data.gouv.fr/fr/datasets/r/90b9341a-e1f7-4d75-a73c-bbc010c7feeb'\n",
    "departements = gpd.read_file(url_dep)\n",
    "departements = departements.set_index(\"code\")\n",
    "departements.drop(['nom'], axis=1, inplace = True)\n",
    "departements\n"
   ]
  },
  {
   "cell_type": "code",
   "execution_count": null,
   "id": "50268101-f509-45f5-be5d-058c2a0dc64d",
   "metadata": {},
   "outputs": [],
   "source": [
    "donnees_2018_hab.index.names = ['CODDEP']\n",
    "carto_donnees_2018_hab"
   ]
  },
  {
   "cell_type": "code",
   "execution_count": null,
   "id": "764608e5-6070-4e9a-8fa9-4396df7abede",
   "metadata": {},
   "outputs": [],
   "source": [
    "donnees_2018_hab_pauvrete = donnees_2018_hab.drop(['REG','MED18','D118','D918','RD18','T1_2018','Nb_PN_GN_dep_100k_hab','Crim_Del_PN_GN','Nb_Boucherie_dep_hab','Crim_Del_GN_hab','Crim_Del_PN_hab','Crim_Del_PN_GN_hab'], axis=1)\n",
    "donnees_2018_hab_pauvrete"
   ]
  },
  {
   "cell_type": "code",
   "execution_count": null,
   "id": "63326b20-df78-435e-b04c-1b7b63331da9",
   "metadata": {},
   "outputs": [],
   "source": [
    "carto_pauvrete=departements.merge(donnees_2018_hab_pauvrete,left_index=True,right_index=True)\n",
    "carto_pauvrete"
   ]
  },
  {
   "cell_type": "code",
   "execution_count": null,
   "id": "75d9d414-3e00-4434-8097-b5d8698f9c0b",
   "metadata": {},
   "outputs": [],
   "source": [
    "carto_pauvrete.dtypes"
   ]
  },
  {
   "cell_type": "code",
   "execution_count": null,
   "id": "1a2ed929-2b3d-4358-b5b0-0a99f63eeae0",
   "metadata": {},
   "outputs": [],
   "source": [
    "\n",
    "fig, ax = plt.subplots(figsize=(10,10))\n",
    "\n",
    "departements.plot(color='gray', ax=ax)\n",
    "pauvrete.plot(column='TP6018', cmap='Purples', linewidth=0.5, edgecolor='black',ax=ax, legend=True)\n",
    "ax.set_axis_off()"
   ]
  }
 ],
 "metadata": {
  "kernelspec": {
   "display_name": "Python 3 (ipykernel)",
   "language": "python",
   "name": "python3"
  },
  "language_info": {
   "codemirror_mode": {
    "name": "ipython",
    "version": 3
   },
   "file_extension": ".py",
   "mimetype": "text/x-python",
   "name": "python",
   "nbconvert_exporter": "python",
   "pygments_lexer": "ipython3",
   "version": "3.9.7"
  }
 },
 "nbformat": 4,
 "nbformat_minor": 5
}
