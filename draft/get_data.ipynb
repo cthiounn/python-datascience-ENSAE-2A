{
 "cells": [
  {
   "cell_type": "code",
   "execution_count": null,
   "metadata": {
    "id": "n4t23qgPHxWQ",
    "outputId": "7d790df5-4a61-4ba3-8be3-f4d40ee601a2"
   },
   "outputs": [],
   "source": [
    "# Importation des librairies externes\n",
    "!pip install git+https://github.com/InseeFrLab/Py-Insee-Data@master --ignore-install PyYAML\n",
    "!pip install python-Levenshtein"
   ]
  },
  {
   "cell_type": "code",
   "execution_count": null,
   "metadata": {
    "id": "9o7mnqVvHxWS"
   },
   "outputs": [],
   "source": [
    "# Importation des librairies \n",
    "import requests\n",
    "import pandas as pd\n",
    "import pynsee\n",
    "import pynsee.download\n",
    "from pynsee.sirene import *\n",
    "import time\n",
    "from tqdm import tqdm\n",
    "from pynsee.utils.init_conn import init_conn\n",
    "import os"
   ]
  },
  {
   "cell_type": "code",
   "execution_count": null,
   "metadata": {
    "id": "PH1rehk1HxWT"
   },
   "outputs": [],
   "source": [
    "# token API insee\n",
    "init_conn(insee_key=os.environ['INSEE_KEY'], insee_secret=os.environ['INSEE_SECRET'])"
   ]
  },
  {
   "cell_type": "code",
   "execution_count": null,
   "metadata": {
    "id": "axMCeng_HxWT"
   },
   "outputs": [],
   "source": [
    "#curl -X GET --header 'Accept: application/json' --header 'Authorization: Bearer '+TokenAuth 'https://api.insee.fr/metadonnees/V1/codes/nafr2/classe/47.22'"
   ]
  },
  {
   "cell_type": "code",
   "execution_count": null,
   "metadata": {
    "id": "EMhdrTzxHxWU"
   },
   "outputs": [],
   "source": [
    "request_session=requests.session()\n",
    "\n",
    "maxpage=1000\n",
    "df=pd.DataFrame()\n",
    "for numero_page in tqdm(range(maxpage),miniters=10):\n",
    "    time.sleep(0.6)\n",
    "    donnees_boucherie_sirene=request_session.get('https://entreprise.data.gouv.fr/api/sirene/v3/etablissements/?activite_principale=47.22Z' , \n",
    "params={'page': numero_page,'per_page':100})\n",
    "    df= df.append(pd.DataFrame(mydata.json()['etablissements']))\n"
   ]
  },
  {
   "cell_type": "code",
   "execution_count": null,
   "metadata": {
    "id": "trELTq9tHxWV"
   },
   "outputs": [],
   "source": [
    "donnees_boucherie_sirene=request_session.get('https://entreprise.data.gouv.fr/api/sirene/v3/etablissements/?activite_principale=47.22Z' , \n",
    "params={'page': 3,'per_page':100})\n",
    "df= pd.DataFrame(mydata.json()['etablissements'])\n",
    "print(df.shape)\n",
    "print(df.head(1))"
   ]
  },
  {
   "cell_type": "code",
   "execution_count": null,
   "metadata": {
    "id": "iSKYFBirHxWW"
   },
   "outputs": [],
   "source": [
    "donnees_filosofi = pynsee.download.telechargerDonnees(\"FILOSOFI_COM\", date = \"dernier\")\n",
    "print(donnees_filosofi)"
   ]
  },
  {
   "cell_type": "code",
   "execution_count": null,
   "metadata": {
    "id": "_UyYLqN_HxWX",
    "outputId": "43dbb747-3833-4042-b6d6-389cf8b8d4c1"
   },
   "outputs": [],
   "source": [
    "donnees_sirene_siret = pynsee.sirene.get_all_columns()\n",
    "\n",
    "# colonne_siret=['siren', 'nic', 'siret', 'dateDebut', 'dateCreationEtablissement',\n",
    "#                          'dateCreationUniteLegale', 'dateFin',\n",
    "#                          'denominationUniteLegale', 'nomUniteLegale',\n",
    "#                          'prenomUsuelUniteLegale',\n",
    "#                          'categorieEntreprise',\n",
    "#                          'categorieJuridiqueUniteLegale',\n",
    "#                          'activitePrincipaleUniteLegale',\n",
    "#                          'activitePrincipaleEtablissement',\n",
    "#                          'numeroVoieEtablissement',\n",
    "#                          'typeVoieEtablissement',\n",
    "#                          'libelleVoieEtablissement', 'codePostalEtablissement',\n",
    "#                          'libelleCommuneEtablissement', 'codeCommuneEtablissement']\n",
    "variable = [\"activitePrincipaleEtablissement\"]\n",
    "pattern = ['47.22Z']\n",
    "\n",
    "donnees_sirene_siret = search_sirene(variable = variable, pattern = pattern, kind=\"siret\")\n",
    "print(donnees_sirene_siret)"
   ]
  },
  {
   "cell_type": "code",
   "execution_count": null,
   "metadata": {
    "id": "hdR76gOqHxWY",
    "outputId": "2c8f2139-45e0-473e-845b-7f967291bc27"
   },
   "outputs": [],
   "source": [
    "donnees_sirene_siret = pynsee.sirene.get_all_columns()\n"
   ]
  },
  {
   "cell_type": "code",
   "execution_count": null,
   "metadata": {
    "id": "bvuFgDujHxWZ"
   },
   "outputs": [],
   "source": [
    "donnees_deces = pynsee.download.telechargerDonnees(\"DECES_COM\", date = \"dernier\")\n",
    "print(donnees_deces)\n",
    "\n"
   ]
  },
  {
   "cell_type": "code",
   "execution_count": null,
   "metadata": {
    "id": "dsrDuhI3HxWZ"
   },
   "outputs": [],
   "source": [
    "donnees_deces = pynsee.download.telechargerDonnees(\"DECES\", date = \"dernier\")\n",
    "donnees_deces.sort_values(by='datedeces',ascending=False)"
   ]
  },
  {
   "cell_type": "code",
   "execution_count": null,
   "metadata": {
    "id": "_YhhR_QuHxWa"
   },
   "outputs": [],
   "source": [
    "cog_commune = pynsee.download.telechargerDonnees(\"COG_COMMUNE\", date = \"dernier\")\n",
    "cog_commune\n",
    "\n",
    "\n"
   ]
  },
  {
   "cell_type": "code",
   "execution_count": null,
   "metadata": {
    "id": "wUoenOUGHxWa",
    "outputId": "587e1249-6cde-4874-a765-60447551a82e"
   },
   "outputs": [],
   "source": [
    "individus = pynsee.download.telechargerDonnees(\"RP_INDCVI\", date = \"dernier\")\n",
    "individus.sample(10)\n"
   ]
  },
  {
   "cell_type": "code",
   "execution_count": null,
   "metadata": {
    "id": "YqZ_TqwsH4uF"
   },
   "outputs": [],
   "source": [
    "# Données crime et délit\n",
    "url_datagouv_min_interieur=\"https://www.data.gouv.fr/fr/datasets/r/d792092f-b1f7-4180-a367-d043200c1520\"\n",
    "df_pn2012=pd.read_excel(url_datagouv_min_interieur, sheet_name='Services PN 2012')\n",
    "df_pn2013=pd.read_excel(url_datagouv_min_interieur, sheet_name='Services PN 2013')\n",
    "df_pn2014=pd.read_excel(url_datagouv_min_interieur, sheet_name='Services PN 2014')\n",
    "df_pn2015=pd.read_excel(url_datagouv_min_interieur, sheet_name='Services PN 2015')\n",
    "df_pn2016=pd.read_excel(url_datagouv_min_interieur, sheet_name='Services PN 2016')\n",
    "df_pn2017=pd.read_excel(url_datagouv_min_interieur, sheet_name='Services PN 2017')\n",
    "df_pn2018=pd.read_excel(url_datagouv_min_interieur, sheet_name='Services PN 2018')\n",
    "df_pn2019=pd.read_excel(url_datagouv_min_interieur, sheet_name='Services PN 2019')\n",
    "df_pn2020=pd.read_excel(url_datagouv_min_interieur, sheet_name='Services PN 2020')\n",
    "df_gn2012=pd.read_excel(url_datagouv_min_interieur, sheet_name='Services GN 2012')\n",
    "df_gn2013=pd.read_excel(url_datagouv_min_interieur, sheet_name='Services GN 2013')\n",
    "df_gn2014=pd.read_excel(url_datagouv_min_interieur, sheet_name='Services GN 2014')\n",
    "df_gn2015=pd.read_excel(url_datagouv_min_interieur, sheet_name='Services GN 2015')\n",
    "df_gn2016=pd.read_excel(url_datagouv_min_interieur, sheet_name='Services GN 2016')\n",
    "df_gn2017=pd.read_excel(url_datagouv_min_interieur, sheet_name='Services GN 2017')\n",
    "df_gn2018=pd.read_excel(url_datagouv_min_interieur, sheet_name='Services GN 2018')\n",
    "df_gn2019=pd.read_excel(url_datagouv_min_interieur, sheet_name='Services GN 2019')\n",
    "df_gn2020=pd.read_excel(url_datagouv_min_interieur, sheet_name='Services GN 2020')"
   ]
  },
  {
   "cell_type": "code",
   "execution_count": null,
   "metadata": {},
   "outputs": [],
   "source": [
    "# Données sirene Insee par sirene.fr\n",
    "import requests\n",
    "import io\n",
    "#from IPython.display import display,HTML\n",
    "s = requests.session()\n",
    "URL_ACCUEIL = \"https://www.sirene.fr/sirene/public/creation-fichier\"\n",
    "URL_REQUETE_POST = \"https://www.sirene.fr/sirene/public/verifier-creation-fichier.action\"\n",
    "URL_DEVIS=\"https://www.sirene.fr/sirene/client//sirene/client/devis-demande.action\"\n",
    "\n",
    "URL_RECAP=\"https://www.sirene.fr/sirene/client/telechargement-pret-fichier.action\"\n",
    "URL_TELECHARGEMENT_POST=\"https://www.sirene.fr/sirene/client/telechargement-fichier\"\n",
    "POST_DATA={\n",
    "'fichier.caracteristiques.etat.actif': 'true',\n",
    "'__checkbox_fichier.caracteristiques.etat.actif': 'true',\n",
    "'__checkbox_fichier.caracteristiques.etat.ferme': 'true',\n",
    "'fichier.caracteristiques.typeEtablissement': '1',\n",
    "'fichier.caracteristiques.geoFile': 'false',\n",
    "'fichier.caracteristiques.cjFile': 'false',\n",
    "'fichier.caracteristiques.apeFile': 'false',\n",
    "'fichier.caracteristiques.sirenSiretFile': 'false',\n",
    "'fichiersCriteres.criteresGeographie.upload': '(binaire)',\n",
    "'__multiselect_fichier.criteres.geographie.region.modalites': '',\n",
    "'__multiselect_fichier.criteres.geographie.departement.modalites': '',\n",
    "'fichiersCriteres.criteresActivite.upload': '(binaire)',\n",
    "'__multiselect_fichier.criteres.activite.section.modalites': '',\n",
    "'__multiselect_fichier.criteres.activite.division.modalites': '',\n",
    "'__multiselect_fichier.criteres.activite.groupe.modalites': '',\n",
    "'fichier.criteres.activite.sousClasse.modalites': '4722Z',\n",
    "'__multiselect_fichier.criteres.activite.sousClasse.modalites': '',\n",
    "'fichiersCriteres.criteresNature.upload': '(binaire)',\n",
    "'__multiselect_fichier.criteres.nature.entrepriseNiveau1.modalites': '',\n",
    "'__multiselect_fichier.criteres.nature.entrepriseNiveau2.modalites': '',\n",
    "'__multiselect_fichier.criteres.nature.entrepriseNiveau3.modalites': '',\n",
    "'__multiselect_fichier.criteres.trancheEffectif.modalites': '',\n",
    "'fichier.criteres.dateCreation.date': '',\n",
    "'fichier.criteres.dateCreation.dateFin': '',\n",
    "'fichier.criteres.dateMaj.date': '',\n",
    "'fichier.criteres.dateMaj.dateFin': '',\n",
    "'fichiersCriteres.criteresSirenSiret.upload': '(binaire)',\n",
    "'__multiselect_fichier.criteres.criteresCatEnt.modalites': '',\n",
    "'strutsLocale': 'fr_FR',\n",
    "}\n",
    "\n",
    "result=s.get(URL_ACCUEIL)\n",
    "result=s.post(URL_POST, data=POST_DATA)\n",
    "\n",
    "\n",
    "result=s.get(URL_RECAP)\n",
    "\n",
    "result=s.get(URL_DEVIS)\n",
    "\n",
    "result=s.post(URL_TELECHARGEMENT_POST)\n",
    "\n",
    "dff=pd.read_csv(io.StringIO(result.content.decode('utf-8')))\n",
    "dff"
   ]
  }
 ],
 "metadata": {
  "colab": {
   "name": "get_data.ipynb",
   "provenance": [],
   "toc_visible": true
  },
  "kernelspec": {
   "display_name": "Python 3 (ipykernel)",
   "language": "python",
   "name": "python3"
  },
  "language_info": {
   "codemirror_mode": {
    "name": "ipython",
    "version": 3
   },
   "file_extension": ".py",
   "mimetype": "text/x-python",
   "name": "python",
   "nbconvert_exporter": "python",
   "pygments_lexer": "ipython3",
   "version": "3.9.7"
  }
 },
 "nbformat": 4,
 "nbformat_minor": 4
}
